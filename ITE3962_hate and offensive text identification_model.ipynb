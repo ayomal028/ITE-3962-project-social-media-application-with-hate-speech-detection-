{
 "cells": [
  {
   "cell_type": "code",
   "execution_count": 2,
   "id": "907223b4",
   "metadata": {
    "collapsed": true
   },
   "outputs": [],
   "source": [
    "import nltk\n",
    "import string\n",
    "import pandas as pd\n",
    "import numpy as np\n",
    "import re\n",
    "import string\n",
    "from matplotlib import pyplot as plt\n",
    "from nltk.stem.porter import *\n",
    "from nltk.tokenize import word_tokenize\n",
    "from nltk.corpus import stopwords\n",
    "#from textstat.textstat import *\n",
    "import warnings\n",
    "warnings.filterwarnings('ignore')"
   ]
  },
  {
   "cell_type": "code",
   "execution_count": 3,
   "id": "db2a526e",
   "metadata": {
    "collapsed": true
   },
   "outputs": [],
   "source": [
    "hate_df = pd.read_csv(\"C:\\\\Users\\\\User\\\\Desktop\\\\ITE-3962 project\\\\dataset\\\\Dataset1_labeled_data.csv\")"
   ]
  },
  {
   "cell_type": "code",
   "execution_count": 4,
   "id": "2778ebae",
   "metadata": {},
   "outputs": [
    {
     "data": {
      "text/html": [
       "<div>\n",
       "<style scoped>\n",
       "    .dataframe tbody tr th:only-of-type {\n",
       "        vertical-align: middle;\n",
       "    }\n",
       "\n",
       "    .dataframe tbody tr th {\n",
       "        vertical-align: top;\n",
       "    }\n",
       "\n",
       "    .dataframe thead th {\n",
       "        text-align: right;\n",
       "    }\n",
       "</style>\n",
       "<table border=\"1\" class=\"dataframe\">\n",
       "  <thead>\n",
       "    <tr style=\"text-align: right;\">\n",
       "      <th></th>\n",
       "      <th>Unnamed: 0</th>\n",
       "      <th>count</th>\n",
       "      <th>hate_speech</th>\n",
       "      <th>offensive_language</th>\n",
       "      <th>neither</th>\n",
       "      <th>class</th>\n",
       "      <th>tweet</th>\n",
       "    </tr>\n",
       "  </thead>\n",
       "  <tbody>\n",
       "    <tr>\n",
       "      <th>0</th>\n",
       "      <td>0</td>\n",
       "      <td>3</td>\n",
       "      <td>0</td>\n",
       "      <td>0</td>\n",
       "      <td>3</td>\n",
       "      <td>2</td>\n",
       "      <td>!!! RT @mayasolovely: As a woman you shouldn't...</td>\n",
       "    </tr>\n",
       "    <tr>\n",
       "      <th>1</th>\n",
       "      <td>1</td>\n",
       "      <td>3</td>\n",
       "      <td>0</td>\n",
       "      <td>3</td>\n",
       "      <td>0</td>\n",
       "      <td>1</td>\n",
       "      <td>!!!!! RT @mleew17: boy dats cold...tyga dwn ba...</td>\n",
       "    </tr>\n",
       "    <tr>\n",
       "      <th>2</th>\n",
       "      <td>2</td>\n",
       "      <td>3</td>\n",
       "      <td>0</td>\n",
       "      <td>3</td>\n",
       "      <td>0</td>\n",
       "      <td>1</td>\n",
       "      <td>!!!!!!! RT @UrKindOfBrand Dawg!!!! RT @80sbaby...</td>\n",
       "    </tr>\n",
       "    <tr>\n",
       "      <th>3</th>\n",
       "      <td>3</td>\n",
       "      <td>3</td>\n",
       "      <td>0</td>\n",
       "      <td>2</td>\n",
       "      <td>1</td>\n",
       "      <td>1</td>\n",
       "      <td>!!!!!!!!! RT @C_G_Anderson: @viva_based she lo...</td>\n",
       "    </tr>\n",
       "    <tr>\n",
       "      <th>4</th>\n",
       "      <td>4</td>\n",
       "      <td>6</td>\n",
       "      <td>0</td>\n",
       "      <td>6</td>\n",
       "      <td>0</td>\n",
       "      <td>1</td>\n",
       "      <td>!!!!!!!!!!!!! RT @ShenikaRoberts: The shit you...</td>\n",
       "    </tr>\n",
       "    <tr>\n",
       "      <th>...</th>\n",
       "      <td>...</td>\n",
       "      <td>...</td>\n",
       "      <td>...</td>\n",
       "      <td>...</td>\n",
       "      <td>...</td>\n",
       "      <td>...</td>\n",
       "      <td>...</td>\n",
       "    </tr>\n",
       "    <tr>\n",
       "      <th>24778</th>\n",
       "      <td>25291</td>\n",
       "      <td>3</td>\n",
       "      <td>0</td>\n",
       "      <td>2</td>\n",
       "      <td>1</td>\n",
       "      <td>1</td>\n",
       "      <td>you's a muthaf***in lie &amp;#8220;@LifeAsKing: @2...</td>\n",
       "    </tr>\n",
       "    <tr>\n",
       "      <th>24779</th>\n",
       "      <td>25292</td>\n",
       "      <td>3</td>\n",
       "      <td>0</td>\n",
       "      <td>1</td>\n",
       "      <td>2</td>\n",
       "      <td>2</td>\n",
       "      <td>you've gone and broke the wrong heart baby, an...</td>\n",
       "    </tr>\n",
       "    <tr>\n",
       "      <th>24780</th>\n",
       "      <td>25294</td>\n",
       "      <td>3</td>\n",
       "      <td>0</td>\n",
       "      <td>3</td>\n",
       "      <td>0</td>\n",
       "      <td>1</td>\n",
       "      <td>young buck wanna eat!!.. dat nigguh like I ain...</td>\n",
       "    </tr>\n",
       "    <tr>\n",
       "      <th>24781</th>\n",
       "      <td>25295</td>\n",
       "      <td>6</td>\n",
       "      <td>0</td>\n",
       "      <td>6</td>\n",
       "      <td>0</td>\n",
       "      <td>1</td>\n",
       "      <td>youu got wild bitches tellin you lies</td>\n",
       "    </tr>\n",
       "    <tr>\n",
       "      <th>24782</th>\n",
       "      <td>25296</td>\n",
       "      <td>3</td>\n",
       "      <td>0</td>\n",
       "      <td>0</td>\n",
       "      <td>3</td>\n",
       "      <td>2</td>\n",
       "      <td>~~Ruffled | Ntac Eileen Dahlia - Beautiful col...</td>\n",
       "    </tr>\n",
       "  </tbody>\n",
       "</table>\n",
       "<p>24783 rows × 7 columns</p>\n",
       "</div>"
      ],
      "text/plain": [
       "       Unnamed: 0  count  hate_speech  offensive_language  neither  class  \\\n",
       "0               0      3            0                   0        3      2   \n",
       "1               1      3            0                   3        0      1   \n",
       "2               2      3            0                   3        0      1   \n",
       "3               3      3            0                   2        1      1   \n",
       "4               4      6            0                   6        0      1   \n",
       "...           ...    ...          ...                 ...      ...    ...   \n",
       "24778       25291      3            0                   2        1      1   \n",
       "24779       25292      3            0                   1        2      2   \n",
       "24780       25294      3            0                   3        0      1   \n",
       "24781       25295      6            0                   6        0      1   \n",
       "24782       25296      3            0                   0        3      2   \n",
       "\n",
       "                                                   tweet  \n",
       "0      !!! RT @mayasolovely: As a woman you shouldn't...  \n",
       "1      !!!!! RT @mleew17: boy dats cold...tyga dwn ba...  \n",
       "2      !!!!!!! RT @UrKindOfBrand Dawg!!!! RT @80sbaby...  \n",
       "3      !!!!!!!!! RT @C_G_Anderson: @viva_based she lo...  \n",
       "4      !!!!!!!!!!!!! RT @ShenikaRoberts: The shit you...  \n",
       "...                                                  ...  \n",
       "24778  you's a muthaf***in lie &#8220;@LifeAsKing: @2...  \n",
       "24779  you've gone and broke the wrong heart baby, an...  \n",
       "24780  young buck wanna eat!!.. dat nigguh like I ain...  \n",
       "24781              youu got wild bitches tellin you lies  \n",
       "24782  ~~Ruffled | Ntac Eileen Dahlia - Beautiful col...  \n",
       "\n",
       "[24783 rows x 7 columns]"
      ]
     },
     "execution_count": 4,
     "metadata": {},
     "output_type": "execute_result"
    }
   ],
   "source": [
    "hate_df"
   ]
  },
  {
   "cell_type": "code",
   "execution_count": 84,
   "id": "4d2ac84b",
   "metadata": {
    "collapsed": true
   },
   "outputs": [
    {
     "data": {
      "text/plain": [
       "1    19190\n",
       "2     4163\n",
       "0     1430\n",
       "Name: class, dtype: int64"
      ]
     },
     "execution_count": 84,
     "metadata": {},
     "output_type": "execute_result"
    }
   ],
   "source": [
    "hate_df['class'].value_counts() #count of tweets for each class labels"
   ]
  },
  {
   "cell_type": "code",
   "execution_count": 85,
   "id": "b871f4cb",
   "metadata": {},
   "outputs": [
    {
     "data": {
      "text/plain": [
       "Text(0.5, 1.0, 'Tweet distribution among 3 classes')"
      ]
     },
     "execution_count": 85,
     "metadata": {},
     "output_type": "execute_result"
    },
    {
     "data": {
      "image/png": "[encoded data removed]",
      "text/plain": [
       "<Figure size 432x288 with 1 Axes>"
      ]
     },
     "metadata": {
      "needs_background": "light"
     },
     "output_type": "display_data"
    }
   ],
   "source": [
    "plt.hist(hate_df['class'], align='mid')\n",
    "plt.ylabel('count', fontsize=15)\n",
    "col_labels=['Hate speech', 'Offensive language', 'Neither']\n",
    "x_values=np.arange(0, len(col_labels))\n",
    "plt.xlabel('Class', fontsize=15)\n",
    "plt.xticks(x_values, col_labels)\n",
    "plt.title('Tweet distribution among 3 classes', fontsize=17)"
   ]
  },
  {
   "cell_type": "markdown",
   "id": "41f1e7b3",
   "metadata": {},
   "source": [
    "We can see that the offensive class is highly populated compared to the other two classes. This can cause some bias towards the offensive class when later training the model.\n",
    "One solution would be to balance the dataset using oversampling and undersampling.\n",
    "I will try that in a later step of the process"
   ]
  },
  {
   "cell_type": "markdown",
   "id": "a87f8369",
   "metadata": {},
   "source": [
    "# 2. Data Preprocessing "
   ]
  },
  {
   "cell_type": "markdown",
   "id": "8ac7ebd9",
   "metadata": {},
   "source": [
    "First I will clean the tweets in the dataset. following operations will be performed in preprocessing step.\n",
    "- tokenize\n",
    "- remove stopwords\n",
    "- stem\n",
    "- remove URLs\n",
    "- remove @mention tags\n",
    "- remove punctutations\n",
    "- remove numbers\n",
    "- remove spaces\n",
    "- lowercase\n"
   ]
  },
  {
   "cell_type": "code",
   "execution_count": 5,
   "id": "905514e4",
   "metadata": {
    "collapsed": true
   },
   "outputs": [],
   "source": [
    "hate_df = hate_df.drop(columns=['Unnamed: 0'])"
   ]
  },
  {
   "cell_type": "code",
   "execution_count": 6,
   "id": "68a26117",
   "metadata": {
    "collapsed": true
   },
   "outputs": [
    {
     "data": {
      "text/plain": [
       "0        !!! RT @mayasolovely: As a woman you shouldn't...\n",
       "1        !!!!! RT @mleew17: boy dats cold...tyga dwn ba...\n",
       "2        !!!!!!! RT @UrKindOfBrand Dawg!!!! RT @80sbaby...\n",
       "3        !!!!!!!!! RT @C_G_Anderson: @viva_based she lo...\n",
       "4        !!!!!!!!!!!!! RT @ShenikaRoberts: The shit you...\n",
       "                               ...                        \n",
       "24778    you's a muthaf***in lie &#8220;@LifeAsKing: @2...\n",
       "24779    you've gone and broke the wrong heart baby, an...\n",
       "24780    young buck wanna eat!!.. dat nigguh like I ain...\n",
       "24781                youu got wild bitches tellin you lies\n",
       "24782    ~~Ruffled | Ntac Eileen Dahlia - Beautiful col...\n",
       "Name: tweet, Length: 24783, dtype: object"
      ]
     },
     "execution_count": 6,
     "metadata": {},
     "output_type": "execute_result"
    }
   ],
   "source": [
    "tweet=hate_df.tweet\n",
    "tweet"
   ]
  },
  {
   "cell_type": "code",
   "execution_count": 7,
   "id": "f6ecbe3c",
   "metadata": {
    "collapsed": true
   },
   "outputs": [
    {
     "name": "stdout",
     "output_type": "stream",
     "text": [
      "['i', 'me', 'my', 'myself', 'we', 'our', 'ours', 'ourselves', 'you', \"you're\", \"you've\", \"you'll\", \"you'd\", 'your', 'yours', 'yourself', 'yourselves', 'he', 'him', 'his', 'himself', 'she', \"she's\", 'her', 'hers', 'herself', 'it', \"it's\", 'its', 'itself', 'they', 'them', 'their', 'theirs', 'themselves', 'what', 'which', 'who', 'whom', 'this', 'that', \"that'll\", 'these', 'those', 'am', 'is', 'are', 'was', 'were', 'be', 'been', 'being', 'have', 'has', 'had', 'having', 'do', 'does', 'did', 'doing', 'a', 'an', 'the', 'and', 'but', 'if', 'or', 'because', 'as', 'until', 'while', 'of', 'at', 'by', 'for', 'with', 'about', 'against', 'between', 'into', 'through', 'during', 'before', 'after', 'above', 'below', 'to', 'from', 'up', 'down', 'in', 'out', 'on', 'off', 'over', 'under', 'again', 'further', 'then', 'once', 'here', 'there', 'when', 'where', 'why', 'how', 'all', 'any', 'both', 'each', 'few', 'more', 'most', 'other', 'some', 'such', 'no', 'nor', 'not', 'only', 'own', 'same', 'so', 'than', 'too', 'very', 's', 't', 'can', 'will', 'just', 'don', \"don't\", 'should', \"should've\", 'now', 'd', 'll', 'm', 'o', 're', 've', 'y', 'ain', 'aren', \"aren't\", 'couldn', \"couldn't\", 'didn', \"didn't\", 'doesn', \"doesn't\", 'hadn', \"hadn't\", 'hasn', \"hasn't\", 'haven', \"haven't\", 'isn', \"isn't\", 'ma', 'mightn', \"mightn't\", 'mustn', \"mustn't\", 'needn', \"needn't\", 'shan', \"shan't\", 'shouldn', \"shouldn't\", 'wasn', \"wasn't\", 'weren', \"weren't\", 'won', \"won't\", 'wouldn', \"wouldn't\"]\n"
     ]
    },
    {
     "name": "stderr",
     "output_type": "stream",
     "text": [
      "[nltk_data] Downloading package stopwords to\n",
      "[nltk_data]     C:\\Users\\User\\AppData\\Roaming\\nltk_data...\n",
      "[nltk_data]   Package stopwords is already up-to-date!\n"
     ]
    }
   ],
   "source": [
    "#load stopwords\n",
    "nltk.download('stopwords')\n",
    "stop_words = stopwords.words(\"english\")\n",
    "print(stop_words)#print the stopwords list"
   ]
  },
  {
   "cell_type": "code",
   "execution_count": 8,
   "id": "4a859b66",
   "metadata": {
    "collapsed": true
   },
   "outputs": [],
   "source": [
    "stop_words.remove(\"not\")"
   ]
  },
  {
   "cell_type": "code",
   "execution_count": 9,
   "id": "0c3e5b82",
   "metadata": {
    "collapsed": true
   },
   "outputs": [],
   "source": [
    "stop_words.extend(\"rt\")"
   ]
  },
  {
   "cell_type": "code",
   "execution_count": 10,
   "id": "a94dec01",
   "metadata": {},
   "outputs": [
    {
     "name": "stdout",
     "output_type": "stream",
     "text": [
      "                                               tweet  \\\n",
      "0  !!! RT @mayasolovely: As a woman you shouldn't...   \n",
      "1  !!!!! RT @mleew17: boy dats cold...tyga dwn ba...   \n",
      "2  !!!!!!! RT @UrKindOfBrand Dawg!!!! RT @80sbaby...   \n",
      "3  !!!!!!!!! RT @C_G_Anderson: @viva_based she lo...   \n",
      "4  !!!!!!!!!!!!! RT @ShenikaRoberts: The shit you...   \n",
      "5  !!!!!!!!!!!!!!!!!!\"@T_Madison_x: The shit just...   \n",
      "6  !!!!!!\"@__BrighterDays: I can not just sit up ...   \n",
      "7  !!!!&#8220;@selfiequeenbri: cause I'm tired of...   \n",
      "8  \" &amp; you might not get ya bitch back &amp; ...   \n",
      "9  \" @rhythmixx_ :hobbies include: fighting Maria...   \n",
      "\n",
      "                                 preprocessed_tweets  \n",
      "0  rt woman complain clean hous amp man alway tak...  \n",
      "1  rt boy dat cold tyga dwn bad cuffin dat hoe st...  \n",
      "2   rt dawg rt ever fuck bitch start cri confus shit  \n",
      "3                                rt look like tranni  \n",
      "4  rt shit hear might true might faker bitch told ya  \n",
      "5      shit blow claim faith somebodi still fuck hoe  \n",
      "6          not sit hate anoth bitch got much shit go  \n",
      "7            caus tire big bitch come us skinni girl  \n",
      "8           amp might not get ya bitch back amp that  \n",
      "9                    hobbi includ fight mariam bitch  \n"
     ]
    }
   ],
   "source": [
    "stemmer = PorterStemmer()\n",
    "\n",
    "def preprocess(tweet):\n",
    "    \n",
    "    #remove extra spaces\n",
    "    regex_pattern = re.compile(r'\\s+')\n",
    "    tweet_space_removed = tweet.str.replace(regex_pattern, ' ')\n",
    "    \n",
    "    #remove mentions(@)\n",
    "    regex_patten = re.compile(r'@[\\w\\-]+')\n",
    "    tweets = tweet_space_removed.str.replace(regex_patten, '')\n",
    "    \n",
    "    #remove URLs\n",
    "    url_regex = re.compile('http[s]?://(?:[a-zA-Z]|[0-9]|[$-_@.&+]|'\n",
    "                           '[!*\\(\\),]|(?:%[0-9a-fA-F][0-9a-fA-F]))+')\n",
    "    tweets_new = tweets.str.replace(url_regex, '')\n",
    "    \n",
    "    #remove numbers and punctuations\n",
    "    remove_punc_num = tweets_new.str.replace(\"[^a-zA-Z]\", \" \")\n",
    "    \n",
    "    #replace whitespaces with space\n",
    "    newtweet = remove_punc_num.str.replace(r'\\s+', ' ')\n",
    "    \n",
    "    #remove leading and trailing whitespaces\n",
    "    newtweet = newtweet.str.replace(r'^\\s+|\\s+?$','')\n",
    "    \n",
    "    #lowercase\n",
    "    tweets_lower = newtweet.str.lower()\n",
    "    \n",
    "    #tokenize\n",
    "    tokenized_tweet = tweets_lower.apply(lambda x: x.split())\n",
    "    \n",
    "    #remove stop words\n",
    "    tokenized_tweet = tokenized_tweet.apply(lambda x: [item for item in x if item not in stop_words])\n",
    "    \n",
    "    #stem the tweet\n",
    "    tokenized_tweet = tokenized_tweet.apply(lambda x: [stemmer.stem(i) for i in x])\n",
    "    \n",
    "    for i in range(len(tokenized_tweet)):\n",
    "        tokenized_tweet[i] = ' '.join(tokenized_tweet[i])\n",
    "        pre_tweets = tokenized_tweet\n",
    "        \n",
    "    return pre_tweets\n",
    "    \n",
    "preprocessed_tweets = preprocess(tweet)\n",
    "    \n",
    "hate_df['preprocessed_tweets'] = preprocessed_tweets\n",
    "print(hate_df[[\"tweet\",\"preprocessed_tweets\"]].head(10))\n"
   ]
  },
  {
   "cell_type": "markdown",
   "id": "b9da1ecb",
   "metadata": {},
   "source": [
    "# Feature Extraction"
   ]
  },
  {
   "cell_type": "markdown",
   "id": "0350c49d",
   "metadata": {},
   "source": [
    "* Features are the variables that the machine learning algorithms use to train with. features are also known as independant variables.\n",
    "* I planned to extract three different feature sets to be used to compare to find out which features are more useful\n",
    "* 1. TF-IDF - Term Frequency- Inverse Document Frequency\n",
    "* 2. Polarity scores by doing a sentiment analysis\n",
    "* 3. FKRA and FRE scores with some additional featurs\n",
    "***\n"
   ]
  },
  {
   "cell_type": "markdown",
   "id": "9d05ec14",
   "metadata": {},
   "source": [
    "# 1: tf-idf"
   ]
  },
  {
   "cell_type": "markdown",
   "id": "63807ffc",
   "metadata": {},
   "source": [
    "* The term frequency-inverse document frequency vector is a method of determining the importance of a word or phrase. The presence of a unique word in a text may be determined using TF-IDF. This might be an important feature in recognizing the significance of various words in understanding specific different types of speech\n",
    "* They are intended as weighting factors reflecting the importance of a word in a tweet among a collection of tweets.\n",
    "* The term frequency represents the number of appearance of a word in a document, and the adjustment is made by the inverse document frequency. The inverse document frequency role is to give more weight to meaningful words, and reduce the weight of word not giving relevant information."
   ]
  },
  {
   "cell_type": "code",
   "execution_count": 11,
   "id": "2aa5a2c6",
   "metadata": {
    "collapsed": true
   },
   "outputs": [],
   "source": [
    "from sklearn.feature_extraction.text import TfidfVectorizer\n",
    "tfidf_vectorizer = TfidfVectorizer(ngram_range=(1, 2),max_df=0.75, min_df=5, max_features=10000)\n",
    "tfidf = tfidf_vectorizer.fit_transform(hate_df['preprocessed_tweets'])"
   ]
  },
  {
   "cell_type": "code",
   "execution_count": 12,
   "id": "1e6c13f3",
   "metadata": {},
   "outputs": [
    {
     "data": {
      "text/plain": [
       "<24783x6794 sparse matrix of type '<class 'numpy.float64'>'\n",
       "\twith 203497 stored elements in Compressed Sparse Row format>"
      ]
     },
     "execution_count": 12,
     "metadata": {},
     "output_type": "execute_result"
    }
   ],
   "source": [
    "tfidf"
   ]
  },
  {
   "cell_type": "code",
   "execution_count": 13,
   "id": "a868686f",
   "metadata": {},
   "outputs": [
    {
     "name": "stdout",
     "output_type": "stream",
     "text": [
      "  (0, 5899)\t0.3895484939875555\n",
      "  (0, 5185)\t0.4144986349231078\n",
      "  (0, 6172)\t0.19246718350590478\n",
      "  (0, 5886)\t0.2435832297238816\n",
      "  (0, 103)\t0.25748371192925085\n",
      "  (0, 3652)\t0.22598841095809424\n",
      "  (0, 124)\t0.20746703102056352\n",
      "  (0, 2906)\t0.2935344050923211\n",
      "  (0, 1197)\t0.336083058427105\n",
      "  (0, 1273)\t0.34173224409911557\n",
      "  (0, 6613)\t0.3043869233998087\n",
      "  (0, 4909)\t0.10539761982292996\n",
      "  (1, 1463)\t0.3318876699404794\n",
      "  (1, 4932)\t0.336404015570907\n",
      "  (1, 4441)\t0.2755968294869668\n",
      "  (1, 5691)\t0.28194530204137186\n",
      "  (1, 2725)\t0.1143921832686951\n",
      "  (1, 1395)\t0.3540802182468746\n",
      "  (1, 321)\t0.19523151408628528\n",
      "  (1, 6295)\t0.3340830834194979\n",
      "  (1, 1229)\t0.28194530204137186\n",
      "  (1, 1461)\t0.4413283020640348\n",
      "  (1, 896)\t0.22472806570675913\n",
      "  (1, 4909)\t0.0910186615717789\n",
      "  (2, 727)\t0.3390168249843799\n",
      "  :\t:\n",
      "  (24780, 966)\t0.343011332843257\n",
      "  (24780, 63)\t0.37409643142606824\n",
      "  (24780, 4110)\t0.26604418498734955\n",
      "  (24780, 1552)\t0.2613777761879398\n",
      "  (24780, 2196)\t0.2280990649157048\n",
      "  (24780, 1720)\t0.21384505532921141\n",
      "  (24780, 6424)\t0.21706201572242145\n",
      "  (24780, 6775)\t0.2640345866050825\n",
      "  (24780, 59)\t0.22992687608371262\n",
      "  (24780, 3363)\t0.13224867315276312\n",
      "  (24780, 1461)\t0.2216496098185776\n",
      "  (24781, 5979)\t0.6189846532704482\n",
      "  (24781, 6573)\t0.5563882350726619\n",
      "  (24781, 3350)\t0.45141241139049565\n",
      "  (24781, 2471)\t0.2924821464067444\n",
      "  (24781, 474)\t0.13405655435044156\n",
      "  (24782, 1245)\t0.4330856162672851\n",
      "  (24782, 4430)\t0.3599215657537571\n",
      "  (24782, 142)\t0.4330856162672851\n",
      "  (24782, 4293)\t0.38472304857080997\n",
      "  (24782, 1235)\t0.2679839584174029\n",
      "  (24782, 386)\t0.32936306298879203\n",
      "  (24782, 6742)\t0.25824505050980634\n",
      "  (24782, 6538)\t0.24155660192140488\n",
      "  (24782, 124)\t0.20489707927022777\n"
     ]
    }
   ],
   "source": [
    "print(tfidf)"
   ]
  },
  {
   "cell_type": "code",
   "execution_count": 14,
   "id": "efeaa3c6",
   "metadata": {
    "collapsed": true
   },
   "outputs": [],
   "source": [
    "tfidf_a = tfidf.toarray()"
   ]
  },
  {
   "cell_type": "code",
   "execution_count": 15,
   "id": "05c028a1",
   "metadata": {
    "collapsed": true
   },
   "outputs": [
    {
     "data": {
      "text/plain": [
       "array([[0., 0., 0., ..., 0., 0., 0.],\n",
       "       [0., 0., 0., ..., 0., 0., 0.],\n",
       "       [0., 0., 0., ..., 0., 0., 0.],\n",
       "       ...,\n",
       "       [0., 0., 0., ..., 0., 0., 0.],\n",
       "       [0., 0., 0., ..., 0., 0., 0.],\n",
       "       [0., 0., 0., ..., 0., 0., 0.]])"
      ]
     },
     "execution_count": 15,
     "metadata": {},
     "output_type": "execute_result"
    }
   ],
   "source": [
    "tfidf_a"
   ]
  },
  {
   "cell_type": "markdown",
   "id": "c340cbe8",
   "metadata": {},
   "source": [
    "## 2: Polarity Scores using sentiment  Analysis"
   ]
  },
  {
   "cell_type": "markdown",
   "id": "74496226",
   "metadata": {},
   "source": [
    "* Text classification extends beyond simple analytical processing. It is critical to understand the sentiment underlying the message; else, its real meaning will most likely be misunderstood and/or misinterpreted. Vader sentiment of NLTK will be used to capture polarity scores (positive, negative, and neutral) of each sentence to be used as a set of features for ML algorithms"
   ]
  },
  {
   "cell_type": "code",
   "execution_count": 16,
   "id": "d07b84df",
   "metadata": {
    "collapsed": true
   },
   "outputs": [
    {
     "name": "stderr",
     "output_type": "stream",
     "text": [
      "[nltk_data] Downloading package vader_lexicon to\n",
      "[nltk_data]     C:\\Users\\User\\AppData\\Roaming\\nltk_data...\n",
      "[nltk_data]   Package vader_lexicon is already up-to-date!\n"
     ]
    },
    {
     "data": {
      "text/plain": [
       "True"
      ]
     },
     "execution_count": 16,
     "metadata": {},
     "output_type": "execute_result"
    }
   ],
   "source": [
    "from nltk.sentiment.vader import SentimentIntensityAnalyzer as VS\n",
    "nltk.download('vader_lexicon')"
   ]
  },
  {
   "cell_type": "code",
   "execution_count": 17,
   "id": "db0b43c7",
   "metadata": {
    "collapsed": true
   },
   "outputs": [
    {
     "data": {
      "text/html": [
       "<div>\n",
       "<style scoped>\n",
       "    .dataframe tbody tr th:only-of-type {\n",
       "        vertical-align: middle;\n",
       "    }\n",
       "\n",
       "    .dataframe tbody tr th {\n",
       "        vertical-align: top;\n",
       "    }\n",
       "\n",
       "    .dataframe thead th {\n",
       "        text-align: right;\n",
       "    }\n",
       "</style>\n",
       "<table border=\"1\" class=\"dataframe\">\n",
       "  <thead>\n",
       "    <tr style=\"text-align: right;\">\n",
       "      <th></th>\n",
       "      <th>Neg</th>\n",
       "      <th>Pos</th>\n",
       "      <th>Neu</th>\n",
       "      <th>compound</th>\n",
       "    </tr>\n",
       "  </thead>\n",
       "  <tbody>\n",
       "    <tr>\n",
       "      <th>0</th>\n",
       "      <td>0.000</td>\n",
       "      <td>0.120</td>\n",
       "      <td>0.880</td>\n",
       "      <td>0.4563</td>\n",
       "    </tr>\n",
       "    <tr>\n",
       "      <th>1</th>\n",
       "      <td>0.237</td>\n",
       "      <td>0.000</td>\n",
       "      <td>0.763</td>\n",
       "      <td>-0.6876</td>\n",
       "    </tr>\n",
       "    <tr>\n",
       "      <th>2</th>\n",
       "      <td>0.538</td>\n",
       "      <td>0.000</td>\n",
       "      <td>0.462</td>\n",
       "      <td>-0.9550</td>\n",
       "    </tr>\n",
       "    <tr>\n",
       "      <th>3</th>\n",
       "      <td>0.000</td>\n",
       "      <td>0.344</td>\n",
       "      <td>0.656</td>\n",
       "      <td>0.5673</td>\n",
       "    </tr>\n",
       "    <tr>\n",
       "      <th>4</th>\n",
       "      <td>0.249</td>\n",
       "      <td>0.081</td>\n",
       "      <td>0.669</td>\n",
       "      <td>-0.7762</td>\n",
       "    </tr>\n",
       "    <tr>\n",
       "      <th>...</th>\n",
       "      <td>...</td>\n",
       "      <td>...</td>\n",
       "      <td>...</td>\n",
       "      <td>...</td>\n",
       "    </tr>\n",
       "    <tr>\n",
       "      <th>24778</th>\n",
       "      <td>0.000</td>\n",
       "      <td>0.000</td>\n",
       "      <td>1.000</td>\n",
       "      <td>0.0000</td>\n",
       "    </tr>\n",
       "    <tr>\n",
       "      <th>24779</th>\n",
       "      <td>0.454</td>\n",
       "      <td>0.000</td>\n",
       "      <td>0.546</td>\n",
       "      <td>-0.8074</td>\n",
       "    </tr>\n",
       "    <tr>\n",
       "      <th>24780</th>\n",
       "      <td>0.000</td>\n",
       "      <td>0.219</td>\n",
       "      <td>0.781</td>\n",
       "      <td>0.4738</td>\n",
       "    </tr>\n",
       "    <tr>\n",
       "      <th>24781</th>\n",
       "      <td>0.573</td>\n",
       "      <td>0.000</td>\n",
       "      <td>0.427</td>\n",
       "      <td>-0.7717</td>\n",
       "    </tr>\n",
       "    <tr>\n",
       "      <th>24782</th>\n",
       "      <td>0.000</td>\n",
       "      <td>0.218</td>\n",
       "      <td>0.782</td>\n",
       "      <td>0.5994</td>\n",
       "    </tr>\n",
       "  </tbody>\n",
       "</table>\n",
       "<p>24783 rows × 4 columns</p>\n",
       "</div>"
      ],
      "text/plain": [
       "         Neg    Pos    Neu  compound\n",
       "0      0.000  0.120  0.880    0.4563\n",
       "1      0.237  0.000  0.763   -0.6876\n",
       "2      0.538  0.000  0.462   -0.9550\n",
       "3      0.000  0.344  0.656    0.5673\n",
       "4      0.249  0.081  0.669   -0.7762\n",
       "...      ...    ...    ...       ...\n",
       "24778  0.000  0.000  1.000    0.0000\n",
       "24779  0.454  0.000  0.546   -0.8074\n",
       "24780  0.000  0.219  0.781    0.4738\n",
       "24781  0.573  0.000  0.427   -0.7717\n",
       "24782  0.000  0.218  0.782    0.5994\n",
       "\n",
       "[24783 rows x 4 columns]"
      ]
     },
     "execution_count": 17,
     "metadata": {},
     "output_type": "execute_result"
    }
   ],
   "source": [
    "sentiment_analyzer=VS()\n",
    "\n",
    "def sentiment_analysis(tweet):\n",
    "    sentiment = sentiment_analyzer.polarity_scores(tweet)\n",
    "    features = [sentiment['neg'], sentiment['pos'], sentiment['neu'], sentiment['compound']]\n",
    "    return features\n",
    "\n",
    "def sentiment_analysis_array(tweets):\n",
    "    features=[]\n",
    "    for t in tweets:\n",
    "        features.append(sentiment_analysis(t))\n",
    "    return np.array(features)\n",
    "\n",
    "sentiment_features=sentiment_analysis_array(tweet)\n",
    "\n",
    "new_features = pd.DataFrame({'Neg':sentiment_features[:,0], 'Pos':sentiment_features[:,1], 'Neu':sentiment_features[:,2], 'compound':sentiment_features[:,3]})\n",
    "new_features"
   ]
  },
  {
   "cell_type": "markdown",
   "id": "acd2657f",
   "metadata": {},
   "source": [
    "## 3: some additional features"
   ]
  },
  {
   "cell_type": "markdown",
   "id": "df570e26",
   "metadata": {},
   "source": [
    "I decided to use Flesh kincaid grade level(*FKGL*) and flesh Reading ease(*FRE*) score as 2 of the additional features.\n",
    "\n",
    "* flesh readability formulas were developed by *rudolf flesh* in 1940. these scores are used to assess the readability of a text\n",
    "* *FRE* gives a text a score between 1-100 with 100 being the highest readability score. this method is used by marketers, research communicators etc.All use it to help them assess the ease by which a piece of text will be understood and engaged with.\n",
    "\n",
    "* *FKGL* is a widely used readability formula which assesses the approximate reading grade level of a text. f a text has a Flesch Kincaid level of 8, this means the reader needs a grade 8 level of reading or above to understand it. Even if they’re an advanced reader, it means the content is less time-consuming to read. \n",
    "\n",
    "to use these formulas, we have to find below featurs:\n",
    "* syllables - total number of syllables per tweet\n",
    "* average syllables - total syllables/total words\n",
    "* number of characters - sum of number of characters in a tweet\n",
    "* total characters - length of a tweet\n",
    "* number of words - number of words in a tweet\n",
    "* number of unique words"
   ]
  },
  {
   "cell_type": "code",
   "execution_count": 18,
   "id": "49739aa0",
   "metadata": {
    "collapsed": true
   },
   "outputs": [],
   "source": [
    "from textstat.textstat import textstat"
   ]
  },
  {
   "cell_type": "code",
   "execution_count": 19,
   "id": "417e3011",
   "metadata": {
    "collapsed": true
   },
   "outputs": [
    {
     "data": {
      "text/html": [
       "<div>\n",
       "<style scoped>\n",
       "    .dataframe tbody tr th:only-of-type {\n",
       "        vertical-align: middle;\n",
       "    }\n",
       "\n",
       "    .dataframe tbody tr th {\n",
       "        vertical-align: top;\n",
       "    }\n",
       "\n",
       "    .dataframe thead th {\n",
       "        text-align: right;\n",
       "    }\n",
       "</style>\n",
       "<table border=\"1\" class=\"dataframe\">\n",
       "  <thead>\n",
       "    <tr style=\"text-align: right;\">\n",
       "      <th></th>\n",
       "      <th>0</th>\n",
       "      <th>1</th>\n",
       "      <th>2</th>\n",
       "      <th>3</th>\n",
       "      <th>4</th>\n",
       "      <th>5</th>\n",
       "      <th>6</th>\n",
       "      <th>7</th>\n",
       "    </tr>\n",
       "  </thead>\n",
       "  <tbody>\n",
       "    <tr>\n",
       "      <th>0</th>\n",
       "      <td>3.7</td>\n",
       "      <td>86.71</td>\n",
       "      <td>13.0</td>\n",
       "      <td>1.3000</td>\n",
       "      <td>53.0</td>\n",
       "      <td>53.0</td>\n",
       "      <td>10.0</td>\n",
       "      <td>10.0</td>\n",
       "    </tr>\n",
       "    <tr>\n",
       "      <th>1</th>\n",
       "      <td>2.9</td>\n",
       "      <td>95.95</td>\n",
       "      <td>14.0</td>\n",
       "      <td>1.1667</td>\n",
       "      <td>52.0</td>\n",
       "      <td>52.0</td>\n",
       "      <td>12.0</td>\n",
       "      <td>11.0</td>\n",
       "    </tr>\n",
       "    <tr>\n",
       "      <th>2</th>\n",
       "      <td>2.5</td>\n",
       "      <td>95.17</td>\n",
       "      <td>12.0</td>\n",
       "      <td>1.2000</td>\n",
       "      <td>48.0</td>\n",
       "      <td>48.0</td>\n",
       "      <td>10.0</td>\n",
       "      <td>9.0</td>\n",
       "    </tr>\n",
       "    <tr>\n",
       "      <th>3</th>\n",
       "      <td>0.7</td>\n",
       "      <td>97.03</td>\n",
       "      <td>5.0</td>\n",
       "      <td>1.2499</td>\n",
       "      <td>19.0</td>\n",
       "      <td>19.0</td>\n",
       "      <td>4.0</td>\n",
       "      <td>4.0</td>\n",
       "    </tr>\n",
       "    <tr>\n",
       "      <th>4</th>\n",
       "      <td>1.3</td>\n",
       "      <td>103.62</td>\n",
       "      <td>11.0</td>\n",
       "      <td>1.1000</td>\n",
       "      <td>49.0</td>\n",
       "      <td>49.0</td>\n",
       "      <td>10.0</td>\n",
       "      <td>9.0</td>\n",
       "    </tr>\n",
       "    <tr>\n",
       "      <th>...</th>\n",
       "      <td>...</td>\n",
       "      <td>...</td>\n",
       "      <td>...</td>\n",
       "      <td>...</td>\n",
       "      <td>...</td>\n",
       "      <td>...</td>\n",
       "      <td>...</td>\n",
       "      <td>...</td>\n",
       "    </tr>\n",
       "    <tr>\n",
       "      <th>24778</th>\n",
       "      <td>1.0</td>\n",
       "      <td>103.70</td>\n",
       "      <td>10.0</td>\n",
       "      <td>1.1111</td>\n",
       "      <td>49.0</td>\n",
       "      <td>49.0</td>\n",
       "      <td>9.0</td>\n",
       "      <td>9.0</td>\n",
       "    </tr>\n",
       "    <tr>\n",
       "      <th>24779</th>\n",
       "      <td>0.8</td>\n",
       "      <td>103.54</td>\n",
       "      <td>9.0</td>\n",
       "      <td>1.1250</td>\n",
       "      <td>47.0</td>\n",
       "      <td>47.0</td>\n",
       "      <td>8.0</td>\n",
       "      <td>8.0</td>\n",
       "    </tr>\n",
       "    <tr>\n",
       "      <th>24780</th>\n",
       "      <td>2.5</td>\n",
       "      <td>95.17</td>\n",
       "      <td>12.0</td>\n",
       "      <td>1.2000</td>\n",
       "      <td>51.0</td>\n",
       "      <td>51.0</td>\n",
       "      <td>10.0</td>\n",
       "      <td>10.0</td>\n",
       "    </tr>\n",
       "    <tr>\n",
       "      <th>24781</th>\n",
       "      <td>-1.4</td>\n",
       "      <td>116.15</td>\n",
       "      <td>6.0</td>\n",
       "      <td>1.0000</td>\n",
       "      <td>30.0</td>\n",
       "      <td>30.0</td>\n",
       "      <td>6.0</td>\n",
       "      <td>6.0</td>\n",
       "    </tr>\n",
       "    <tr>\n",
       "      <th>24782</th>\n",
       "      <td>5.8</td>\n",
       "      <td>76.50</td>\n",
       "      <td>18.0</td>\n",
       "      <td>1.3846</td>\n",
       "      <td>77.0</td>\n",
       "      <td>77.0</td>\n",
       "      <td>13.0</td>\n",
       "      <td>13.0</td>\n",
       "    </tr>\n",
       "  </tbody>\n",
       "</table>\n",
       "<p>24783 rows × 8 columns</p>\n",
       "</div>"
      ],
      "text/plain": [
       "         0       1     2       3     4     5     6     7\n",
       "0      3.7   86.71  13.0  1.3000  53.0  53.0  10.0  10.0\n",
       "1      2.9   95.95  14.0  1.1667  52.0  52.0  12.0  11.0\n",
       "2      2.5   95.17  12.0  1.2000  48.0  48.0  10.0   9.0\n",
       "3      0.7   97.03   5.0  1.2499  19.0  19.0   4.0   4.0\n",
       "4      1.3  103.62  11.0  1.1000  49.0  49.0  10.0   9.0\n",
       "...    ...     ...   ...     ...   ...   ...   ...   ...\n",
       "24778  1.0  103.70  10.0  1.1111  49.0  49.0   9.0   9.0\n",
       "24779  0.8  103.54   9.0  1.1250  47.0  47.0   8.0   8.0\n",
       "24780  2.5   95.17  12.0  1.2000  51.0  51.0  10.0  10.0\n",
       "24781 -1.4  116.15   6.0  1.0000  30.0  30.0   6.0   6.0\n",
       "24782  5.8   76.50  18.0  1.3846  77.0  77.0  13.0  13.0\n",
       "\n",
       "[24783 rows x 8 columns]"
      ]
     },
     "execution_count": 19,
     "metadata": {},
     "output_type": "execute_result"
    }
   ],
   "source": [
    "def additional_features(tweet):\n",
    "    \n",
    "    syllables = textstat.syllable_count(tweet)\n",
    "    num_chars = sum(len(w) for w in tweet)\n",
    "    num_chars_total = len(tweet)\n",
    "    num_words = len(tweet.split())\n",
    "    avg_syl = round(float((syllables+0.001))/float(num_words+0.001),4)\n",
    "    num_unique_terms = len(set(tweet.split()))\n",
    "    \n",
    "    #Modified FKRA grade, where average words per sentence is : number of words/1\n",
    "    FKRA = round(float(0.39 * float(num_words)/1.0) + float(11.8 * avg_syl) - 15.59,1)\n",
    "    ##Modified FRE score, where sentence fixed to 1\n",
    "    FRE = round(206.835 - 1.015*(float(num_words)/1.0) - (84.6*float(avg_syl)),2)\n",
    "    \n",
    "    addit_features = [FKRA, FRE, syllables, avg_syl, num_chars, num_chars_total, num_words, num_unique_terms]\n",
    "    return addit_features\n",
    "\n",
    "def get_additional_features_array(tweets):\n",
    "    features = []\n",
    "    for t in tweets:\n",
    "        features.append(additional_features(t))\n",
    "    return np.array(features)\n",
    "\n",
    "addifeatures = get_additional_features_array(preprocessed_tweets)\n",
    "\n",
    "df_addifeatures = pd.DataFrame(addifeatures)\n",
    "df_addifeatures"
   ]
  },
  {
   "cell_type": "code",
   "execution_count": 20,
   "id": "3fb68e72",
   "metadata": {
    "collapsed": true
   },
   "outputs": [],
   "source": [
    "from wordcloud import WordCloud\n",
    "%matplotlib inline\n",
    "from matplotlib import pyplot as plt\n",
    "from PIL import Image\n",
    "from gensim.test.utils import common_texts\n",
    "import seaborn\n",
    "from sklearn.metrics import confusion_matrix\n",
    "from sklearn.model_selection import train_test_split\n",
    "from sklearn.linear_model import LogisticRegression\n",
    "from sklearn.svm import LinearSVC\n",
    "from sklearn.ensemble import RandomForestClassifier\n",
    "from sklearn.naive_bayes import GaussianNB\n",
    "from sklearn.neighbors import KNeighborsClassifier\n",
    "from sklearn import svm\n",
    "from sklearn.linear_model import SGDClassifier\n",
    "from sklearn.tree import DecisionTreeClassifier\n",
    "from sklearn.metrics import classification_report\n",
    "from sklearn.metrics import accuracy_score, precision_score, recall_score, f1_score, make_scorer, confusion_matrix"
   ]
  },
  {
   "cell_type": "markdown",
   "id": "b3cd1d63",
   "metadata": {},
   "source": [
    "# Finding which feature sets perform the best with selected machine learning algorithms"
   ]
  },
  {
   "cell_type": "markdown",
   "id": "2ad876a4",
   "metadata": {},
   "source": [
    "I compared different combinations of selected 3 feature sets with tf-idf as the main features, with 6 machine learning algorithms:\n",
    "* Logistic Regression\n",
    "* Random forest\n",
    "* Linear SVC of SVM\n",
    "* K neighbours classifier\n",
    "* Naive Bayes\n",
    "* The Gradient Descent\n",
    "\n",
    "The purpose was to find out which features work best with which algorithm. Therefore I can continue with that to further optimization"
   ]
  },
  {
   "cell_type": "markdown",
   "id": "2c44309d",
   "metadata": {},
   "source": [
    "# compare models with tf-idf features only"
   ]
  },
  {
   "cell_type": "markdown",
   "id": "411483cf",
   "metadata": {},
   "source": [
    "## 1: Logistic regression"
   ]
  },
  {
   "cell_type": "code",
   "execution_count": 107,
   "id": "06482469",
   "metadata": {
    "collapsed": true
   },
   "outputs": [
    {
     "name": "stdout",
     "output_type": "stream",
     "text": [
      "              precision    recall  f1-score   support\n",
      "\n",
      "           0       0.56      0.17      0.26       290\n",
      "           1       0.91      0.96      0.94      3832\n",
      "           2       0.85      0.84      0.85       835\n",
      "\n",
      "    accuracy                           0.90      4957\n",
      "   macro avg       0.77      0.66      0.68      4957\n",
      "weighted avg       0.88      0.90      0.88      4957\n",
      "\n",
      "Logistic Regression, Accuracy Score: 0.8975186604801291\n"
     ]
    }
   ],
   "source": [
    "# If you don't specify the random_state in the code, \n",
    "# then every time you run(execute) your code a new random value is generated \n",
    "# and the train and test datasets would have different values each time.\n",
    "X = tfidf\n",
    "y = hate_df['class'].astype(int)\n",
    "\n",
    "X_train_tfidf, X_test_tfidf, y_train, y_test = train_test_split(X, y, random_state=42, test_size=0.2)\n",
    "model_lr = LogisticRegression().fit(X_train_tfidf,y_train)\n",
    "y_preds = model_lr.predict(X_test_tfidf)\n",
    "\n",
    "report = classification_report( y_test, y_preds )\n",
    "print(report)\n",
    "acc1=accuracy_score(y_test,y_preds)\n",
    "print(\"Logistic Regression, Accuracy Score:\" , acc1)\n"
   ]
  },
  {
   "cell_type": "markdown",
   "id": "3f17c9c1",
   "metadata": {},
   "source": [
    "## 2: Random Forest"
   ]
  },
  {
   "cell_type": "code",
   "execution_count": 108,
   "id": "16886ed1",
   "metadata": {
    "collapsed": true
   },
   "outputs": [
    {
     "name": "stdout",
     "output_type": "stream",
     "text": [
      "              precision    recall  f1-score   support\n",
      "\n",
      "           0       0.50      0.18      0.26       290\n",
      "           1       0.93      0.96      0.94      3832\n",
      "           2       0.84      0.91      0.87       835\n",
      "\n",
      "    accuracy                           0.90      4957\n",
      "   macro avg       0.76      0.68      0.69      4957\n",
      "weighted avg       0.89      0.90      0.89      4957\n",
      "\n",
      "Random Forest, Accuracy Score: 0.9049828525317732\n"
     ]
    }
   ],
   "source": [
    "X_train_tfidf, X_test_tfidf, y_train, y_test = train_test_split(X, y, random_state=42, test_size=0.2)\n",
    "model_rf = RandomForestClassifier().fit(X_train_tfidf,y_train)\n",
    "y_preds = model_rf.predict(X_test_tfidf)\n",
    "\n",
    "report = classification_report( y_test, y_preds )\n",
    "print(report)\n",
    "acc2=accuracy_score(y_test,y_preds)\n",
    "print(\"Random Forest, Accuracy Score:\" , acc2)"
   ]
  },
  {
   "cell_type": "markdown",
   "id": "e07c06eb",
   "metadata": {},
   "source": [
    "## 3: Linear SVC"
   ]
  },
  {
   "cell_type": "code",
   "execution_count": 109,
   "id": "3779b83f",
   "metadata": {
    "collapsed": true
   },
   "outputs": [
    {
     "name": "stdout",
     "output_type": "stream",
     "text": [
      "              precision    recall  f1-score   support\n",
      "\n",
      "           0       0.48      0.27      0.34       290\n",
      "           1       0.92      0.95      0.94      3832\n",
      "           2       0.83      0.85      0.84       835\n",
      "\n",
      "    accuracy                           0.89      4957\n",
      "   macro avg       0.75      0.69      0.71      4957\n",
      "weighted avg       0.88      0.89      0.89      4957\n",
      "\n",
      "Linear SVC, Accuracy Score: 0.8940891668347791\n"
     ]
    }
   ],
   "source": [
    "X_train_tfidf, X_test_tfidf, y_train, y_test = train_test_split(X, y, random_state=42, test_size=0.2)\n",
    "model_lsvc = LinearSVC().fit(X_train_tfidf,y_train)\n",
    "y_preds = model_lsvc.predict(X_test_tfidf)\n",
    "\n",
    "report = classification_report( y_test, y_preds )\n",
    "print(report)\n",
    "acc3=accuracy_score(y_test,y_preds)\n",
    "print(\"Linear SVC, Accuracy Score:\" , acc3)"
   ]
  },
  {
   "cell_type": "markdown",
   "id": "f97a3182",
   "metadata": {},
   "source": [
    "## 3: K neighbours classifier"
   ]
  },
  {
   "cell_type": "code",
   "execution_count": 110,
   "id": "320b3c77",
   "metadata": {
    "collapsed": true
   },
   "outputs": [
    {
     "name": "stdout",
     "output_type": "stream",
     "text": [
      "              precision    recall  f1-score   support\n",
      "\n",
      "           0       0.46      0.14      0.22       290\n",
      "           1       0.93      0.34      0.49      3832\n",
      "           2       0.22      0.92      0.36       835\n",
      "\n",
      "    accuracy                           0.42      4957\n",
      "   macro avg       0.53      0.47      0.36      4957\n",
      "weighted avg       0.78      0.42      0.46      4957\n",
      "\n",
      "K neighbours classifier, Accuracy Score: 0.4242485374218277\n"
     ]
    }
   ],
   "source": [
    "X_train_tfidf, X_test_tfidf, y_train, y_test = train_test_split(X, y, random_state=42, test_size=0.2)\n",
    "model_kn = KNeighborsClassifier().fit(X_train_tfidf,y_train)\n",
    "y_preds = model_kn.predict(X_test_tfidf)\n",
    "\n",
    "report = classification_report( y_test, y_preds )\n",
    "print(report)\n",
    "acc4=accuracy_score(y_test,y_preds)\n",
    "print(\"K neighbours classifier, Accuracy Score:\" , acc4)"
   ]
  },
  {
   "cell_type": "markdown",
   "id": "2b046454",
   "metadata": {},
   "source": [
    "## 5: Naive bayes "
   ]
  },
  {
   "cell_type": "code",
   "execution_count": 111,
   "id": "78dc671a",
   "metadata": {
    "collapsed": true
   },
   "outputs": [
    {
     "name": "stdout",
     "output_type": "stream",
     "text": [
      "              precision    recall  f1-score   support\n",
      "\n",
      "           0       0.10      0.38      0.16       290\n",
      "           1       0.89      0.70      0.78      3832\n",
      "           2       0.56      0.60      0.58       835\n",
      "\n",
      "    accuracy                           0.66      4957\n",
      "   macro avg       0.52      0.56      0.51      4957\n",
      "weighted avg       0.79      0.66      0.71      4957\n",
      "\n",
      "Naive bayes, Accuracy Score: 0.6641113576760137\n"
     ]
    }
   ],
   "source": [
    "X_train_tfidf, X_test_tfidf, y_train, y_test = train_test_split(X.toarray(), y, random_state=42, test_size=0.2)#used X.toarray() instead of X\n",
    "model_nb = GaussianNB().fit(X_train_tfidf,y_train)\n",
    "y_preds = model_nb.predict(X_test_tfidf)\n",
    "\n",
    "report = classification_report( y_test, y_preds )\n",
    "print(report)\n",
    "acc5=accuracy_score(y_test,y_preds)\n",
    "print(\"Naive bayes, Accuracy Score:\" , acc5)"
   ]
  },
  {
   "cell_type": "markdown",
   "id": "cc42a875",
   "metadata": {},
   "source": [
    "## 6: the gradient descent"
   ]
  },
  {
   "cell_type": "code",
   "execution_count": 112,
   "id": "eb63db9a",
   "metadata": {
    "collapsed": true
   },
   "outputs": [
    {
     "name": "stdout",
     "output_type": "stream",
     "text": [
      "              precision    recall  f1-score   support\n",
      "\n",
      "           0       0.60      0.18      0.28       290\n",
      "           1       0.93      0.96      0.94      3832\n",
      "           2       0.82      0.89      0.85       835\n",
      "\n",
      "    accuracy                           0.90      4957\n",
      "   macro avg       0.78      0.68      0.69      4957\n",
      "weighted avg       0.89      0.90      0.89      4957\n",
      "\n",
      "K neighbours classifier, Accuracy Score: 0.9011498890457939\n"
     ]
    }
   ],
   "source": [
    "X_train_tfidf, X_test_tfidf, y_train, y_test = train_test_split(X, y, random_state=42, test_size=0.2)\n",
    "model_sdgc = SGDClassifier().fit(X_train_tfidf,y_train)\n",
    "y_preds = model_sdgc.predict(X_test_tfidf)\n",
    "\n",
    "report = classification_report( y_test, y_preds )\n",
    "print(report)\n",
    "acc6=accuracy_score(y_test,y_preds)\n",
    "print(\"K neighbours classifier, Accuracy Score:\" , acc6)"
   ]
  },
  {
   "cell_type": "markdown",
   "id": "11858fc2",
   "metadata": {},
   "source": [
    "### Comparisson of the algorithm accuracies with tf-idf features"
   ]
  },
  {
   "cell_type": "code",
   "execution_count": 113,
   "id": "96f00677",
   "metadata": {},
   "outputs": [
    {
     "data": {
      "image/png": "[encoded data removed]",
      "text/plain": [
       "<Figure size 432x288 with 1 Axes>"
      ]
     },
     "metadata": {
      "needs_background": "light"
     },
     "output_type": "display_data"
    }
   ],
   "source": [
    "objects = ('Logistic regression', 'RandomForest', 'linear svc', 'Kneighbors', 'naive bayes', 'gradient descent')\n",
    "algorithm = np.arange(len(objects))\n",
    "performance = [acc1,acc2,acc3,acc4,acc5,acc6]\n",
    "barplot = plt.bar(algorithm, performance, align='center', alpha=0.8, color='green')\n",
    "plt.bar_label(barplot, labels=performance, label_type=\"center\", rotation=90)\n",
    "plt.xticks(algorithm, objects, rotation=60)\n",
    "plt.ylabel('Accuracy')\n",
    "plt.title('Algorithm Comparision for tf-idf')\n",
    "plt.show()"
   ]
  },
  {
   "cell_type": "markdown",
   "id": "9eaef16b",
   "metadata": {},
   "source": [
    "# compare models with tf-idf & Polarity scores combined"
   ]
  },
  {
   "cell_type": "code",
   "execution_count": 114,
   "id": "b23ac27c",
   "metadata": {
    "collapsed": true
   },
   "outputs": [],
   "source": [
    "tfidf_senti = np.concatenate([tfidf_a,sentiment_features],axis=1)"
   ]
  },
  {
   "cell_type": "code",
   "execution_count": 115,
   "id": "22761d43",
   "metadata": {
    "collapsed": true
   },
   "outputs": [
    {
     "data": {
      "text/plain": [
       "array([[ 0.    ,  0.    ,  0.    , ...,  0.12  ,  0.88  ,  0.4563],\n",
       "       [ 0.    ,  0.    ,  0.    , ...,  0.    ,  0.763 , -0.6876],\n",
       "       [ 0.    ,  0.    ,  0.    , ...,  0.    ,  0.462 , -0.955 ],\n",
       "       ...,\n",
       "       [ 0.    ,  0.    ,  0.    , ...,  0.219 ,  0.781 ,  0.4738],\n",
       "       [ 0.    ,  0.    ,  0.    , ...,  0.    ,  0.427 , -0.7717],\n",
       "       [ 0.    ,  0.    ,  0.    , ...,  0.218 ,  0.782 ,  0.5994]])"
      ]
     },
     "execution_count": 115,
     "metadata": {},
     "output_type": "execute_result"
    }
   ],
   "source": [
    "tfidf_senti"
   ]
  },
  {
   "cell_type": "markdown",
   "id": "688d9e6d",
   "metadata": {},
   "source": [
    "## 1: logistic regression"
   ]
  },
  {
   "cell_type": "code",
   "execution_count": 116,
   "id": "1ccd2747",
   "metadata": {
    "collapsed": true
   },
   "outputs": [],
   "source": [
    "X = pd.DataFrame(tfidf_senti)\n",
    "y = hate_df['class'].astype(int)\n",
    "X_train_tfsenti, X_test_tfsenti, y_train, y_test = train_test_split(X, y, random_state=42, test_size=0.2)"
   ]
  },
  {
   "cell_type": "code",
   "execution_count": 117,
   "id": "36717be7",
   "metadata": {
    "collapsed": true
   },
   "outputs": [
    {
     "name": "stdout",
     "output_type": "stream",
     "text": [
      "              precision    recall  f1-score   support\n",
      "\n",
      "           0       0.57      0.18      0.27       290\n",
      "           1       0.92      0.96      0.94      3832\n",
      "           2       0.85      0.85      0.85       835\n",
      "\n",
      "    accuracy                           0.90      4957\n",
      "   macro avg       0.78      0.66      0.69      4957\n",
      "weighted avg       0.88      0.90      0.89      4957\n",
      "\n",
      "Logistic Regression, Accuracy Score: 0.8985273350817027\n"
     ]
    }
   ],
   "source": [
    "X_train_tfsenti, X_test_tfsenti, y_train, y_test = train_test_split(X, y, random_state=42, test_size=0.2)\n",
    "model_lr = LogisticRegression().fit(X_train_tfsenti,y_train)\n",
    "y_preds = model_lr.predict(X_test_tfsenti)\n",
    "\n",
    "report = classification_report( y_test, y_preds )\n",
    "print(report)\n",
    "acc1=accuracy_score(y_test,y_preds)\n",
    "print(\"Logistic Regression, Accuracy Score:\" , acc1)"
   ]
  },
  {
   "cell_type": "markdown",
   "id": "8d228423",
   "metadata": {},
   "source": [
    "## 2: Random Forest"
   ]
  },
  {
   "cell_type": "code",
   "execution_count": 118,
   "id": "c0fcbf20",
   "metadata": {
    "collapsed": true
   },
   "outputs": [
    {
     "name": "stdout",
     "output_type": "stream",
     "text": [
      "              precision    recall  f1-score   support\n",
      "\n",
      "           0       0.53      0.13      0.21       290\n",
      "           1       0.91      0.96      0.94      3832\n",
      "           2       0.85      0.85      0.85       835\n",
      "\n",
      "    accuracy                           0.90      4957\n",
      "   macro avg       0.76      0.65      0.67      4957\n",
      "weighted avg       0.88      0.90      0.88      4957\n",
      "\n",
      "Random forest, Accuracy Score: 0.896913455719185\n"
     ]
    }
   ],
   "source": [
    "X_train_tfsenti, X_test_tfsenti, y_train, y_test = train_test_split(X, y, random_state=42, test_size=0.2)\n",
    "model_rf = RandomForestClassifier().fit(X_train_tfsenti,y_train)\n",
    "y_preds = model_rf.predict(X_test_tfsenti)\n",
    "\n",
    "report = classification_report( y_test, y_preds )\n",
    "print(report)\n",
    "acc2 = accuracy_score(y_test,y_preds)\n",
    "print(\"Random forest, Accuracy Score:\" , acc2)"
   ]
  },
  {
   "cell_type": "markdown",
   "id": "f38ee904",
   "metadata": {},
   "source": [
    "## 3: Linear SVC"
   ]
  },
  {
   "cell_type": "code",
   "execution_count": 119,
   "id": "1d5b5362",
   "metadata": {
    "collapsed": true
   },
   "outputs": [
    {
     "name": "stdout",
     "output_type": "stream",
     "text": [
      "              precision    recall  f1-score   support\n",
      "\n",
      "           0       0.46      0.26      0.33       290\n",
      "           1       0.92      0.95      0.94      3832\n",
      "           2       0.83      0.85      0.84       835\n",
      "\n",
      "    accuracy                           0.89      4957\n",
      "   macro avg       0.74      0.69      0.70      4957\n",
      "weighted avg       0.88      0.89      0.89      4957\n",
      "\n",
      "Linear SVC, Accuracy Score: 0.8926770223925762\n"
     ]
    }
   ],
   "source": [
    "X_train_tfsenti, X_test_tfsenti, y_train, y_test = train_test_split(X, y, random_state=42, test_size=0.2)\n",
    "model_lsvc = LinearSVC().fit(X_train_tfsenti,y_train)\n",
    "y_preds = model_lsvc.predict(X_test_tfsenti)\n",
    "\n",
    "report = classification_report( y_test, y_preds )\n",
    "print(report)\n",
    "acc3 = accuracy_score(y_test,y_preds)\n",
    "print(\"Linear SVC, Accuracy Score:\" , acc3)"
   ]
  },
  {
   "cell_type": "markdown",
   "id": "48f2c78a",
   "metadata": {},
   "source": [
    "## 4: K neighbors"
   ]
  },
  {
   "cell_type": "code",
   "execution_count": 120,
   "id": "dc4aa358",
   "metadata": {
    "collapsed": true
   },
   "outputs": [
    {
     "name": "stdout",
     "output_type": "stream",
     "text": [
      "              precision    recall  f1-score   support\n",
      "\n",
      "           0       0.51      0.19      0.28       290\n",
      "           1       0.92      0.71      0.80      3832\n",
      "           2       0.38      0.86      0.53       835\n",
      "\n",
      "    accuracy                           0.70      4957\n",
      "   macro avg       0.60      0.59      0.54      4957\n",
      "weighted avg       0.80      0.70      0.72      4957\n",
      "\n",
      "K neighbors, Accuracy Score: 0.7046600766592698\n"
     ]
    }
   ],
   "source": [
    "X_train_tfsenti, X_test_tfsenti, y_train, y_test = train_test_split(X, y, random_state=42, test_size=0.2)\n",
    "model_kn = KNeighborsClassifier().fit(X_train_tfsenti,y_train)\n",
    "y_preds = model_kn.predict(X_test_tfsenti)\n",
    "\n",
    "report = classification_report( y_test, y_preds )\n",
    "print(report)\n",
    "acc4 = accuracy_score(y_test,y_preds)\n",
    "print(\"K neighbors, Accuracy Score:\" , acc4)"
   ]
  },
  {
   "cell_type": "markdown",
   "id": "69f7aced",
   "metadata": {},
   "source": [
    "## 5: naive bayes"
   ]
  },
  {
   "cell_type": "code",
   "execution_count": 122,
   "id": "e5de07fb",
   "metadata": {
    "collapsed": true
   },
   "outputs": [
    {
     "name": "stdout",
     "output_type": "stream",
     "text": [
      "              precision    recall  f1-score   support\n",
      "\n",
      "           0       0.10      0.38      0.16       290\n",
      "           1       0.89      0.70      0.78      3832\n",
      "           2       0.56      0.60      0.58       835\n",
      "\n",
      "    accuracy                           0.66      4957\n",
      "   macro avg       0.52      0.56      0.51      4957\n",
      "weighted avg       0.79      0.66      0.71      4957\n",
      "\n",
      "Naive bayes, Accuracy Score: 0.6643130925963284\n"
     ]
    }
   ],
   "source": [
    "X_train_tfsenti, X_test_tfsenti, y_train, y_test = train_test_split(X, y, random_state=42, test_size=0.2)\n",
    "model_nb = GaussianNB().fit(X_train_tfsenti,y_train)\n",
    "y_preds = model_nb.predict(X_test_tfsenti)\n",
    "report = classification_report( y_test, y_preds )\n",
    "print(report)\n",
    "acc5 = accuracy_score(y_test,y_preds)\n",
    "print(\"Naive bayes, Accuracy Score:\" , acc5)"
   ]
  },
  {
   "cell_type": "markdown",
   "id": "861d0a23",
   "metadata": {},
   "source": [
    "## 6: gradient descent"
   ]
  },
  {
   "cell_type": "code",
   "execution_count": 123,
   "id": "dcce1a21",
   "metadata": {
    "collapsed": true
   },
   "outputs": [
    {
     "name": "stdout",
     "output_type": "stream",
     "text": [
      "              precision    recall  f1-score   support\n",
      "\n",
      "           0       0.60      0.19      0.29       290\n",
      "           1       0.93      0.96      0.94      3832\n",
      "           2       0.82      0.91      0.87       835\n",
      "\n",
      "    accuracy                           0.90      4957\n",
      "   macro avg       0.78      0.69      0.70      4957\n",
      "weighted avg       0.89      0.90      0.89      4957\n",
      "\n",
      "the gradient descent, Accuracy Score: 0.9047811176114585\n"
     ]
    }
   ],
   "source": [
    "X_train_tfsenti, X_test_tfsenti, y_train, y_test = train_test_split(X, y, random_state=42, test_size=0.2)\n",
    "model_sgdc = SGDClassifier().fit(X_train_tfsenti,y_train)\n",
    "y_preds = model_sgdc.predict(X_test_tfsenti)\n",
    "\n",
    "report = classification_report( y_test, y_preds )\n",
    "print(report)\n",
    "acc6 = accuracy_score(y_test,y_preds)\n",
    "print(\"the gradient descent, Accuracy Score:\" , acc6)"
   ]
  },
  {
   "cell_type": "markdown",
   "id": "bccebc04",
   "metadata": {},
   "source": [
    "### Accuracy Comparisson of the above different algorithms"
   ]
  },
  {
   "cell_type": "code",
   "execution_count": 124,
   "id": "6bcc9938",
   "metadata": {},
   "outputs": [
    {
     "data": {
      "image/png": "[encoded data removed]",
      "text/plain": [
       "<Figure size 432x288 with 1 Axes>"
      ]
     },
     "metadata": {
      "needs_background": "light"
     },
     "output_type": "display_data"
    }
   ],
   "source": [
    "objects1 = ('Logistic regression', 'RandomForest', 'linear svc', 'Kneighbors', 'naive bayes', 'gradient descent')\n",
    "algorithm = np.arange(len(objects1))\n",
    "performance = [acc1,acc2,acc3,acc4,acc5,acc6]\n",
    "plt.bar(algorithm, performance, align='center', alpha=0.8, color='orange')\n",
    "plt.bar_label(barplot, labels=performance, label_type=\"center\", rotation=90)\n",
    "plt.xticks(algorithm, objects1, rotation=60)\n",
    "plt.ylabel('Accuracy')\n",
    "plt.title('Algorithm Comparision for tf-idf & sentiment features')\n",
    "plt.show()"
   ]
  },
  {
   "cell_type": "markdown",
   "id": "5f590361",
   "metadata": {},
   "source": [
    "# compare models with tf-idf, sentiment & additional features combined"
   ]
  },
  {
   "cell_type": "code",
   "execution_count": 125,
   "id": "eda6beba",
   "metadata": {
    "collapsed": true
   },
   "outputs": [
    {
     "data": {
      "text/plain": [
       "array([[ 0.,  0.,  0., ..., 53., 10., 10.],\n",
       "       [ 0.,  0.,  0., ..., 52., 12., 11.],\n",
       "       [ 0.,  0.,  0., ..., 48., 10.,  9.],\n",
       "       ...,\n",
       "       [ 0.,  0.,  0., ..., 51., 10., 10.],\n",
       "       [ 0.,  0.,  0., ..., 30.,  6.,  6.],\n",
       "       [ 0.,  0.,  0., ..., 77., 13., 13.]])"
      ]
     },
     "execution_count": 125,
     "metadata": {},
     "output_type": "execute_result"
    }
   ],
   "source": [
    "tfidf_senti_addi = np.concatenate([tfidf_a,sentiment_features,addifeatures],axis=1)\n",
    "tfidf_senti_addi"
   ]
  },
  {
   "cell_type": "code",
   "execution_count": 126,
   "id": "8f25f29c",
   "metadata": {
    "collapsed": true
   },
   "outputs": [],
   "source": [
    "X = pd.DataFrame(tfidf_senti_addi)\n",
    "y = hate_df['class'].astype(int)\n",
    "X_train_all, X_test_all, y_train, y_test = train_test_split(X, y, random_state=42, test_size=0.2)"
   ]
  },
  {
   "cell_type": "markdown",
   "id": "28a8c88f",
   "metadata": {},
   "source": [
    "## 1- logistic regression"
   ]
  },
  {
   "cell_type": "code",
   "execution_count": 127,
   "id": "0ebb64b1",
   "metadata": {
    "collapsed": true
   },
   "outputs": [
    {
     "name": "stdout",
     "output_type": "stream",
     "text": [
      "              precision    recall  f1-score   support\n",
      "\n",
      "           0       0.00      0.00      0.00       290\n",
      "           1       0.83      0.96      0.89      3832\n",
      "           2       0.64      0.39      0.49       835\n",
      "\n",
      "    accuracy                           0.81      4957\n",
      "   macro avg       0.49      0.45      0.46      4957\n",
      "weighted avg       0.75      0.81      0.77      4957\n",
      "\n",
      "Logistic Regression, Accuracy Score: 0.8079483558603995\n"
     ]
    }
   ],
   "source": [
    "X_train_all, X_test_all, y_train, y_test = train_test_split(X, y, random_state=42, test_size=0.2)\n",
    "model_lr =  LogisticRegression().fit(X_train_all,y_train)\n",
    "y_preds = model_lr.predict(X_test_all)\n",
    "\n",
    "report = classification_report( y_test, y_preds )\n",
    "print(report)\n",
    "acc1=accuracy_score(y_test,y_preds)\n",
    "print(\"Logistic Regression, Accuracy Score:\" , acc1)"
   ]
  },
  {
   "cell_type": "markdown",
   "id": "5477b4b9",
   "metadata": {},
   "source": [
    "## 2- random forest"
   ]
  },
  {
   "cell_type": "code",
   "execution_count": 128,
   "id": "0ab801d2",
   "metadata": {
    "collapsed": true
   },
   "outputs": [
    {
     "name": "stdout",
     "output_type": "stream",
     "text": [
      "              precision    recall  f1-score   support\n",
      "\n",
      "           0       0.42      0.07      0.12       290\n",
      "           1       0.89      0.97      0.93      3832\n",
      "           2       0.86      0.75      0.80       835\n",
      "\n",
      "    accuracy                           0.88      4957\n",
      "   macro avg       0.72      0.60      0.62      4957\n",
      "weighted avg       0.86      0.88      0.86      4957\n",
      "\n",
      "Random Forest, Accuracy Score: 0.8823885414565261\n"
     ]
    }
   ],
   "source": [
    "X_train_all, X_test_all, y_train, y_test = train_test_split(X, y, random_state=42, test_size=0.2)\n",
    "model_rf = RandomForestClassifier().fit(X_train_all,y_train)\n",
    "y_preds = model_rf.predict(X_test_all)\n",
    "\n",
    "report = classification_report( y_test, y_preds )\n",
    "print(report)\n",
    "acc2 = accuracy_score(y_test,y_preds)\n",
    "print(\"Random Forest, Accuracy Score:\" , acc2)"
   ]
  },
  {
   "cell_type": "markdown",
   "id": "c589d65f",
   "metadata": {},
   "source": [
    "## 3- Linear SVC"
   ]
  },
  {
   "cell_type": "code",
   "execution_count": 129,
   "id": "afaa3cdf",
   "metadata": {
    "collapsed": true
   },
   "outputs": [
    {
     "name": "stdout",
     "output_type": "stream",
     "text": [
      "              precision    recall  f1-score   support\n",
      "\n",
      "           0       0.48      0.43      0.45       290\n",
      "           1       0.95      0.92      0.93      3832\n",
      "           2       0.77      0.93      0.84       835\n",
      "\n",
      "    accuracy                           0.89      4957\n",
      "   macro avg       0.73      0.76      0.74      4957\n",
      "weighted avg       0.89      0.89      0.89      4957\n",
      "\n",
      "Linear SVC, Accuracy Score: 0.8904579382691143\n"
     ]
    }
   ],
   "source": [
    "X_train_all, X_test_all, y_train, y_test = train_test_split(X, y, random_state=42, test_size=0.2)\n",
    "model_lsvc = LinearSVC().fit(X_train_all,y_train)\n",
    "y_preds = model_lsvc.predict(X_test_all)\n",
    "\n",
    "report = classification_report( y_test, y_preds )\n",
    "print(report)\n",
    "acc3 = accuracy_score(y_test,y_preds)\n",
    "print(\"Linear SVC, Accuracy Score:\" , acc3)"
   ]
  },
  {
   "cell_type": "markdown",
   "id": "35d030cc",
   "metadata": {},
   "source": [
    "## 4- K neighbours classifier"
   ]
  },
  {
   "cell_type": "code",
   "execution_count": 130,
   "id": "61f1c280",
   "metadata": {
    "collapsed": true
   },
   "outputs": [
    {
     "name": "stdout",
     "output_type": "stream",
     "text": [
      "              precision    recall  f1-score   support\n",
      "\n",
      "           0       0.15      0.05      0.07       290\n",
      "           1       0.81      0.93      0.87      3832\n",
      "           2       0.49      0.26      0.34       835\n",
      "\n",
      "    accuracy                           0.77      4957\n",
      "   macro avg       0.48      0.41      0.43      4957\n",
      "weighted avg       0.72      0.77      0.73      4957\n",
      "\n",
      "K neighbours classifier, Accuracy Score: 0.7680048416380876\n"
     ]
    }
   ],
   "source": [
    "X_train_all, X_test_all, y_train, y_test = train_test_split(X, y, random_state=42, test_size=0.2)\n",
    "model_kn = KNeighborsClassifier().fit(X_train_all,y_train)\n",
    "y_preds = model_kn.predict(X_test_all)\n",
    "\n",
    "report = classification_report( y_test, y_preds )\n",
    "print(report)\n",
    "acc4 = accuracy_score(y_test,y_preds)\n",
    "print(\"K neighbours classifier, Accuracy Score:\" , acc4)"
   ]
  },
  {
   "cell_type": "markdown",
   "id": "245c6728",
   "metadata": {},
   "source": [
    "## 5- Naive Bayes"
   ]
  },
  {
   "cell_type": "code",
   "execution_count": 131,
   "id": "2f6ec0e7",
   "metadata": {
    "collapsed": true
   },
   "outputs": [
    {
     "name": "stdout",
     "output_type": "stream",
     "text": [
      "              precision    recall  f1-score   support\n",
      "\n",
      "           0       0.11      0.38      0.17       290\n",
      "           1       0.89      0.70      0.79      3832\n",
      "           2       0.56      0.61      0.58       835\n",
      "\n",
      "    accuracy                           0.67      4957\n",
      "   macro avg       0.52      0.56      0.51      4957\n",
      "weighted avg       0.79      0.67      0.71      4957\n",
      "\n",
      "Naive bayes, Accuracy Score: 0.6677425862416785\n"
     ]
    }
   ],
   "source": [
    "X_train_all, X_test_all, y_train, y_test = train_test_split(X, y, random_state=42, test_size=0.2)\n",
    "model_nb = GaussianNB().fit(X_train_all,y_train)\n",
    "y_preds = model_nb.predict(X_test_all)\n",
    "\n",
    "report = classification_report( y_test, y_preds )\n",
    "print(report)\n",
    "acc5 = accuracy_score(y_test,y_preds)\n",
    "print(\"Naive bayes, Accuracy Score:\" , acc5)"
   ]
  },
  {
   "cell_type": "markdown",
   "id": "36bd86bb",
   "metadata": {},
   "source": [
    "## 6- gradient descent"
   ]
  },
  {
   "cell_type": "code",
   "execution_count": 132,
   "id": "e3da3788",
   "metadata": {
    "collapsed": true
   },
   "outputs": [
    {
     "name": "stdout",
     "output_type": "stream",
     "text": [
      "              precision    recall  f1-score   support\n",
      "\n",
      "           0       0.26      0.03      0.06       290\n",
      "           1       0.89      0.95      0.91      3832\n",
      "           2       0.72      0.71      0.72       835\n",
      "\n",
      "    accuracy                           0.85      4957\n",
      "   macro avg       0.62      0.56      0.56      4957\n",
      "weighted avg       0.82      0.85      0.83      4957\n",
      "\n",
      "gradient descent, Accuracy Score: 0.8537421827718378\n"
     ]
    }
   ],
   "source": [
    "X_train_all, X_test_all, y_train, y_test = train_test_split(X, y, random_state=42, test_size=0.2)\n",
    "model_sgdc = SGDClassifier().fit(X_train_all,y_train)\n",
    "y_preds = model_sgdc.predict(X_test_all)\n",
    "\n",
    "report = classification_report( y_test, y_preds )\n",
    "print(report)\n",
    "acc6 = accuracy_score(y_test,y_preds)\n",
    "print(\"gradient descent, Accuracy Score:\" , acc6)"
   ]
  },
  {
   "cell_type": "markdown",
   "id": "1a98f262",
   "metadata": {},
   "source": [
    "### compare accuracies for above alogorthms with all features"
   ]
  },
  {
   "cell_type": "code",
   "execution_count": 133,
   "id": "86fde49b",
   "metadata": {
    "collapsed": true
   },
   "outputs": [
    {
     "data": {
      "image/png": "[encoded data removed]",
      "text/plain": [
       "<Figure size 432x288 with 1 Axes>"
      ]
     },
     "metadata": {
      "needs_background": "light"
     },
     "output_type": "display_data"
    }
   ],
   "source": [
    "fig, ax = plt.subplots()\n",
    "objects2 = ('Logistic regression', 'RandomForest', 'linear svc', 'Kneighbors', 'naive bayes', 'gradient descent')\n",
    "algorithm = np.arange(len(objects2))\n",
    "performance = [acc1,acc2,acc3,acc4,acc5,acc6]\n",
    "barplot = plt.bar(algorithm, performance, align='center', alpha=1, color='pink')\n",
    "plt.bar_label(barplot, labels=performance, label_type=\"center\", rotation=90)\n",
    "plt.xticks(algorithm, objects2, rotation=60)\n",
    "plt.ylabel('Accuracy')\n",
    "plt.title('Algorithm Comparision for tf-idf & sentiment features')\n",
    "plt.show()"
   ]
  },
  {
   "cell_type": "markdown",
   "id": "fdf84781",
   "metadata": {},
   "source": [
    "# undersampling and oversampling to overcome imbalanced classes issue\n"
   ]
  },
  {
   "cell_type": "code",
   "execution_count": 47,
   "id": "2332befb",
   "metadata": {
    "collapsed": true
   },
   "outputs": [],
   "source": [
    "from imblearn.under_sampling import RandomUnderSampler\n",
    "from imblearn.over_sampling import SMOTE"
   ]
  },
  {
   "cell_type": "code",
   "execution_count": 48,
   "id": "3a82abc2",
   "metadata": {
    "collapsed": true
   },
   "outputs": [],
   "source": [
    "#Undersampling\n",
    "#undersampling resamples the dataset so that majority class will be reduced to match the minority class\n",
    "#only used tfidf and polarity features\n",
    "X = pd.DataFrame(tfidf_senti)\n",
    "y = hate_df['class'].astype(int)\n",
    "X_train, X_test, y_train, y_test = train_test_split(X, y, random_state=42, test_size=0.2)\n",
    "und_sampler = RandomUnderSampler(random_state=0)\n",
    "X_undersampled, y_undersampled = und_sampler.fit_resample(X_train, y_train)"
   ]
  },
  {
   "cell_type": "code",
   "execution_count": 49,
   "id": "ffb5d096",
   "metadata": {
    "collapsed": true
   },
   "outputs": [
    {
     "data": {
      "text/plain": [
       "0    1140\n",
       "1    1140\n",
       "2    1140\n",
       "Name: class, dtype: int64"
      ]
     },
     "execution_count": 49,
     "metadata": {},
     "output_type": "execute_result"
    }
   ],
   "source": [
    "y_undersampled.value_counts()"
   ]
  },
  {
   "cell_type": "code",
   "execution_count": 50,
   "id": "092db465",
   "metadata": {
    "collapsed": true
   },
   "outputs": [],
   "source": [
    "#oversampling\n",
    "#oversampling resamples the dataset so that minority class will be increased to match the majority class\n",
    "over_sampler = SMOTE(\"minority\", random_state=42)\n",
    "X_oversampled, y_oversampled = over_sampler.fit_resample(X_train, y_train)"
   ]
  },
  {
   "cell_type": "code",
   "execution_count": 51,
   "id": "240c1ff2",
   "metadata": {
    "collapsed": true
   },
   "outputs": [
    {
     "data": {
      "text/plain": [
       "0    15358\n",
       "1    15358\n",
       "2     3328\n",
       "Name: class, dtype: int64"
      ]
     },
     "execution_count": 51,
     "metadata": {},
     "output_type": "execute_result"
    }
   ],
   "source": [
    "y_oversampled.value_counts()"
   ]
  },
  {
   "cell_type": "markdown",
   "id": "b09942f1",
   "metadata": {},
   "source": [
    "## comparing random forest algorithm with undersamples, oversampled and original datatsets using tfidf and polarity features"
   ]
  },
  {
   "cell_type": "markdown",
   "id": "0dbe010f",
   "metadata": {},
   "source": [
    "### original "
   ]
  },
  {
   "cell_type": "code",
   "execution_count": 52,
   "id": "75a5cf70",
   "metadata": {},
   "outputs": [
    {
     "name": "stdout",
     "output_type": "stream",
     "text": [
      "              precision    recall  f1-score   support\n",
      "\n",
      "           0       0.49      0.13      0.20       290\n",
      "           1       0.91      0.97      0.94      3832\n",
      "           2       0.85      0.85      0.85       835\n",
      "\n",
      "    accuracy                           0.90      4957\n",
      "   macro avg       0.75      0.65      0.66      4957\n",
      "weighted avg       0.88      0.90      0.88      4957\n",
      "\n",
      "Random forest, Accuracy Score: 0.8977203954004438\n"
     ]
    }
   ],
   "source": [
    "X = pd.DataFrame(tfidf_senti)\n",
    "y = hate_df['class'].astype(int)\n",
    "X_train_tfsenti, X_test_tfsenti, y_train, y_test = train_test_split(X, y, random_state=42, test_size=0.2)\n",
    "\n",
    "model_rf = RandomForestClassifier().fit(X_train_tfsenti,y_train)\n",
    "y_preds = model_rf.predict(X_test_tfsenti)\n",
    "\n",
    "report = classification_report( y_test, y_preds )\n",
    "print(report)\n",
    "acc_ori = accuracy_score(y_test,y_preds)\n",
    "print(\"Random forest, Accuracy Score:\" , acc_ori)"
   ]
  },
  {
   "cell_type": "code",
   "execution_count": 53,
   "id": "08205cdf",
   "metadata": {
    "collapsed": true
   },
   "outputs": [
    {
     "data": {
      "image/png": "[encoded data removed]",
      "text/plain": [
       "<Figure size 360x360 with 1 Axes>"
      ]
     },
     "metadata": {
      "needs_background": "light"
     },
     "output_type": "display_data"
    }
   ],
   "source": [
    "#confusion matrix\n",
    "from sklearn.metrics import confusion_matrix\n",
    "confusion_matrix = confusion_matrix(y_test,y_preds)\n",
    "matrix_proportions = np.zeros((3,3))\n",
    "for i in range(0,3):\n",
    "    matrix_proportions[i,:] = confusion_matrix[i,:]/float(confusion_matrix[i,:].sum())\n",
    "names=['Hate','Offensive','Neither']\n",
    "confusion_df = pd.DataFrame(matrix_proportions, index=names,columns=names)\n",
    "plt.figure(figsize=(5,5))\n",
    "seaborn.heatmap(confusion_df,annot=True,annot_kws={\"size\": 12},cmap='YlGnBu',cbar=False, square=True,fmt='.2f')\n",
    "plt.ylabel(r'True Value',fontsize=14)\n",
    "plt.xlabel(r'Predicted Value',fontsize=14)\n",
    "plt.tick_params(labelsize=12)"
   ]
  },
  {
   "cell_type": "markdown",
   "id": "a7c2d04f",
   "metadata": {},
   "source": [
    "### undersampled"
   ]
  },
  {
   "cell_type": "code",
   "execution_count": 54,
   "id": "ed2adb49",
   "metadata": {
    "collapsed": true
   },
   "outputs": [
    {
     "name": "stdout",
     "output_type": "stream",
     "text": [
      "              precision    recall  f1-score   support\n",
      "\n",
      "           0       0.24      0.68      0.35       290\n",
      "           1       0.98      0.79      0.87      3832\n",
      "           2       0.75      0.92      0.82       835\n",
      "\n",
      "    accuracy                           0.81      4957\n",
      "   macro avg       0.65      0.79      0.68      4957\n",
      "weighted avg       0.90      0.81      0.84      4957\n",
      "\n",
      "Random forest with undersampled, Accuracy Score: 0.8059310066572524\n"
     ]
    }
   ],
   "source": [
    "model_rfu = RandomForestClassifier().fit(X_undersampled, y_undersampled)\n",
    "y_preds = model_rfu.predict(X_test_tfsenti)\n",
    "\n",
    "report = classification_report( y_test, y_preds )\n",
    "print(report)\n",
    "acc_under = accuracy_score(y_test,y_preds)\n",
    "print(\"Random forest with undersampled, Accuracy Score:\" , acc_under)"
   ]
  },
  {
   "cell_type": "code",
   "execution_count": 55,
   "id": "afbe7f69",
   "metadata": {
    "collapsed": true
   },
   "outputs": [
    {
     "data": {
      "image/png": "[encoded data removed]",
      "text/plain": [
       "<Figure size 360x360 with 1 Axes>"
      ]
     },
     "metadata": {
      "needs_background": "light"
     },
     "output_type": "display_data"
    }
   ],
   "source": [
    "#confusion matrix\n",
    "from sklearn.metrics import confusion_matrix\n",
    "confusion_matrix = confusion_matrix(y_test,y_preds)\n",
    "matrix_proportions = np.zeros((3,3))\n",
    "for i in range(0,3):\n",
    "    matrix_proportions[i,:] = confusion_matrix[i,:]/float(confusion_matrix[i,:].sum())\n",
    "names=['Hate','Offensive','Neither']\n",
    "confusion_df = pd.DataFrame(matrix_proportions, index=names,columns=names)\n",
    "plt.figure(figsize=(5,5))\n",
    "seaborn.heatmap(confusion_df,annot=True,annot_kws={\"size\": 12},cmap='YlGnBu',cbar=False, square=True,fmt='.2f')\n",
    "plt.ylabel(r'True Value',fontsize=14)\n",
    "plt.xlabel(r'Predicted Value',fontsize=14)\n",
    "plt.tick_params(labelsize=12)"
   ]
  },
  {
   "cell_type": "markdown",
   "id": "7facfd26",
   "metadata": {},
   "source": [
    "### oversampled"
   ]
  },
  {
   "cell_type": "code",
   "execution_count": 56,
   "id": "168261f5",
   "metadata": {
    "collapsed": true
   },
   "outputs": [
    {
     "name": "stdout",
     "output_type": "stream",
     "text": [
      "              precision    recall  f1-score   support\n",
      "\n",
      "           0       0.44      0.37      0.40       290\n",
      "           1       0.92      0.95      0.93      3832\n",
      "           2       0.86      0.80      0.83       835\n",
      "\n",
      "    accuracy                           0.89      4957\n",
      "   macro avg       0.74      0.71      0.72      4957\n",
      "weighted avg       0.88      0.89      0.89      4957\n",
      "\n",
      "Random forest with oversampled, Accuracy Score: 0.8882388541456526\n"
     ]
    }
   ],
   "source": [
    "model_rfo = RandomForestClassifier().fit(X_oversampled, y_oversampled)\n",
    "y_preds = model_rfo.predict(X_test_tfsenti)\n",
    "\n",
    "report = classification_report( y_test, y_preds )\n",
    "print(report)\n",
    "acc_over = accuracy_score(y_test,y_preds)\n",
    "print(\"Random forest with oversampled, Accuracy Score:\" , acc_over)"
   ]
  },
  {
   "cell_type": "code",
   "execution_count": 57,
   "id": "54ea911e",
   "metadata": {
    "collapsed": true
   },
   "outputs": [
    {
     "data": {
      "image/png": "[encoded data removed]",
      "text/plain": [
       "<Figure size 360x360 with 1 Axes>"
      ]
     },
     "metadata": {
      "needs_background": "light"
     },
     "output_type": "display_data"
    }
   ],
   "source": [
    "#confusion matrix\n",
    "from sklearn.metrics import confusion_matrix\n",
    "confusion_matrix = confusion_matrix(y_test,y_preds)\n",
    "matrix_proportions = np.zeros((3,3))\n",
    "for i in range(0,3):\n",
    "    matrix_proportions[i,:] = confusion_matrix[i,:]/float(confusion_matrix[i,:].sum())\n",
    "names=['Hate','Offensive','Neither']\n",
    "confusion_df = pd.DataFrame(matrix_proportions, index=names,columns=names)\n",
    "plt.figure(figsize=(5,5))\n",
    "seaborn.heatmap(confusion_df,annot=True,annot_kws={\"size\": 12},cmap='YlGnBu',cbar=False, square=True,fmt='.2f')\n",
    "plt.ylabel(r'True Value',fontsize=14)\n",
    "plt.xlabel(r'Predicted Value',fontsize=14)\n",
    "plt.tick_params(labelsize=12)"
   ]
  },
  {
   "cell_type": "markdown",
   "id": "4d945b58",
   "metadata": {},
   "source": [
    "# Grid Search"
   ]
  },
  {
   "cell_type": "code",
   "execution_count": 58,
   "id": "b22a4d7c",
   "metadata": {
    "collapsed": true
   },
   "outputs": [],
   "source": [
    "from sklearn.pipeline import Pipeline\n",
    "from sklearn.model_selection import GridSearchCV\n",
    "from sklearn.model_selection import StratifiedKFold"
   ]
  },
  {
   "cell_type": "markdown",
   "id": "9144213f",
   "metadata": {},
   "source": [
    "## tuning random forest classifier hyperparameters with undersampled dataset"
   ]
  },
  {
   "cell_type": "code",
   "execution_count": 59,
   "id": "16d0b37f",
   "metadata": {
    "collapsed": true
   },
   "outputs": [],
   "source": [
    "tuned_rf = RandomForestClassifier()\n",
    "\n",
    "#parameter grid for randomForest\n",
    "para_grid = {\n",
    "    'min_samples_split': [1, 2, 3, 10],\n",
    "    'n_estimators': [80, 100, 300, 1000],\n",
    "    'min_samples_leaf': [3, 4, 5],\n",
    "    'max_features': ['auto', 'sqrt', 'log2']\n",
    "}\n",
    "\n",
    "#cross validation\n",
    "cv = StratifiedKFold(n_splits=3, random_state=20, shuffle=True)\n",
    "\n",
    "scorers = {\n",
    "    'precision_score': make_scorer(precision_score, average = 'micro') ,\n",
    "    'recall_score': make_scorer(recall_score, average = 'micro') ,\n",
    "    'accuracy_score': make_scorer(accuracy_score) ,\n",
    "    'f1_score': make_scorer(f1_score, average = 'micro')\n",
    "}"
   ]
  },
  {
   "cell_type": "code",
   "execution_count": 60,
   "id": "b5058ed8",
   "metadata": {
    "collapsed": true
   },
   "outputs": [],
   "source": [
    "def grid_search(refit_score='precision_score'):\n",
    "    \n",
    "    best_clf = GridSearchCV(tuned_rf, para_grid, scoring=scorers, refit=refit_score,\n",
    "                           cv=cv, return_train_score=True, verbose=1)\n",
    "    \n",
    "    best_clf.fit(X_undersampled, y_undersampled)\n",
    "    \n",
    "    #get the predictions\n",
    "    y_pred = best_clf.predict(X_test_tfsenti)\n",
    "    \n",
    "    print('Best parameters for {}'.format(refit_score))\n",
    "    print(best_clf.best_params_)\n",
    "    \n",
    "    return best_clf"
   ]
  },
  {
   "cell_type": "code",
   "execution_count": 62,
   "id": "c4d5ba79",
   "metadata": {},
   "outputs": [
    {
     "name": "stdout",
     "output_type": "stream",
     "text": [
      "Fitting 3 folds for each of 144 candidates, totalling 432 fits\n",
      "Best parameters for precision_score\n",
      "{'max_features': 'auto', 'min_samples_leaf': 3, 'min_samples_split': 1, 'n_estimators': 1000}\n"
     ]
    }
   ],
   "source": [
    "import warnings \n",
    "warnings.filterwarnings(\"ignore\")\n",
    "grid_search = grid_search(refit_score='precision_score') "
   ]
  },
  {
   "cell_type": "code",
   "execution_count": 63,
   "id": "2b92bbc7",
   "metadata": {
    "collapsed": true
   },
   "outputs": [
    {
     "data": {
      "text/html": [
       "<style>#sk-container-id-1 {color: black;background-color: white;}#sk-container-id-1 pre{padding: 0;}#sk-container-id-1 div.sk-toggleable {background-color: white;}#sk-container-id-1 label.sk-toggleable__label {cursor: pointer;display: block;width: 100%;margin-bottom: 0;padding: 0.3em;box-sizing: border-box;text-align: center;}#sk-container-id-1 label.sk-toggleable__label-arrow:before {content: \"▸\";float: left;margin-right: 0.25em;color: #696969;}#sk-container-id-1 label.sk-toggleable__label-arrow:hover:before {color: black;}#sk-container-id-1 div.sk-estimator:hover label.sk-toggleable__label-arrow:before {color: black;}#sk-container-id-1 div.sk-toggleable__content {max-height: 0;max-width: 0;overflow: hidden;text-align: left;background-color: #f0f8ff;}#sk-container-id-1 div.sk-toggleable__content pre {margin: 0.2em;color: black;border-radius: 0.25em;background-color: #f0f8ff;}#sk-container-id-1 input.sk-toggleable__control:checked~div.sk-toggleable__content {max-height: 200px;max-width: 100%;overflow: auto;}#sk-container-id-1 input.sk-toggleable__control:checked~label.sk-toggleable__label-arrow:before {content: \"▾\";}#sk-container-id-1 div.sk-estimator input.sk-toggleable__control:checked~label.sk-toggleable__label {background-color: #d4ebff;}#sk-container-id-1 div.sk-label input.sk-toggleable__control:checked~label.sk-toggleable__label {background-color: #d4ebff;}#sk-container-id-1 input.sk-hidden--visually {border: 0;clip: rect(1px 1px 1px 1px);clip: rect(1px, 1px, 1px, 1px);height: 1px;margin: -1px;overflow: hidden;padding: 0;position: absolute;width: 1px;}#sk-container-id-1 div.sk-estimator {font-family: monospace;background-color: #f0f8ff;border: 1px dotted black;border-radius: 0.25em;box-sizing: border-box;margin-bottom: 0.5em;}#sk-container-id-1 div.sk-estimator:hover {background-color: #d4ebff;}#sk-container-id-1 div.sk-parallel-item::after {content: \"\";width: 100%;border-bottom: 1px solid gray;flex-grow: 1;}#sk-container-id-1 div.sk-label:hover label.sk-toggleable__label {background-color: #d4ebff;}#sk-container-id-1 div.sk-serial::before {content: \"\";position: absolute;border-left: 1px solid gray;box-sizing: border-box;top: 0;bottom: 0;left: 50%;z-index: 0;}#sk-container-id-1 div.sk-serial {display: flex;flex-direction: column;align-items: center;background-color: white;padding-right: 0.2em;padding-left: 0.2em;position: relative;}#sk-container-id-1 div.sk-item {position: relative;z-index: 1;}#sk-container-id-1 div.sk-parallel {display: flex;align-items: stretch;justify-content: center;background-color: white;position: relative;}#sk-container-id-1 div.sk-item::before, #sk-container-id-1 div.sk-parallel-item::before {content: \"\";position: absolute;border-left: 1px solid gray;box-sizing: border-box;top: 0;bottom: 0;left: 50%;z-index: -1;}#sk-container-id-1 div.sk-parallel-item {display: flex;flex-direction: column;z-index: 1;position: relative;background-color: white;}#sk-container-id-1 div.sk-parallel-item:first-child::after {align-self: flex-end;width: 50%;}#sk-container-id-1 div.sk-parallel-item:last-child::after {align-self: flex-start;width: 50%;}#sk-container-id-1 div.sk-parallel-item:only-child::after {width: 0;}#sk-container-id-1 div.sk-dashed-wrapped {border: 1px dashed gray;margin: 0 0.4em 0.5em 0.4em;box-sizing: border-box;padding-bottom: 0.4em;background-color: white;}#sk-container-id-1 div.sk-label label {font-family: monospace;font-weight: bold;display: inline-block;line-height: 1.2em;}#sk-container-id-1 div.sk-label-container {text-align: center;}#sk-container-id-1 div.sk-container {/* jupyter's `normalize.less` sets `[hidden] { display: none; }` but bootstrap.min.css set `[hidden] { display: none !important; }` so we also need the `!important` here to be able to override the default hidden behavior on the sphinx rendered scikit-learn.org. See: https://github.com/scikit-learn/scikit-learn/issues/21755 */display: inline-block !important;position: relative;}#sk-container-id-1 div.sk-text-repr-fallback {display: none;}</style><div id=\"sk-container-id-1\" class=\"sk-top-container\"><div class=\"sk-text-repr-fallback\"><pre>RandomForestClassifier(max_features=&#x27;auto&#x27;, min_samples_leaf=3,\n",
       "                       min_samples_split=1, n_estimators=1000)</pre><b>In a Jupyter environment, please rerun this cell to show the HTML representation or trust the notebook. <br />On GitHub, the HTML representation is unable to render, please try loading this page with nbviewer.org.</b></div><div class=\"sk-container\" hidden><div class=\"sk-item\"><div class=\"sk-estimator sk-toggleable\"><input class=\"sk-toggleable__control sk-hidden--visually\" id=\"sk-estimator-id-1\" type=\"checkbox\" checked><label for=\"sk-estimator-id-1\" class=\"sk-toggleable__label sk-toggleable__label-arrow\">RandomForestClassifier</label><div class=\"sk-toggleable__content\"><pre>RandomForestClassifier(max_features=&#x27;auto&#x27;, min_samples_leaf=3,\n",
       "                       min_samples_split=1, n_estimators=1000)</pre></div></div></div></div></div>"
      ],
      "text/plain": [
       "RandomForestClassifier(max_features='auto', min_samples_leaf=3,\n",
       "                       min_samples_split=1, n_estimators=1000)"
      ]
     },
     "execution_count": 63,
     "metadata": {},
     "output_type": "execute_result"
    }
   ],
   "source": [
    "#get the final model by implementing the parameters given above by grid search\n",
    "final_model = RandomForestClassifier(max_features = 'auto', min_samples_leaf=3, min_samples_split=1, n_estimators=1000 )\n",
    "final_model.fit(X_undersampled, y_undersampled)"
   ]
  },
  {
   "cell_type": "markdown",
   "id": "a00dacfa",
   "metadata": {},
   "source": [
    "### evaluate the final model"
   ]
  },
  {
   "cell_type": "code",
   "execution_count": 64,
   "id": "ae0435f3",
   "metadata": {},
   "outputs": [
    {
     "name": "stdout",
     "output_type": "stream",
     "text": [
      "              precision    recall  f1-score   support\n",
      "\n",
      "           0       0.28      0.66      0.39       290\n",
      "           1       0.98      0.81      0.89      3832\n",
      "           2       0.71      0.92      0.80       835\n",
      "\n",
      "    accuracy                           0.82      4957\n",
      "   macro avg       0.66      0.80      0.69      4957\n",
      "weighted avg       0.89      0.82      0.84      4957\n",
      "\n",
      "Accuracy Score: 0.8228767399636877\n"
     ]
    }
   ],
   "source": [
    "y_preds = final_model.predict(X_test_tfsenti)\n",
    "\n",
    "report = classification_report( y_test, y_preds )\n",
    "print(report)\n",
    "acc_final = accuracy_score(y_test,y_preds)\n",
    "print(\"Accuracy Score:\" , acc_final)"
   ]
  },
  {
   "cell_type": "code",
   "execution_count": 65,
   "id": "5e6bffd0",
   "metadata": {
    "collapsed": true
   },
   "outputs": [
    {
     "data": {
      "image/png": "[encoded data removed]",
      "text/plain": [
       "<Figure size 360x360 with 1 Axes>"
      ]
     },
     "metadata": {
      "needs_background": "light"
     },
     "output_type": "display_data"
    }
   ],
   "source": [
    "#confusion matrix\n",
    "from sklearn.metrics import confusion_matrix\n",
    "confusion_matrix = confusion_matrix(y_test,y_preds)\n",
    "matrix_proportions = np.zeros((3,3))\n",
    "for i in range(0,3):\n",
    "    matrix_proportions[i,:] = confusion_matrix[i,:]/float(confusion_matrix[i,:].sum())\n",
    "names=['Hate','Offensive','Neither']\n",
    "confusion_df = pd.DataFrame(matrix_proportions, index=names,columns=names)\n",
    "plt.figure(figsize=(5,5))\n",
    "seaborn.heatmap(confusion_df,annot=True,annot_kws={\"size\": 12},cmap='YlGnBu',cbar=False, square=True,fmt='.2f')\n",
    "plt.ylabel(r'True Value',fontsize=14)\n",
    "plt.xlabel(r'Predicted Value',fontsize=14)\n",
    "plt.tick_params(labelsize=12)"
   ]
  },
  {
   "cell_type": "markdown",
   "id": "007ae483",
   "metadata": {},
   "source": [
    "# preparing the model to deploy on to the web application"
   ]
  },
  {
   "cell_type": "markdown",
   "id": "5a65ece2",
   "metadata": {},
   "source": [
    "To make our model operational for the application we first need to create functions for all the preparative steps the user's input text will go through to give a prediction. Then the model will be able to translate wether his input is hate speech, offensive language, or neither of them.\n",
    "\n",
    "These preparative functions involve:\n",
    "\n",
    "the preprocessing of the tweets (removal of punctuation & special characters, stemming, tokenization,...)\n",
    "the creation of the final features used for classification: the TF-IDF array, the sentiment analysis, and the additional textual features\n",
    "Finally we define a get_predictions function that will get the input text to funnel through the previous functions and lead to the prediction."
   ]
  },
  {
   "cell_type": "code",
   "execution_count": 66,
   "id": "05e31092",
   "metadata": {
    "collapsed": true
   },
   "outputs": [],
   "source": [
    "stopwords = nltk.corpus.stopwords.words(\"english\")\n",
    "exclusions = [\"#ff\", \"ff\", \"rt\"]\n",
    "stopwords.extend(exclusions)\n",
    "stopwords.remove(\"not\")\n",
    "stemmer = PorterStemmer()\n",
    "\n",
    "def preprocess(tweet):\n",
    "    \n",
    "    #remove extra spaces\n",
    "    regex_pattern = re.compile(r'\\s+')\n",
    "    tweet_space_removed = tweet.str.replace(regex_pattern, ' ')\n",
    "    \n",
    "    #remove mentions(@)\n",
    "    regex_patten = re.compile(r'@[\\w\\-]+')\n",
    "    tweets = tweet_space_removed.str.replace(regex_patten, '')\n",
    "    \n",
    "    #remove URLs\n",
    "    url_regex = re.compile('http[s]?://(?:[a-zA-Z]|[0-9]|[$-_@.&+]|'\n",
    "                           '[!*\\(\\),]|(?:%[0-9a-fA-F][0-9a-fA-F]))+')\n",
    "    tweets_new = tweets.str.replace(url_regex, '')\n",
    "    \n",
    "    #remove numbers and punctuations\n",
    "    remove_punc_num = tweets_new.str.replace(\"[^a-zA-Z]\", \" \")\n",
    "    \n",
    "    #replace whitespaces with space\n",
    "    newtweet = remove_punc_num.str.replace(r'\\s+', ' ')\n",
    "    \n",
    "    #remove leading and trailing whitespaces\n",
    "    newtweet = newtweet.str.replace(r'^\\s+|\\s+?$','')\n",
    "    \n",
    "    #lowercase\n",
    "    tweets_lower = newtweet.str.lower()\n",
    "    \n",
    "    #tokenize\n",
    "    tokenized_tweet = tweets_lower.apply(lambda x: x.split())\n",
    "    \n",
    "    #remove stop words\n",
    "    tokenized_tweet = tokenized_tweet.apply(lambda x: [item for item in x if item not in stop_words])\n",
    "    \n",
    "    #stem the tweet\n",
    "    tokenized_tweet = tokenized_tweet.apply(lambda x: [stemmer.stem(i) for i in x])\n",
    "    \n",
    "    for i in range(len(tokenized_tweet)):\n",
    "        tokenized_tweet[i] = ' '.join(tokenized_tweet[i])\n",
    "        tweets_pre = tokenized_tweet\n",
    "        \n",
    "    return tweets_pre\n"
   ]
  },
  {
   "cell_type": "code",
   "execution_count": 67,
   "id": "bc0f4494",
   "metadata": {
    "collapsed": true
   },
   "outputs": [],
   "source": [
    "def tfidf_featurs(tweet):\n",
    "    tweet = pd.Series(tweet)\n",
    "    tfidf_vectorizer = TfidfVectorizer(ngram_range=(1, 2),max_df=0.75, min_df=5, max_features=10000)\n",
    "    tfidf_vectorizer.fit_transform(hate_df['preprocessed_tweets'])\n",
    "    tfidf_string = tfidf_vectorizer.transform(tweet)\n",
    "    tfidf_array = tfidf_string.toarray()\n",
    "    return tfidf_array"
   ]
  },
  {
   "cell_type": "code",
   "execution_count": 68,
   "id": "bef001e5",
   "metadata": {
    "collapsed": true
   },
   "outputs": [],
   "source": [
    "sentiment_analyzer=VS()\n",
    "\n",
    "def sentiment_analysis_string(tweet):\n",
    "    sentiment = sentiment_analyzer.polarity_scores(tweet)\n",
    "    features = [sentiment['neg'], sentiment['pos'], sentiment['neu'], sentiment['compound']]\n",
    "    return features\n",
    "\n",
    "def sentiment_analysis_array(tweets):\n",
    "    features=[]\n",
    "    for t in tweets:\n",
    "        features.append(sentiment_analysis(t))\n",
    "    return np.array(features)\n"
   ]
  },
  {
   "cell_type": "code",
   "execution_count": 69,
   "id": "637f3ccd",
   "metadata": {
    "collapsed": true
   },
   "outputs": [],
   "source": [
    "from sklearn.preprocessing import StandardScaler"
   ]
  },
  {
   "cell_type": "code",
   "execution_count": 70,
   "id": "c69739ad",
   "metadata": {
    "collapsed": true
   },
   "outputs": [],
   "source": [
    "def get_predictions(tweet):\n",
    "    \n",
    "    #convert the input string to a panda series\n",
    "    tweet = pd.Series(tweet)\n",
    "    \n",
    "    #Get the sentiment analysis of the un-preprocessed string\n",
    "    #we need to apply this function when the string is not yet pre processed in order to keep the whole meaning\n",
    "    #of the sentence\n",
    "    polarity_scores = sentiment_analysis_array(tweet)\n",
    "    \n",
    "    #preprocess the input string\n",
    "    preprocessed_string = preprocess(tweet)\n",
    "    \n",
    "    #convert input string to a vector array\n",
    "    array_tfidf = tfidf_featurs(tweet)\n",
    "    \n",
    "    #concatenate all the features\n",
    "    final_features = np.concatenate([array_tfidf, polarity_scores], axis=1)\n",
    "    \n",
    "    #transform features array to a dataframe\n",
    "    final_df = pd.DataFrame(final_features)\n",
    "    \n",
    "    #apply final model to the input string\n",
    "    prediction = final_model.predict(final_df)\n",
    "    \n",
    "    if prediction == 0:\n",
    "        return \"Hate speech\"\n",
    "    elif prediction == 1:\n",
    "        return \"Offensive Language\"\n",
    "    elif prediction == 2:\n",
    "        return \"neither\"\n",
    "    else:\n",
    "        return \"no label\"\n",
    "    return prediction"
   ]
  },
  {
   "cell_type": "code",
   "execution_count": 71,
   "id": "a07c62f2",
   "metadata": {
    "collapsed": true
   },
   "outputs": [
    {
     "data": {
      "text/plain": [
       "'Hate speech'"
      ]
     },
     "execution_count": 71,
     "metadata": {},
     "output_type": "execute_result"
    }
   ],
   "source": [
    "tweet_test = \"black people are rude and stupid\"\n",
    "get_predictions(tweet_test)"
   ]
  },
  {
   "cell_type": "code",
   "execution_count": 72,
   "id": "16389d7d",
   "metadata": {
    "collapsed": true
   },
   "outputs": [
    {
     "data": {
      "text/plain": [
       "'Offensive Language'"
      ]
     },
     "execution_count": 72,
     "metadata": {},
     "output_type": "execute_result"
    }
   ],
   "source": [
    "tweet_test_2 = \"you don't deserive this shit\"\n",
    "get_predictions(tweet_test_2)"
   ]
  },
  {
   "cell_type": "code",
   "execution_count": 73,
   "id": "99d0b8c9",
   "metadata": {},
   "outputs": [
    {
     "data": {
      "text/plain": [
       "'Hate speech'"
      ]
     },
     "execution_count": 73,
     "metadata": {},
     "output_type": "execute_result"
    }
   ],
   "source": [
    "tweet_test_3 = \"I’m glad you are alive but you so easily could have died and it would solely be your fault.\"\n",
    "get_predictions(tweet_test_3)"
   ]
  },
  {
   "cell_type": "code",
   "execution_count": 74,
   "id": "6c290444",
   "metadata": {
    "collapsed": true
   },
   "outputs": [
    {
     "data": {
      "text/plain": [
       "'neither'"
      ]
     },
     "execution_count": 74,
     "metadata": {},
     "output_type": "execute_result"
    }
   ],
   "source": [
    "tweet_test_4 = \"Have you heard the term “you get what you pay for”? All your troubles can be resolved, simply by purchasing a business class ticket or better yet a first class seat and forever quit your complaining. Maybe use all those air miles you’ve racked up to upgrade from economy next time. You lack a ton of common sense and have publicly embarrassed yourself with these whiny comments.\"\n",
    "get_predictions(tweet_test_4)"
   ]
  },
  {
   "cell_type": "code",
   "execution_count": 75,
   "id": "8ff1c830",
   "metadata": {},
   "outputs": [
    {
     "data": {
      "text/plain": [
       "'neither'"
      ]
     },
     "execution_count": 75,
     "metadata": {},
     "output_type": "execute_result"
    }
   ],
   "source": [
    "tweet_test_5 = \"you do a pretty good job of being a total douche!\"\n",
    "get_predictions(tweet_test_5)"
   ]
  },
  {
   "cell_type": "code",
   "execution_count": 82,
   "id": "9d8b0a79",
   "metadata": {
    "collapsed": true
   },
   "outputs": [
    {
     "data": {
      "text/plain": [
       "'Offensive Language'"
      ]
     },
     "execution_count": 82,
     "metadata": {},
     "output_type": "execute_result"
    }
   ],
   "source": [
    "tweet_test_6 = \"You post shit content\"\n",
    "get_predictions(tweet_test_6)"
   ]
  },
  {
   "cell_type": "code",
   "execution_count": 77,
   "id": "6e9719e6",
   "metadata": {
    "collapsed": true
   },
   "outputs": [
    {
     "data": {
      "text/plain": [
       "'Hate speech'"
      ]
     },
     "execution_count": 77,
     "metadata": {},
     "output_type": "execute_result"
    }
   ],
   "source": [
    "tweet_test_7 = \"stfu faggot\"\n",
    "get_predictions(tweet_test_7)"
   ]
  },
  {
   "cell_type": "code",
   "execution_count": 78,
   "id": "be192c1b",
   "metadata": {
    "collapsed": true
   },
   "outputs": [
    {
     "data": {
      "text/plain": [
       "'neither'"
      ]
     },
     "execution_count": 78,
     "metadata": {},
     "output_type": "execute_result"
    }
   ],
   "source": [
    "tweet_test_8 = \"man you so fucking nice\"\n",
    "get_predictions(tweet_test_8)"
   ]
  },
  {
   "cell_type": "code",
   "execution_count": 79,
   "id": "59991e38",
   "metadata": {
    "collapsed": true
   },
   "outputs": [
    {
     "data": {
      "text/plain": [
       "'Hate speech'"
      ]
     },
     "execution_count": 79,
     "metadata": {},
     "output_type": "execute_result"
    }
   ],
   "source": [
    "tweet_test_9 = \"asians are dumb and they lacks physical strength\"\n",
    "get_predictions(tweet_test_9)"
   ]
  },
  {
   "cell_type": "code",
   "execution_count": 83,
   "id": "b3b432f0",
   "metadata": {
    "collapsed": true
   },
   "outputs": [],
   "source": [
    "import pickle\n",
    "filename = 'final_model.pkl'\n",
    "pickle.dump(final_model, open(filename, 'wb'))"
   ]
  },
  {
   "cell_type": "code",
   "execution_count": null,
   "id": "85b52078",
   "metadata": {
    "collapsed": true
   },
   "outputs": [],
   "source": []
  }
 ],
 "metadata": {
  "kernelspec": {
   "display_name": "Python 3 (ipykernel)",
   "language": "python",
   "name": "python3"
  },
  "language_info": {
   "codemirror_mode": {
    "name": "ipython",
    "version": 3
   },
   "file_extension": ".py",
   "mimetype": "text/x-python",
   "name": "python",
   "nbconvert_exporter": "python",
   "pygments_lexer": "ipython3",
   "version": "3.9.12"
  }
 },
 "nbformat": 4,
 "nbformat_minor": 5
}
