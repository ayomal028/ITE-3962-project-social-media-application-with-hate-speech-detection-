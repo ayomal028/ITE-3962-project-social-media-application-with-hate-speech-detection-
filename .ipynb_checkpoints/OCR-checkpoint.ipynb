{
 "cells": [
  {
   "cell_type": "code",
   "execution_count": 5,
   "id": "362fcdc9",
   "metadata": {},
   "outputs": [],
   "source": [
    "from PIL import Image\n",
    "import cv2\n",
    "from matplotlib import pyplot as plt\n",
    "import pytesseract"
   ]
  },
  {
   "cell_type": "code",
   "execution_count": 2,
   "id": "4116849a",
   "metadata": {},
   "outputs": [],
   "source": [
    "def binarize(image):\n",
    "    gray_img = cv2.cvtColor(image, cv2.COLOR_BGR2GRAY) #convert to grayscale\n",
    "    thresh, im_bw = cv2.threshold(gray_img, 200, 250, cv2.THRESH_BINARY) #convert to b&w\n",
    "    return im_bw"
   ]
  },
  {
   "cell_type": "code",
   "execution_count": 4,
   "id": "e0d4b1aa",
   "metadata": {},
   "outputs": [],
   "source": [
    "def noise_removal(image):\n",
    "    import numpy as np\n",
    "    kernal = np.ones((1, 1), np.uint8)\n",
    "    image = cv2.dilate(image, kernal, iterations=1)\n",
    "    kernal = np.ones((1,1), np.uint8)\n",
    "    image = cv2.erode(image, kernal, iterations=1)\n",
    "    image = cv2.morphologyEx(image, cv2.MORPH_CLOSE, kernal)\n",
    "    #image = cv2.medianBlur(image, 3)\n",
    "    return (image)"
   ]
  },
  {
   "cell_type": "code",
   "execution_count": 6,
   "id": "97e3722c",
   "metadata": {},
   "outputs": [],
   "source": [
    "def remove_borders(image):\n",
    "    contours, heiarchy = cv2.findContours(image, cv2.RETR_EXTERNAL, cv2.CHAIN_APPROX_SIMPLE)\n",
    "    cntsSorted = sorted(contours, key=lambda x:cv2.contourArea(x))\n",
    "    cnt = cntsSorted[-1]\n",
    "    x, y, w, h = cv2.boundingRect(cnt)\n",
    "    crop = image[y:y+h, x:x+w]\n",
    "    return (crop)"
   ]
  },
  {
   "cell_type": "code",
   "execution_count": 11,
   "id": "3807f3e7",
   "metadata": {},
   "outputs": [],
   "source": [
    "def ocr(image):\n",
    "    img = cv2.imread(image)\n",
    "    binary = binarize(img)\n",
    "    denoised = noise_removal(binary)\n",
    "    b_removed = remove_borders(denoised)\n",
    "    \n",
    "    ocr_result = pytesseract.image_to_string(b_removed)\n",
    "    processed_text = ' '.join(ocr_result.split())\n",
    "    return processed_text"
   ]
  },
  {
   "cell_type": "code",
   "execution_count": 13,
   "id": "e7de1971",
   "metadata": {},
   "outputs": [
    {
     "data": {
      "text/plain": [
       "\"‘Me showing jhe new person at work how todo things! don't even know how to do myself\""
      ]
     },
     "execution_count": 13,
     "metadata": {},
     "output_type": "execute_result"
    }
   ],
   "source": [
    "ocr(\"C:\\\\Users\\\\User\\\\temp\\\\no_borders.jpg\")"
   ]
  },
  {
   "cell_type": "code",
   "execution_count": null,
   "id": "e30c877b",
   "metadata": {},
   "outputs": [],
   "source": []
  }
 ],
 "metadata": {
  "kernelspec": {
   "display_name": "Python 3 (ipykernel)",
   "language": "python",
   "name": "python3"
  },
  "language_info": {
   "codemirror_mode": {
    "name": "ipython",
    "version": 3
   },
   "file_extension": ".py",
   "mimetype": "text/x-python",
   "name": "python",
   "nbconvert_exporter": "python",
   "pygments_lexer": "ipython3",
   "version": "3.9.12"
  }
 },
 "nbformat": 4,
 "nbformat_minor": 5
}
