{
 "cells": [
  {
   "cell_type": "code",
   "execution_count": 1,
   "id": "b0aa9cb4",
   "metadata": {},
   "outputs": [],
   "source": [
    "import nltk\n",
    "import string\n",
    "import pandas as pd\n",
    "import numpy as np\n",
    "import re\n",
    "import string\n",
    "from matplotlib import pyplot as plt\n",
    "from nltk.stem.porter import *\n",
    "from nltk.tokenize import word_tokenize\n",
    "from nltk.corpus import stopwords\n",
    "#from textstat.textstat import *"
   ]
  },
  {
   "cell_type": "code",
   "execution_count": 2,
   "id": "d4c8df66",
   "metadata": {},
   "outputs": [],
   "source": [
    " hate_df = pd.read_csv(\"dataset/Dataset1_labeled_data.csv\")"
   ]
  },
  {
   "cell_type": "code",
   "execution_count": 3,
   "id": "69efaa44",
   "metadata": {},
   "outputs": [
    {
     "data": {
      "text/html": [
       "<div>\n",
       "<style scoped>\n",
       "    .dataframe tbody tr th:only-of-type {\n",
       "        vertical-align: middle;\n",
       "    }\n",
       "\n",
       "    .dataframe tbody tr th {\n",
       "        vertical-align: top;\n",
       "    }\n",
       "\n",
       "    .dataframe thead th {\n",
       "        text-align: right;\n",
       "    }\n",
       "</style>\n",
       "<table border=\"1\" class=\"dataframe\">\n",
       "  <thead>\n",
       "    <tr style=\"text-align: right;\">\n",
       "      <th></th>\n",
       "      <th>Unnamed: 0</th>\n",
       "      <th>count</th>\n",
       "      <th>hate_speech</th>\n",
       "      <th>offensive_language</th>\n",
       "      <th>neither</th>\n",
       "      <th>class</th>\n",
       "      <th>tweet</th>\n",
       "    </tr>\n",
       "  </thead>\n",
       "  <tbody>\n",
       "    <tr>\n",
       "      <th>0</th>\n",
       "      <td>0</td>\n",
       "      <td>3</td>\n",
       "      <td>0</td>\n",
       "      <td>0</td>\n",
       "      <td>3</td>\n",
       "      <td>2</td>\n",
       "      <td>!!! RT @mayasolovely: As a woman you shouldn't...</td>\n",
       "    </tr>\n",
       "    <tr>\n",
       "      <th>1</th>\n",
       "      <td>1</td>\n",
       "      <td>3</td>\n",
       "      <td>0</td>\n",
       "      <td>3</td>\n",
       "      <td>0</td>\n",
       "      <td>1</td>\n",
       "      <td>!!!!! RT @mleew17: boy dats cold...tyga dwn ba...</td>\n",
       "    </tr>\n",
       "    <tr>\n",
       "      <th>2</th>\n",
       "      <td>2</td>\n",
       "      <td>3</td>\n",
       "      <td>0</td>\n",
       "      <td>3</td>\n",
       "      <td>0</td>\n",
       "      <td>1</td>\n",
       "      <td>!!!!!!! RT @UrKindOfBrand Dawg!!!! RT @80sbaby...</td>\n",
       "    </tr>\n",
       "    <tr>\n",
       "      <th>3</th>\n",
       "      <td>3</td>\n",
       "      <td>3</td>\n",
       "      <td>0</td>\n",
       "      <td>2</td>\n",
       "      <td>1</td>\n",
       "      <td>1</td>\n",
       "      <td>!!!!!!!!! RT @C_G_Anderson: @viva_based she lo...</td>\n",
       "    </tr>\n",
       "    <tr>\n",
       "      <th>4</th>\n",
       "      <td>4</td>\n",
       "      <td>6</td>\n",
       "      <td>0</td>\n",
       "      <td>6</td>\n",
       "      <td>0</td>\n",
       "      <td>1</td>\n",
       "      <td>!!!!!!!!!!!!! RT @ShenikaRoberts: The shit you...</td>\n",
       "    </tr>\n",
       "    <tr>\n",
       "      <th>...</th>\n",
       "      <td>...</td>\n",
       "      <td>...</td>\n",
       "      <td>...</td>\n",
       "      <td>...</td>\n",
       "      <td>...</td>\n",
       "      <td>...</td>\n",
       "      <td>...</td>\n",
       "    </tr>\n",
       "    <tr>\n",
       "      <th>24778</th>\n",
       "      <td>25291</td>\n",
       "      <td>3</td>\n",
       "      <td>0</td>\n",
       "      <td>2</td>\n",
       "      <td>1</td>\n",
       "      <td>1</td>\n",
       "      <td>you's a muthaf***in lie &amp;#8220;@LifeAsKing: @2...</td>\n",
       "    </tr>\n",
       "    <tr>\n",
       "      <th>24779</th>\n",
       "      <td>25292</td>\n",
       "      <td>3</td>\n",
       "      <td>0</td>\n",
       "      <td>1</td>\n",
       "      <td>2</td>\n",
       "      <td>2</td>\n",
       "      <td>you've gone and broke the wrong heart baby, an...</td>\n",
       "    </tr>\n",
       "    <tr>\n",
       "      <th>24780</th>\n",
       "      <td>25294</td>\n",
       "      <td>3</td>\n",
       "      <td>0</td>\n",
       "      <td>3</td>\n",
       "      <td>0</td>\n",
       "      <td>1</td>\n",
       "      <td>young buck wanna eat!!.. dat nigguh like I ain...</td>\n",
       "    </tr>\n",
       "    <tr>\n",
       "      <th>24781</th>\n",
       "      <td>25295</td>\n",
       "      <td>6</td>\n",
       "      <td>0</td>\n",
       "      <td>6</td>\n",
       "      <td>0</td>\n",
       "      <td>1</td>\n",
       "      <td>youu got wild bitches tellin you lies</td>\n",
       "    </tr>\n",
       "    <tr>\n",
       "      <th>24782</th>\n",
       "      <td>25296</td>\n",
       "      <td>3</td>\n",
       "      <td>0</td>\n",
       "      <td>0</td>\n",
       "      <td>3</td>\n",
       "      <td>2</td>\n",
       "      <td>~~Ruffled | Ntac Eileen Dahlia - Beautiful col...</td>\n",
       "    </tr>\n",
       "  </tbody>\n",
       "</table>\n",
       "<p>24783 rows × 7 columns</p>\n",
       "</div>"
      ],
      "text/plain": [
       "       Unnamed: 0  count  hate_speech  offensive_language  neither  class  \\\n",
       "0               0      3            0                   0        3      2   \n",
       "1               1      3            0                   3        0      1   \n",
       "2               2      3            0                   3        0      1   \n",
       "3               3      3            0                   2        1      1   \n",
       "4               4      6            0                   6        0      1   \n",
       "...           ...    ...          ...                 ...      ...    ...   \n",
       "24778       25291      3            0                   2        1      1   \n",
       "24779       25292      3            0                   1        2      2   \n",
       "24780       25294      3            0                   3        0      1   \n",
       "24781       25295      6            0                   6        0      1   \n",
       "24782       25296      3            0                   0        3      2   \n",
       "\n",
       "                                                   tweet  \n",
       "0      !!! RT @mayasolovely: As a woman you shouldn't...  \n",
       "1      !!!!! RT @mleew17: boy dats cold...tyga dwn ba...  \n",
       "2      !!!!!!! RT @UrKindOfBrand Dawg!!!! RT @80sbaby...  \n",
       "3      !!!!!!!!! RT @C_G_Anderson: @viva_based she lo...  \n",
       "4      !!!!!!!!!!!!! RT @ShenikaRoberts: The shit you...  \n",
       "...                                                  ...  \n",
       "24778  you's a muthaf***in lie &#8220;@LifeAsKing: @2...  \n",
       "24779  you've gone and broke the wrong heart baby, an...  \n",
       "24780  young buck wanna eat!!.. dat nigguh like I ain...  \n",
       "24781              youu got wild bitches tellin you lies  \n",
       "24782  ~~Ruffled | Ntac Eileen Dahlia - Beautiful col...  \n",
       "\n",
       "[24783 rows x 7 columns]"
      ]
     },
     "execution_count": 3,
     "metadata": {},
     "output_type": "execute_result"
    }
   ],
   "source": [
    "hate_df"
   ]
  },
  {
   "cell_type": "code",
   "execution_count": 4,
   "id": "7dc0a9e9",
   "metadata": {},
   "outputs": [
    {
     "data": {
      "text/plain": [
       "Index(['Unnamed: 0', 'count', 'hate_speech', 'offensive_language', 'neither',\n",
       "       'class', 'tweet'],\n",
       "      dtype='object')"
      ]
     },
     "execution_count": 4,
     "metadata": {},
     "output_type": "execute_result"
    }
   ],
   "source": [
    "hate_df.columns"
   ]
  },
  {
   "cell_type": "code",
   "execution_count": 5,
   "id": "fc4d473f",
   "metadata": {},
   "outputs": [],
   "source": [
    "#removed the first column because it didn't provide any information"
   ]
  },
  {
   "cell_type": "code",
   "execution_count": 6,
   "id": "b8087337",
   "metadata": {},
   "outputs": [],
   "source": [
    "hate_df = hate_df.drop(columns=['Unnamed: 0'])"
   ]
  },
  {
   "cell_type": "code",
   "execution_count": 7,
   "id": "517caf4b",
   "metadata": {},
   "outputs": [
    {
     "data": {
      "text/html": [
       "<div>\n",
       "<style scoped>\n",
       "    .dataframe tbody tr th:only-of-type {\n",
       "        vertical-align: middle;\n",
       "    }\n",
       "\n",
       "    .dataframe tbody tr th {\n",
       "        vertical-align: top;\n",
       "    }\n",
       "\n",
       "    .dataframe thead th {\n",
       "        text-align: right;\n",
       "    }\n",
       "</style>\n",
       "<table border=\"1\" class=\"dataframe\">\n",
       "  <thead>\n",
       "    <tr style=\"text-align: right;\">\n",
       "      <th></th>\n",
       "      <th>count</th>\n",
       "      <th>hate_speech</th>\n",
       "      <th>offensive_language</th>\n",
       "      <th>neither</th>\n",
       "      <th>class</th>\n",
       "      <th>tweet</th>\n",
       "    </tr>\n",
       "  </thead>\n",
       "  <tbody>\n",
       "    <tr>\n",
       "      <th>0</th>\n",
       "      <td>3</td>\n",
       "      <td>0</td>\n",
       "      <td>0</td>\n",
       "      <td>3</td>\n",
       "      <td>2</td>\n",
       "      <td>!!! RT @mayasolovely: As a woman you shouldn't...</td>\n",
       "    </tr>\n",
       "    <tr>\n",
       "      <th>1</th>\n",
       "      <td>3</td>\n",
       "      <td>0</td>\n",
       "      <td>3</td>\n",
       "      <td>0</td>\n",
       "      <td>1</td>\n",
       "      <td>!!!!! RT @mleew17: boy dats cold...tyga dwn ba...</td>\n",
       "    </tr>\n",
       "    <tr>\n",
       "      <th>2</th>\n",
       "      <td>3</td>\n",
       "      <td>0</td>\n",
       "      <td>3</td>\n",
       "      <td>0</td>\n",
       "      <td>1</td>\n",
       "      <td>!!!!!!! RT @UrKindOfBrand Dawg!!!! RT @80sbaby...</td>\n",
       "    </tr>\n",
       "    <tr>\n",
       "      <th>3</th>\n",
       "      <td>3</td>\n",
       "      <td>0</td>\n",
       "      <td>2</td>\n",
       "      <td>1</td>\n",
       "      <td>1</td>\n",
       "      <td>!!!!!!!!! RT @C_G_Anderson: @viva_based she lo...</td>\n",
       "    </tr>\n",
       "    <tr>\n",
       "      <th>4</th>\n",
       "      <td>6</td>\n",
       "      <td>0</td>\n",
       "      <td>6</td>\n",
       "      <td>0</td>\n",
       "      <td>1</td>\n",
       "      <td>!!!!!!!!!!!!! RT @ShenikaRoberts: The shit you...</td>\n",
       "    </tr>\n",
       "    <tr>\n",
       "      <th>...</th>\n",
       "      <td>...</td>\n",
       "      <td>...</td>\n",
       "      <td>...</td>\n",
       "      <td>...</td>\n",
       "      <td>...</td>\n",
       "      <td>...</td>\n",
       "    </tr>\n",
       "    <tr>\n",
       "      <th>24778</th>\n",
       "      <td>3</td>\n",
       "      <td>0</td>\n",
       "      <td>2</td>\n",
       "      <td>1</td>\n",
       "      <td>1</td>\n",
       "      <td>you's a muthaf***in lie &amp;#8220;@LifeAsKing: @2...</td>\n",
       "    </tr>\n",
       "    <tr>\n",
       "      <th>24779</th>\n",
       "      <td>3</td>\n",
       "      <td>0</td>\n",
       "      <td>1</td>\n",
       "      <td>2</td>\n",
       "      <td>2</td>\n",
       "      <td>you've gone and broke the wrong heart baby, an...</td>\n",
       "    </tr>\n",
       "    <tr>\n",
       "      <th>24780</th>\n",
       "      <td>3</td>\n",
       "      <td>0</td>\n",
       "      <td>3</td>\n",
       "      <td>0</td>\n",
       "      <td>1</td>\n",
       "      <td>young buck wanna eat!!.. dat nigguh like I ain...</td>\n",
       "    </tr>\n",
       "    <tr>\n",
       "      <th>24781</th>\n",
       "      <td>6</td>\n",
       "      <td>0</td>\n",
       "      <td>6</td>\n",
       "      <td>0</td>\n",
       "      <td>1</td>\n",
       "      <td>youu got wild bitches tellin you lies</td>\n",
       "    </tr>\n",
       "    <tr>\n",
       "      <th>24782</th>\n",
       "      <td>3</td>\n",
       "      <td>0</td>\n",
       "      <td>0</td>\n",
       "      <td>3</td>\n",
       "      <td>2</td>\n",
       "      <td>~~Ruffled | Ntac Eileen Dahlia - Beautiful col...</td>\n",
       "    </tr>\n",
       "  </tbody>\n",
       "</table>\n",
       "<p>24783 rows × 6 columns</p>\n",
       "</div>"
      ],
      "text/plain": [
       "       count  hate_speech  offensive_language  neither  class  \\\n",
       "0          3            0                   0        3      2   \n",
       "1          3            0                   3        0      1   \n",
       "2          3            0                   3        0      1   \n",
       "3          3            0                   2        1      1   \n",
       "4          6            0                   6        0      1   \n",
       "...      ...          ...                 ...      ...    ...   \n",
       "24778      3            0                   2        1      1   \n",
       "24779      3            0                   1        2      2   \n",
       "24780      3            0                   3        0      1   \n",
       "24781      6            0                   6        0      1   \n",
       "24782      3            0                   0        3      2   \n",
       "\n",
       "                                                   tweet  \n",
       "0      !!! RT @mayasolovely: As a woman you shouldn't...  \n",
       "1      !!!!! RT @mleew17: boy dats cold...tyga dwn ba...  \n",
       "2      !!!!!!! RT @UrKindOfBrand Dawg!!!! RT @80sbaby...  \n",
       "3      !!!!!!!!! RT @C_G_Anderson: @viva_based she lo...  \n",
       "4      !!!!!!!!!!!!! RT @ShenikaRoberts: The shit you...  \n",
       "...                                                  ...  \n",
       "24778  you's a muthaf***in lie &#8220;@LifeAsKing: @2...  \n",
       "24779  you've gone and broke the wrong heart baby, an...  \n",
       "24780  young buck wanna eat!!.. dat nigguh like I ain...  \n",
       "24781              youu got wild bitches tellin you lies  \n",
       "24782  ~~Ruffled | Ntac Eileen Dahlia - Beautiful col...  \n",
       "\n",
       "[24783 rows x 6 columns]"
      ]
     },
     "execution_count": 7,
     "metadata": {},
     "output_type": "execute_result"
    }
   ],
   "source": [
    "hate_df"
   ]
  },
  {
   "cell_type": "code",
   "execution_count": 8,
   "id": "9924bc14",
   "metadata": {},
   "outputs": [
    {
     "data": {
      "text/html": [
       "<div>\n",
       "<style scoped>\n",
       "    .dataframe tbody tr th:only-of-type {\n",
       "        vertical-align: middle;\n",
       "    }\n",
       "\n",
       "    .dataframe tbody tr th {\n",
       "        vertical-align: top;\n",
       "    }\n",
       "\n",
       "    .dataframe thead th {\n",
       "        text-align: right;\n",
       "    }\n",
       "</style>\n",
       "<table border=\"1\" class=\"dataframe\">\n",
       "  <thead>\n",
       "    <tr style=\"text-align: right;\">\n",
       "      <th></th>\n",
       "      <th>count</th>\n",
       "      <th>hate_speech</th>\n",
       "      <th>offensive_language</th>\n",
       "      <th>neither</th>\n",
       "      <th>class</th>\n",
       "    </tr>\n",
       "  </thead>\n",
       "  <tbody>\n",
       "    <tr>\n",
       "      <th>count</th>\n",
       "      <td>24783.000000</td>\n",
       "      <td>24783.000000</td>\n",
       "      <td>24783.000000</td>\n",
       "      <td>24783.000000</td>\n",
       "      <td>24783.000000</td>\n",
       "    </tr>\n",
       "    <tr>\n",
       "      <th>mean</th>\n",
       "      <td>3.243473</td>\n",
       "      <td>0.280515</td>\n",
       "      <td>2.413711</td>\n",
       "      <td>0.549247</td>\n",
       "      <td>1.110277</td>\n",
       "    </tr>\n",
       "    <tr>\n",
       "      <th>std</th>\n",
       "      <td>0.883060</td>\n",
       "      <td>0.631851</td>\n",
       "      <td>1.399459</td>\n",
       "      <td>1.113299</td>\n",
       "      <td>0.462089</td>\n",
       "    </tr>\n",
       "    <tr>\n",
       "      <th>min</th>\n",
       "      <td>3.000000</td>\n",
       "      <td>0.000000</td>\n",
       "      <td>0.000000</td>\n",
       "      <td>0.000000</td>\n",
       "      <td>0.000000</td>\n",
       "    </tr>\n",
       "    <tr>\n",
       "      <th>25%</th>\n",
       "      <td>3.000000</td>\n",
       "      <td>0.000000</td>\n",
       "      <td>2.000000</td>\n",
       "      <td>0.000000</td>\n",
       "      <td>1.000000</td>\n",
       "    </tr>\n",
       "    <tr>\n",
       "      <th>50%</th>\n",
       "      <td>3.000000</td>\n",
       "      <td>0.000000</td>\n",
       "      <td>3.000000</td>\n",
       "      <td>0.000000</td>\n",
       "      <td>1.000000</td>\n",
       "    </tr>\n",
       "    <tr>\n",
       "      <th>75%</th>\n",
       "      <td>3.000000</td>\n",
       "      <td>0.000000</td>\n",
       "      <td>3.000000</td>\n",
       "      <td>0.000000</td>\n",
       "      <td>1.000000</td>\n",
       "    </tr>\n",
       "    <tr>\n",
       "      <th>max</th>\n",
       "      <td>9.000000</td>\n",
       "      <td>7.000000</td>\n",
       "      <td>9.000000</td>\n",
       "      <td>9.000000</td>\n",
       "      <td>2.000000</td>\n",
       "    </tr>\n",
       "  </tbody>\n",
       "</table>\n",
       "</div>"
      ],
      "text/plain": [
       "              count   hate_speech  offensive_language       neither  \\\n",
       "count  24783.000000  24783.000000        24783.000000  24783.000000   \n",
       "mean       3.243473      0.280515            2.413711      0.549247   \n",
       "std        0.883060      0.631851            1.399459      1.113299   \n",
       "min        3.000000      0.000000            0.000000      0.000000   \n",
       "25%        3.000000      0.000000            2.000000      0.000000   \n",
       "50%        3.000000      0.000000            3.000000      0.000000   \n",
       "75%        3.000000      0.000000            3.000000      0.000000   \n",
       "max        9.000000      7.000000            9.000000      9.000000   \n",
       "\n",
       "              class  \n",
       "count  24783.000000  \n",
       "mean       1.110277  \n",
       "std        0.462089  \n",
       "min        0.000000  \n",
       "25%        1.000000  \n",
       "50%        1.000000  \n",
       "75%        1.000000  \n",
       "max        2.000000  "
      ]
     },
     "execution_count": 8,
     "metadata": {},
     "output_type": "execute_result"
    }
   ],
   "source": [
    "hate_df.describe()"
   ]
  },
  {
   "cell_type": "markdown",
   "id": "ca6ccbf4",
   "metadata": {},
   "source": [
    "## describing the columns of the dataset\n",
    "- count = No of people who annotated each tweet\n",
    "- hate_speech = No of people who annotated the tweet as hate_speech\n",
    "- offensive = No of people who annotated the tweet as offensive\n",
    "- Neither = No. of people who annotated each tweet as neither hate nor offensive\n",
    "- class = class labels( 0-hate_speech, 1-offensive_language, 2-neither)"
   ]
  },
  {
   "cell_type": "code",
   "execution_count": 9,
   "id": "9cd44c37",
   "metadata": {},
   "outputs": [
    {
     "data": {
      "text/plain": [
       "1    19190\n",
       "2     4163\n",
       "0     1430\n",
       "Name: class, dtype: int64"
      ]
     },
     "execution_count": 9,
     "metadata": {},
     "output_type": "execute_result"
    }
   ],
   "source": [
    "hate_df['class'].value_counts() #count of tweets for each class labels"
   ]
  },
  {
   "cell_type": "code",
   "execution_count": 10,
   "id": "f80c27de",
   "metadata": {},
   "outputs": [
    {
     "data": {
      "text/plain": [
       "Text(0.5, 1.0, 'Tweet distribution among 3 classes')"
      ]
     },
     "execution_count": 10,
     "metadata": {},
     "output_type": "execute_result"
    },
    {
     "data": {
      "image/png": "[encoded data removed]",
      "text/plain": [
       "<Figure size 432x288 with 1 Axes>"
      ]
     },
     "metadata": {
      "needs_background": "light"
     },
     "output_type": "display_data"
    }
   ],
   "source": [
    "plt.hist(hate_df['class'], align='mid')\n",
    "plt.ylabel('count', fontsize=15)\n",
    "col_labels=['Hate speech', 'Offensive language', 'Neither']\n",
    "x_values=np.arange(0, len(col_labels))\n",
    "plt.xlabel('Class', fontsize=15)\n",
    "plt.xticks(x_values, col_labels)\n",
    "plt.title('Tweet distribution among 3 classes', fontsize=17)"
   ]
  },
  {
   "cell_type": "markdown",
   "id": "0bba1fbd",
   "metadata": {},
   "source": [
    "We can see that the offensive class is highly populated compared to the other two classes. This can cause some bias towards the offensive class when later training the model.\n",
    "One solution would be to balance the dataset using oversampling and undersampling.\n",
    "I will try that in a later step of the process"
   ]
  },
  {
   "cell_type": "markdown",
   "id": "151da214",
   "metadata": {},
   "source": [
    "# 2. Data Preprocessing "
   ]
  },
  {
   "cell_type": "markdown",
   "id": "95e7eea0",
   "metadata": {},
   "source": [
    "First I will clean the tweets in the dataset. following operations will be performed in preprocessing step.\n",
    "- tokenize\n",
    "- remove stopwords\n",
    "- stem\n",
    "- remove URLs\n",
    "- remove @mention tags\n",
    "- remove punctutations\n",
    "- remove numbers\n",
    "- remove spaces\n",
    "- lowercase\n"
   ]
  },
  {
   "cell_type": "code",
   "execution_count": 11,
   "id": "255c279f",
   "metadata": {},
   "outputs": [],
   "source": [
    "tweet=hate_df.tweet"
   ]
  },
  {
   "cell_type": "code",
   "execution_count": 12,
   "id": "005c38ad",
   "metadata": {},
   "outputs": [
    {
     "data": {
      "text/plain": [
       "0        !!! RT @mayasolovely: As a woman you shouldn't...\n",
       "1        !!!!! RT @mleew17: boy dats cold...tyga dwn ba...\n",
       "2        !!!!!!! RT @UrKindOfBrand Dawg!!!! RT @80sbaby...\n",
       "3        !!!!!!!!! RT @C_G_Anderson: @viva_based she lo...\n",
       "4        !!!!!!!!!!!!! RT @ShenikaRoberts: The shit you...\n",
       "                               ...                        \n",
       "24778    you's a muthaf***in lie &#8220;@LifeAsKing: @2...\n",
       "24779    you've gone and broke the wrong heart baby, an...\n",
       "24780    young buck wanna eat!!.. dat nigguh like I ain...\n",
       "24781                youu got wild bitches tellin you lies\n",
       "24782    ~~Ruffled | Ntac Eileen Dahlia - Beautiful col...\n",
       "Name: tweet, Length: 24783, dtype: object"
      ]
     },
     "execution_count": 12,
     "metadata": {},
     "output_type": "execute_result"
    }
   ],
   "source": [
    "tweet"
   ]
  },
  {
   "cell_type": "code",
   "execution_count": 13,
   "id": "2fad3eea",
   "metadata": {},
   "outputs": [
    {
     "name": "stdout",
     "output_type": "stream",
     "text": [
      "['i', 'me', 'my', 'myself', 'we', 'our', 'ours', 'ourselves', 'you', \"you're\", \"you've\", \"you'll\", \"you'd\", 'your', 'yours', 'yourself', 'yourselves', 'he', 'him', 'his', 'himself', 'she', \"she's\", 'her', 'hers', 'herself', 'it', \"it's\", 'its', 'itself', 'they', 'them', 'their', 'theirs', 'themselves', 'what', 'which', 'who', 'whom', 'this', 'that', \"that'll\", 'these', 'those', 'am', 'is', 'are', 'was', 'were', 'be', 'been', 'being', 'have', 'has', 'had', 'having', 'do', 'does', 'did', 'doing', 'a', 'an', 'the', 'and', 'but', 'if', 'or', 'because', 'as', 'until', 'while', 'of', 'at', 'by', 'for', 'with', 'about', 'against', 'between', 'into', 'through', 'during', 'before', 'after', 'above', 'below', 'to', 'from', 'up', 'down', 'in', 'out', 'on', 'off', 'over', 'under', 'again', 'further', 'then', 'once', 'here', 'there', 'when', 'where', 'why', 'how', 'all', 'any', 'both', 'each', 'few', 'more', 'most', 'other', 'some', 'such', 'no', 'nor', 'not', 'only', 'own', 'same', 'so', 'than', 'too', 'very', 's', 't', 'can', 'will', 'just', 'don', \"don't\", 'should', \"should've\", 'now', 'd', 'll', 'm', 'o', 're', 've', 'y', 'ain', 'aren', \"aren't\", 'couldn', \"couldn't\", 'didn', \"didn't\", 'doesn', \"doesn't\", 'hadn', \"hadn't\", 'hasn', \"hasn't\", 'haven', \"haven't\", 'isn', \"isn't\", 'ma', 'mightn', \"mightn't\", 'mustn', \"mustn't\", 'needn', \"needn't\", 'shan', \"shan't\", 'shouldn', \"shouldn't\", 'wasn', \"wasn't\", 'weren', \"weren't\", 'won', \"won't\", 'wouldn', \"wouldn't\"]\n"
     ]
    },
    {
     "name": "stderr",
     "output_type": "stream",
     "text": [
      "[nltk_data] Downloading package stopwords to\n",
      "[nltk_data]     C:\\Users\\User\\AppData\\Roaming\\nltk_data...\n",
      "[nltk_data]   Package stopwords is already up-to-date!\n"
     ]
    }
   ],
   "source": [
    "#load stopwords\n",
    "nltk.download('stopwords')\n",
    "stop_words = stopwords.words(\"english\")\n",
    "print(stop_words)#print the stopwords list"
   ]
  },
  {
   "cell_type": "markdown",
   "id": "4de7c93b",
   "metadata": {},
   "source": [
    "I'll remove some of the words from above stopwords list because they might affect the sentiment of a sentence."
   ]
  },
  {
   "cell_type": "code",
   "execution_count": 14,
   "id": "b290be0b",
   "metadata": {},
   "outputs": [],
   "source": [
    "stop_words.remove(\"not\")"
   ]
  },
  {
   "cell_type": "code",
   "execution_count": 15,
   "id": "5d088100",
   "metadata": {},
   "outputs": [],
   "source": [
    "stop_words.extend(\"rt\")"
   ]
  },
  {
   "cell_type": "code",
   "execution_count": 16,
   "id": "ba877da4",
   "metadata": {},
   "outputs": [
    {
     "name": "stderr",
     "output_type": "stream",
     "text": [
      "C:\\Users\\User\\AppData\\Local\\Temp\\ipykernel_6980\\860942995.py:19: FutureWarning: The default value of regex will change from True to False in a future version.\n",
      "  remove_punc_num = tweets_new.str.replace(\"[^a-zA-Z]\", \" \")\n",
      "C:\\Users\\User\\AppData\\Local\\Temp\\ipykernel_6980\\860942995.py:22: FutureWarning: The default value of regex will change from True to False in a future version.\n",
      "  newtweet = remove_punc_num.str.replace(r'\\s+', ' ')\n",
      "C:\\Users\\User\\AppData\\Local\\Temp\\ipykernel_6980\\860942995.py:25: FutureWarning: The default value of regex will change from True to False in a future version.\n",
      "  newtweet = newtweet.str.replace(r'^\\s+|\\s+?$','')\n"
     ]
    },
    {
     "name": "stdout",
     "output_type": "stream",
     "text": [
      "                                               tweet  \\\n",
      "0  !!! RT @mayasolovely: As a woman you shouldn't...   \n",
      "1  !!!!! RT @mleew17: boy dats cold...tyga dwn ba...   \n",
      "2  !!!!!!! RT @UrKindOfBrand Dawg!!!! RT @80sbaby...   \n",
      "3  !!!!!!!!! RT @C_G_Anderson: @viva_based she lo...   \n",
      "4  !!!!!!!!!!!!! RT @ShenikaRoberts: The shit you...   \n",
      "5  !!!!!!!!!!!!!!!!!!\"@T_Madison_x: The shit just...   \n",
      "6  !!!!!!\"@__BrighterDays: I can not just sit up ...   \n",
      "7  !!!!&#8220;@selfiequeenbri: cause I'm tired of...   \n",
      "8  \" &amp; you might not get ya bitch back &amp; ...   \n",
      "9  \" @rhythmixx_ :hobbies include: fighting Maria...   \n",
      "\n",
      "                                 preprocessed_tweets  \n",
      "0  rt woman complain clean hous amp man alway tak...  \n",
      "1  rt boy dat cold tyga dwn bad cuffin dat hoe st...  \n",
      "2   rt dawg rt ever fuck bitch start cri confus shit  \n",
      "3                                rt look like tranni  \n",
      "4  rt shit hear might true might faker bitch told ya  \n",
      "5      shit blow claim faith somebodi still fuck hoe  \n",
      "6          not sit hate anoth bitch got much shit go  \n",
      "7            caus tire big bitch come us skinni girl  \n",
      "8           amp might not get ya bitch back amp that  \n",
      "9                    hobbi includ fight mariam bitch  \n"
     ]
    }
   ],
   "source": [
    "stemmer = PorterStemmer()\n",
    "\n",
    "def preprocess(tweet):\n",
    "    \n",
    "    #remove extra spaces\n",
    "    regex_pattern = re.compile(r'\\s+')\n",
    "    tweet_space_removed = tweet.str.replace(regex_pattern, ' ')\n",
    "    \n",
    "    #remove mentions(@)\n",
    "    regex_patten = re.compile(r'@[\\w\\-]+')\n",
    "    tweets = tweet_space_removed.str.replace(regex_patten, '')\n",
    "    \n",
    "    #remove URLs\n",
    "    url_regex = re.compile('http[s]?://(?:[a-zA-Z]|[0-9]|[$-_@.&+]|'\n",
    "                           '[!*\\(\\),]|(?:%[0-9a-fA-F][0-9a-fA-F]))+')\n",
    "    tweets_new = tweets.str.replace(url_regex, '')\n",
    "    \n",
    "    #remove numbers and punctuations\n",
    "    remove_punc_num = tweets_new.str.replace(\"[^a-zA-Z]\", \" \")\n",
    "    \n",
    "    #replace whitespaces with space\n",
    "    newtweet = remove_punc_num.str.replace(r'\\s+', ' ')\n",
    "    \n",
    "    #remove leading and trailing whitespaces\n",
    "    newtweet = newtweet.str.replace(r'^\\s+|\\s+?$','')\n",
    "    \n",
    "    #lowercase\n",
    "    tweets_lower = newtweet.str.lower()\n",
    "    \n",
    "    #tokenize\n",
    "    tokenized_tweet = tweets_lower.apply(lambda x: x.split())\n",
    "    \n",
    "    #remove stop words\n",
    "    tokenized_tweet = tokenized_tweet.apply(lambda x: [item for item in x if item not in stop_words])\n",
    "    \n",
    "    #stem the tweet\n",
    "    tokenized_tweet = tokenized_tweet.apply(lambda x: [stemmer.stem(i) for i in x])\n",
    "    \n",
    "    for i in range(len(tokenized_tweet)):\n",
    "        tokenized_tweet[i] = ' '.join(tokenized_tweet[i])\n",
    "        pre_tweets = tokenized_tweet\n",
    "        \n",
    "    return pre_tweets\n",
    "    \n",
    "preprocessed_tweets = preprocess(tweet)\n",
    "    \n",
    "hate_df['preprocessed_tweets'] = preprocessed_tweets\n",
    "print(hate_df[[\"tweet\",\"preprocessed_tweets\"]].head(10))\n"
   ]
  },
  {
   "cell_type": "markdown",
   "id": "51acca71",
   "metadata": {},
   "source": [
    "# Feature Extraction"
   ]
  },
  {
   "cell_type": "markdown",
   "id": "81fbc90d",
   "metadata": {},
   "source": [
    "* Features are the variables that the machine learning algorithms use to train with. features are also known as independant variables.\n",
    "* I planned to extract three different feature sets to be used to compare to find out which features are more useful\n",
    "* 1. TF-IDF - Term Frequency- Inverse Document Frequency\n",
    "* 2. Polarity scores by doing a sentiment analysis\n",
    "* 3. FKRA and FRE scores with some additional featurs\n",
    "***\n"
   ]
  },
  {
   "cell_type": "markdown",
   "id": "dbebde3c",
   "metadata": {},
   "source": [
    "## 1: TF-IDF"
   ]
  },
  {
   "cell_type": "markdown",
   "id": "ee04fc11",
   "metadata": {},
   "source": [
    "* The term frequency-inverse document frequency vector is a method of determining the importance of a word or phrase. The presence of a unique word in a text may be determined using TF-IDF. This might be an important feature in recognizing the significance of various words in understanding specific different types of speech\n",
    "* They are intended as weighting factors reflecting the importance of a word in a tweet among a collection of tweets.\n",
    "* The term frequency represents the number of appearance of a word in a document, and the adjustment is made by the inverse document frequency. The inverse document frequency role is to give more weight to meaningful words, and reduce the weight of word not giving relevant information."
   ]
  },
  {
   "cell_type": "code",
   "execution_count": 17,
   "id": "f0349a39",
   "metadata": {},
   "outputs": [],
   "source": [
    "from sklearn.feature_extraction.text import TfidfVectorizer"
   ]
  },
  {
   "cell_type": "code",
   "execution_count": 18,
   "id": "4c4dba36",
   "metadata": {},
   "outputs": [],
   "source": [
    "tfidf_vectorizer = TfidfVectorizer(ngram_range=(1, 2),max_df=0.75, min_df=5, max_features=10000)\n",
    "tfidf = tfidf_vectorizer.fit_transform(hate_df['preprocessed_tweets'])#feature matrix"
   ]
  },
  {
   "cell_type": "code",
   "execution_count": 19,
   "id": "fe586fe5",
   "metadata": {},
   "outputs": [
    {
     "data": {
      "text/plain": [
       "<24783x6794 sparse matrix of type '<class 'numpy.float64'>'\n",
       "\twith 203497 stored elements in Compressed Sparse Row format>"
      ]
     },
     "execution_count": 19,
     "metadata": {},
     "output_type": "execute_result"
    }
   ],
   "source": [
    "tfidf"
   ]
  },
  {
   "cell_type": "code",
   "execution_count": 20,
   "id": "6152ed77",
   "metadata": {},
   "outputs": [
    {
     "name": "stdout",
     "output_type": "stream",
     "text": [
      "  (0, 5899)\t0.3895484939875555\n",
      "  (0, 5185)\t0.4144986349231078\n",
      "  (0, 6172)\t0.19246718350590478\n",
      "  (0, 5886)\t0.2435832297238816\n",
      "  (0, 103)\t0.25748371192925085\n",
      "  (0, 3652)\t0.22598841095809424\n",
      "  (0, 124)\t0.20746703102056352\n",
      "  (0, 2906)\t0.2935344050923211\n",
      "  (0, 1197)\t0.336083058427105\n",
      "  (0, 1273)\t0.34173224409911557\n",
      "  (0, 6613)\t0.3043869233998087\n",
      "  (0, 4909)\t0.10539761982292996\n",
      "  (1, 1463)\t0.3318876699404794\n",
      "  (1, 4932)\t0.336404015570907\n",
      "  (1, 4441)\t0.2755968294869668\n",
      "  (1, 5691)\t0.28194530204137186\n",
      "  (1, 2725)\t0.1143921832686951\n",
      "  (1, 1395)\t0.3540802182468746\n",
      "  (1, 321)\t0.19523151408628528\n",
      "  (1, 6295)\t0.3340830834194979\n",
      "  (1, 1229)\t0.28194530204137186\n",
      "  (1, 1461)\t0.4413283020640348\n",
      "  (1, 896)\t0.22472806570675913\n",
      "  (1, 4909)\t0.0910186615717789\n",
      "  (2, 727)\t0.3390168249843799\n",
      "  :\t:\n",
      "  (24780, 966)\t0.343011332843257\n",
      "  (24780, 63)\t0.37409643142606824\n",
      "  (24780, 4110)\t0.26604418498734955\n",
      "  (24780, 1552)\t0.2613777761879398\n",
      "  (24780, 2196)\t0.2280990649157048\n",
      "  (24780, 1720)\t0.21384505532921141\n",
      "  (24780, 6424)\t0.21706201572242145\n",
      "  (24780, 6775)\t0.2640345866050825\n",
      "  (24780, 59)\t0.22992687608371262\n",
      "  (24780, 3363)\t0.13224867315276312\n",
      "  (24780, 1461)\t0.2216496098185776\n",
      "  (24781, 5979)\t0.6189846532704482\n",
      "  (24781, 6573)\t0.5563882350726619\n",
      "  (24781, 3350)\t0.45141241139049565\n",
      "  (24781, 2471)\t0.2924821464067444\n",
      "  (24781, 474)\t0.13405655435044156\n",
      "  (24782, 1245)\t0.4330856162672851\n",
      "  (24782, 4430)\t0.3599215657537571\n",
      "  (24782, 142)\t0.4330856162672851\n",
      "  (24782, 4293)\t0.38472304857080997\n",
      "  (24782, 1235)\t0.2679839584174029\n",
      "  (24782, 386)\t0.32936306298879203\n",
      "  (24782, 6742)\t0.25824505050980634\n",
      "  (24782, 6538)\t0.24155660192140488\n",
      "  (24782, 124)\t0.20489707927022777\n"
     ]
    }
   ],
   "source": [
    "print(tfidf)"
   ]
  },
  {
   "cell_type": "code",
   "execution_count": 21,
   "id": "8e68470f",
   "metadata": {},
   "outputs": [
    {
     "data": {
      "text/plain": [
       "array([[0., 0., 0., ..., 0., 0., 0.],\n",
       "       [0., 0., 0., ..., 0., 0., 0.],\n",
       "       [0., 0., 0., ..., 0., 0., 0.],\n",
       "       ...,\n",
       "       [0., 0., 0., ..., 0., 0., 0.],\n",
       "       [0., 0., 0., ..., 0., 0., 0.],\n",
       "       [0., 0., 0., ..., 0., 0., 0.]])"
      ]
     },
     "execution_count": 21,
     "metadata": {},
     "output_type": "execute_result"
    }
   ],
   "source": [
    "#convert the matrix to an array\n",
    "tfidf_a = tfidf.toarray()\n",
    "tfidf_a"
   ]
  },
  {
   "cell_type": "markdown",
   "id": "de14bb6d",
   "metadata": {},
   "source": [
    "***"
   ]
  },
  {
   "cell_type": "markdown",
   "id": "c340cbe8",
   "metadata": {},
   "source": [
    "## 2: Polarity Scores using sentiment  Analysis"
   ]
  },
  {
   "cell_type": "markdown",
   "id": "896260b9",
   "metadata": {},
   "source": [
    "* Text classification extends beyond simple analytical processing. It is critical to understand the sentiment underlying the message; else, its real meaning will most likely be misunderstood and/or misinterpreted. Vader sentiment of NLTK will be used to capture polarity scores (positive, negative, and neutral) of each sentence to be used as a set of features for ML algorithms"
   ]
  },
  {
   "cell_type": "code",
   "execution_count": 22,
   "id": "9134a32e",
   "metadata": {},
   "outputs": [
    {
     "name": "stderr",
     "output_type": "stream",
     "text": [
      "[nltk_data] Downloading package vader_lexicon to\n",
      "[nltk_data]     C:\\Users\\User\\AppData\\Roaming\\nltk_data...\n",
      "[nltk_data]   Package vader_lexicon is already up-to-date!\n"
     ]
    },
    {
     "data": {
      "text/plain": [
       "True"
      ]
     },
     "execution_count": 22,
     "metadata": {},
     "output_type": "execute_result"
    }
   ],
   "source": [
    "from nltk.sentiment.vader import SentimentIntensityAnalyzer as VS\n",
    "nltk.download('vader_lexicon')"
   ]
  },
  {
   "cell_type": "code",
   "execution_count": 23,
   "id": "f3b82f53",
   "metadata": {},
   "outputs": [
    {
     "data": {
      "text/html": [
       "<div>\n",
       "<style scoped>\n",
       "    .dataframe tbody tr th:only-of-type {\n",
       "        vertical-align: middle;\n",
       "    }\n",
       "\n",
       "    .dataframe tbody tr th {\n",
       "        vertical-align: top;\n",
       "    }\n",
       "\n",
       "    .dataframe thead th {\n",
       "        text-align: right;\n",
       "    }\n",
       "</style>\n",
       "<table border=\"1\" class=\"dataframe\">\n",
       "  <thead>\n",
       "    <tr style=\"text-align: right;\">\n",
       "      <th></th>\n",
       "      <th>Neg</th>\n",
       "      <th>Pos</th>\n",
       "      <th>Neu</th>\n",
       "      <th>compound</th>\n",
       "    </tr>\n",
       "  </thead>\n",
       "  <tbody>\n",
       "    <tr>\n",
       "      <th>0</th>\n",
       "      <td>0.000</td>\n",
       "      <td>0.120</td>\n",
       "      <td>0.880</td>\n",
       "      <td>0.4563</td>\n",
       "    </tr>\n",
       "    <tr>\n",
       "      <th>1</th>\n",
       "      <td>0.237</td>\n",
       "      <td>0.000</td>\n",
       "      <td>0.763</td>\n",
       "      <td>-0.6876</td>\n",
       "    </tr>\n",
       "    <tr>\n",
       "      <th>2</th>\n",
       "      <td>0.538</td>\n",
       "      <td>0.000</td>\n",
       "      <td>0.462</td>\n",
       "      <td>-0.9550</td>\n",
       "    </tr>\n",
       "    <tr>\n",
       "      <th>3</th>\n",
       "      <td>0.000</td>\n",
       "      <td>0.344</td>\n",
       "      <td>0.656</td>\n",
       "      <td>0.5673</td>\n",
       "    </tr>\n",
       "    <tr>\n",
       "      <th>4</th>\n",
       "      <td>0.249</td>\n",
       "      <td>0.081</td>\n",
       "      <td>0.669</td>\n",
       "      <td>-0.7762</td>\n",
       "    </tr>\n",
       "    <tr>\n",
       "      <th>...</th>\n",
       "      <td>...</td>\n",
       "      <td>...</td>\n",
       "      <td>...</td>\n",
       "      <td>...</td>\n",
       "    </tr>\n",
       "    <tr>\n",
       "      <th>24778</th>\n",
       "      <td>0.000</td>\n",
       "      <td>0.000</td>\n",
       "      <td>1.000</td>\n",
       "      <td>0.0000</td>\n",
       "    </tr>\n",
       "    <tr>\n",
       "      <th>24779</th>\n",
       "      <td>0.454</td>\n",
       "      <td>0.000</td>\n",
       "      <td>0.546</td>\n",
       "      <td>-0.8074</td>\n",
       "    </tr>\n",
       "    <tr>\n",
       "      <th>24780</th>\n",
       "      <td>0.000</td>\n",
       "      <td>0.219</td>\n",
       "      <td>0.781</td>\n",
       "      <td>0.4738</td>\n",
       "    </tr>\n",
       "    <tr>\n",
       "      <th>24781</th>\n",
       "      <td>0.573</td>\n",
       "      <td>0.000</td>\n",
       "      <td>0.427</td>\n",
       "      <td>-0.7717</td>\n",
       "    </tr>\n",
       "    <tr>\n",
       "      <th>24782</th>\n",
       "      <td>0.000</td>\n",
       "      <td>0.218</td>\n",
       "      <td>0.782</td>\n",
       "      <td>0.5994</td>\n",
       "    </tr>\n",
       "  </tbody>\n",
       "</table>\n",
       "<p>24783 rows × 4 columns</p>\n",
       "</div>"
      ],
      "text/plain": [
       "         Neg    Pos    Neu  compound\n",
       "0      0.000  0.120  0.880    0.4563\n",
       "1      0.237  0.000  0.763   -0.6876\n",
       "2      0.538  0.000  0.462   -0.9550\n",
       "3      0.000  0.344  0.656    0.5673\n",
       "4      0.249  0.081  0.669   -0.7762\n",
       "...      ...    ...    ...       ...\n",
       "24778  0.000  0.000  1.000    0.0000\n",
       "24779  0.454  0.000  0.546   -0.8074\n",
       "24780  0.000  0.219  0.781    0.4738\n",
       "24781  0.573  0.000  0.427   -0.7717\n",
       "24782  0.000  0.218  0.782    0.5994\n",
       "\n",
       "[24783 rows x 4 columns]"
      ]
     },
     "execution_count": 23,
     "metadata": {},
     "output_type": "execute_result"
    }
   ],
   "source": [
    "sentiment_analyzer=VS()#object\n",
    "\n",
    "def sentiment_analysis(tweet):\n",
    "    sentiment = sentiment_analyzer.polarity_scores(tweet)\n",
    "    features = [sentiment['neg'], sentiment['pos'], sentiment['neu'], sentiment['compound']]\n",
    "    return features\n",
    "\n",
    "def sentiment_analysis_array(tweets):\n",
    "    features=[]\n",
    "    for t in tweets:\n",
    "        features.append(sentiment_analysis(t))\n",
    "    return np.array(features)\n",
    "\n",
    "sentiment_features=sentiment_analysis_array(tweet)\n",
    "\n",
    "new_features = pd.DataFrame({'Neg':sentiment_features[:,0], 'Pos':sentiment_features[:,1], 'Neu':sentiment_features[:,2], 'compound':sentiment_features[:,3]})\n",
    "new_features"
   ]
  },
  {
   "cell_type": "markdown",
   "id": "b34b91ca",
   "metadata": {},
   "source": [
    "## 3: some additional Features"
   ]
  },
  {
   "cell_type": "markdown",
   "id": "8fc33e75",
   "metadata": {},
   "source": [
    "I decided to use Flesh kincaid grade level(*FKGL*) and flesh Reading ease(*FRE*) score as 2 of the additional features.\n",
    "\n",
    "* flesh readability formulas were developed by *rudolf flesh* in 1940. these scores are used to assess the readability of a text\n",
    "* *FRE* gives a text a score between 1-100 with 100 being the highest readability score. this method is used by marketers, research communicators etc.All use it to help them assess the ease by which a piece of text will be understood and engaged with.\n",
    "\n",
    "* *FKGL* is a widely used readability formula which assesses the approximate reading grade level of a text. f a text has a Flesch Kincaid level of 8, this means the reader needs a grade 8 level of reading or above to understand it. Even if they’re an advanced reader, it means the content is less time-consuming to read. \n",
    "\n",
    "to use these formulas, we have to find below featurs:\n",
    "* syllables - total number of syllables per tweet\n",
    "* average syllables - total syllables/total words\n",
    "* number of characters - sum of number of characters in a tweet\n",
    "* total characters - length of a tweet\n",
    "* number of words - number of words in a tweet\n",
    "* number of unique words"
   ]
  },
  {
   "cell_type": "code",
   "execution_count": 24,
   "id": "26405a76",
   "metadata": {},
   "outputs": [],
   "source": [
    "from textstat.textstat import textstat"
   ]
  },
  {
   "cell_type": "code",
   "execution_count": 25,
   "id": "6ba78b2f",
   "metadata": {},
   "outputs": [
    {
     "data": {
      "text/html": [
       "<div>\n",
       "<style scoped>\n",
       "    .dataframe tbody tr th:only-of-type {\n",
       "        vertical-align: middle;\n",
       "    }\n",
       "\n",
       "    .dataframe tbody tr th {\n",
       "        vertical-align: top;\n",
       "    }\n",
       "\n",
       "    .dataframe thead th {\n",
       "        text-align: right;\n",
       "    }\n",
       "</style>\n",
       "<table border=\"1\" class=\"dataframe\">\n",
       "  <thead>\n",
       "    <tr style=\"text-align: right;\">\n",
       "      <th></th>\n",
       "      <th>0</th>\n",
       "      <th>1</th>\n",
       "      <th>2</th>\n",
       "      <th>3</th>\n",
       "      <th>4</th>\n",
       "      <th>5</th>\n",
       "      <th>6</th>\n",
       "      <th>7</th>\n",
       "    </tr>\n",
       "  </thead>\n",
       "  <tbody>\n",
       "    <tr>\n",
       "      <th>0</th>\n",
       "      <td>3.7</td>\n",
       "      <td>86.71</td>\n",
       "      <td>13.0</td>\n",
       "      <td>1.3000</td>\n",
       "      <td>53.0</td>\n",
       "      <td>53.0</td>\n",
       "      <td>10.0</td>\n",
       "      <td>10.0</td>\n",
       "    </tr>\n",
       "    <tr>\n",
       "      <th>1</th>\n",
       "      <td>2.9</td>\n",
       "      <td>95.95</td>\n",
       "      <td>14.0</td>\n",
       "      <td>1.1667</td>\n",
       "      <td>52.0</td>\n",
       "      <td>52.0</td>\n",
       "      <td>12.0</td>\n",
       "      <td>11.0</td>\n",
       "    </tr>\n",
       "    <tr>\n",
       "      <th>2</th>\n",
       "      <td>2.5</td>\n",
       "      <td>95.17</td>\n",
       "      <td>12.0</td>\n",
       "      <td>1.2000</td>\n",
       "      <td>48.0</td>\n",
       "      <td>48.0</td>\n",
       "      <td>10.0</td>\n",
       "      <td>9.0</td>\n",
       "    </tr>\n",
       "    <tr>\n",
       "      <th>3</th>\n",
       "      <td>0.7</td>\n",
       "      <td>97.03</td>\n",
       "      <td>5.0</td>\n",
       "      <td>1.2499</td>\n",
       "      <td>19.0</td>\n",
       "      <td>19.0</td>\n",
       "      <td>4.0</td>\n",
       "      <td>4.0</td>\n",
       "    </tr>\n",
       "    <tr>\n",
       "      <th>4</th>\n",
       "      <td>1.3</td>\n",
       "      <td>103.62</td>\n",
       "      <td>11.0</td>\n",
       "      <td>1.1000</td>\n",
       "      <td>49.0</td>\n",
       "      <td>49.0</td>\n",
       "      <td>10.0</td>\n",
       "      <td>9.0</td>\n",
       "    </tr>\n",
       "    <tr>\n",
       "      <th>...</th>\n",
       "      <td>...</td>\n",
       "      <td>...</td>\n",
       "      <td>...</td>\n",
       "      <td>...</td>\n",
       "      <td>...</td>\n",
       "      <td>...</td>\n",
       "      <td>...</td>\n",
       "      <td>...</td>\n",
       "    </tr>\n",
       "    <tr>\n",
       "      <th>24778</th>\n",
       "      <td>1.0</td>\n",
       "      <td>103.70</td>\n",
       "      <td>10.0</td>\n",
       "      <td>1.1111</td>\n",
       "      <td>49.0</td>\n",
       "      <td>49.0</td>\n",
       "      <td>9.0</td>\n",
       "      <td>9.0</td>\n",
       "    </tr>\n",
       "    <tr>\n",
       "      <th>24779</th>\n",
       "      <td>0.8</td>\n",
       "      <td>103.54</td>\n",
       "      <td>9.0</td>\n",
       "      <td>1.1250</td>\n",
       "      <td>47.0</td>\n",
       "      <td>47.0</td>\n",
       "      <td>8.0</td>\n",
       "      <td>8.0</td>\n",
       "    </tr>\n",
       "    <tr>\n",
       "      <th>24780</th>\n",
       "      <td>2.5</td>\n",
       "      <td>95.17</td>\n",
       "      <td>12.0</td>\n",
       "      <td>1.2000</td>\n",
       "      <td>51.0</td>\n",
       "      <td>51.0</td>\n",
       "      <td>10.0</td>\n",
       "      <td>10.0</td>\n",
       "    </tr>\n",
       "    <tr>\n",
       "      <th>24781</th>\n",
       "      <td>-1.4</td>\n",
       "      <td>116.15</td>\n",
       "      <td>6.0</td>\n",
       "      <td>1.0000</td>\n",
       "      <td>30.0</td>\n",
       "      <td>30.0</td>\n",
       "      <td>6.0</td>\n",
       "      <td>6.0</td>\n",
       "    </tr>\n",
       "    <tr>\n",
       "      <th>24782</th>\n",
       "      <td>5.8</td>\n",
       "      <td>76.50</td>\n",
       "      <td>18.0</td>\n",
       "      <td>1.3846</td>\n",
       "      <td>77.0</td>\n",
       "      <td>77.0</td>\n",
       "      <td>13.0</td>\n",
       "      <td>13.0</td>\n",
       "    </tr>\n",
       "  </tbody>\n",
       "</table>\n",
       "<p>24783 rows × 8 columns</p>\n",
       "</div>"
      ],
      "text/plain": [
       "         0       1     2       3     4     5     6     7\n",
       "0      3.7   86.71  13.0  1.3000  53.0  53.0  10.0  10.0\n",
       "1      2.9   95.95  14.0  1.1667  52.0  52.0  12.0  11.0\n",
       "2      2.5   95.17  12.0  1.2000  48.0  48.0  10.0   9.0\n",
       "3      0.7   97.03   5.0  1.2499  19.0  19.0   4.0   4.0\n",
       "4      1.3  103.62  11.0  1.1000  49.0  49.0  10.0   9.0\n",
       "...    ...     ...   ...     ...   ...   ...   ...   ...\n",
       "24778  1.0  103.70  10.0  1.1111  49.0  49.0   9.0   9.0\n",
       "24779  0.8  103.54   9.0  1.1250  47.0  47.0   8.0   8.0\n",
       "24780  2.5   95.17  12.0  1.2000  51.0  51.0  10.0  10.0\n",
       "24781 -1.4  116.15   6.0  1.0000  30.0  30.0   6.0   6.0\n",
       "24782  5.8   76.50  18.0  1.3846  77.0  77.0  13.0  13.0\n",
       "\n",
       "[24783 rows x 8 columns]"
      ]
     },
     "execution_count": 25,
     "metadata": {},
     "output_type": "execute_result"
    }
   ],
   "source": [
    "def additional_features(tweet):\n",
    "    \n",
    "    syllables = textstat.syllable_count(tweet)\n",
    "    num_chars = sum(len(w) for w in tweet)\n",
    "    length = len(tweet)\n",
    "    num_words = len(tweet.split())\n",
    "    avg_syl = round(float((syllables+0.001))/float(num_words+0.001),4)\n",
    "    num_unique_words = len(set(tweet.split()))\n",
    "    \n",
    "    # FKGL grade\n",
    "    FKRA = round(float(0.39 * float(num_words)/1.0) + float(11.8 * avg_syl) - 15.59,1)\n",
    "    #FRE score\n",
    "    FRE = round(206.835 - 1.015*(float(num_words)/1.0) - (84.6*float(avg_syl)),2)\n",
    "    \n",
    "    addit_features = [FKRA, FRE, syllables, avg_syl, num_chars, length, num_words,  num_unique_words]\n",
    "    return addit_features\n",
    "\n",
    "def get_additional_features_array(tweets):\n",
    "    features = []\n",
    "    for t in tweets:\n",
    "        features.append(additional_features(t))\n",
    "    return np.array(features)\n",
    "\n",
    "addifeatures = get_additional_features_array(preprocessed_tweets)\n",
    "\n",
    "df_addifeatures = pd.DataFrame(addifeatures)\n",
    "df_addifeatures\n",
    "    "
   ]
  },
  {
   "cell_type": "markdown",
   "id": "47842f82",
   "metadata": {},
   "source": [
    "***"
   ]
  },
  {
   "cell_type": "markdown",
   "id": "08116c99",
   "metadata": {},
   "source": [
    "# Finding which feature sets perform the best with selected machine learning algorithms"
   ]
  },
  {
   "cell_type": "markdown",
   "id": "3a5d28bb",
   "metadata": {},
   "source": [
    "I compared different combinations of selected 3 feature sets with tf-idf as the main features, with 6 machine learning algorithms:\n",
    "* Logistic Regression\n",
    "* Random forest\n",
    "* Linear SVC of SVM\n",
    "* K neighbours classifier\n",
    "* Naive Bayes\n",
    "* The Gradient Descent\n",
    "\n",
    "The purpose was to find out which features work best with which algorithm. Therefore I can continue with that to further optimization"
   ]
  },
  {
   "cell_type": "code",
   "execution_count": 26,
   "id": "4d6a0663",
   "metadata": {},
   "outputs": [],
   "source": [
    "from wordcloud import WordCloud\n",
    "%matplotlib inline\n",
    "from matplotlib import pyplot as plt\n",
    "from PIL import Image\n",
    "from gensim.test.utils import common_texts\n",
    "import seaborn\n",
    "from sklearn.metrics import confusion_matrix\n",
    "from sklearn.model_selection import train_test_split\n",
    "from sklearn.linear_model import LogisticRegression\n",
    "from sklearn.svm import LinearSVC\n",
    "from sklearn.ensemble import RandomForestClassifier\n",
    "from sklearn.naive_bayes import GaussianNB\n",
    "from sklearn.neighbors import KNeighborsClassifier\n",
    "from sklearn import svm\n",
    "from sklearn.linear_model import SGDClassifier\n",
    "from sklearn.tree import DecisionTreeClassifier\n",
    "from sklearn.metrics import classification_report\n",
    "from sklearn.metrics import accuracy_score, precision_score, recall_score, f1_score, make_scorer, confusion_matrix"
   ]
  },
  {
   "cell_type": "markdown",
   "id": "7bb08b3f",
   "metadata": {},
   "source": [
    "## Compare ML algorithms with TF-IDF feature set"
   ]
  },
  {
   "cell_type": "markdown",
   "id": "3f7e52eb",
   "metadata": {},
   "source": [
    "## 1: Logistic Regression"
   ]
  },
  {
   "cell_type": "code",
   "execution_count": 27,
   "id": "f12b7566",
   "metadata": {},
   "outputs": [
    {
     "name": "stdout",
     "output_type": "stream",
     "text": [
      "              precision    recall  f1-score   support\n",
      "\n",
      "           0       0.59      0.17      0.27       279\n",
      "           1       0.92      0.97      0.94      3852\n",
      "           2       0.85      0.85      0.85       826\n",
      "\n",
      "    accuracy                           0.90      4957\n",
      "   macro avg       0.79      0.66      0.69      4957\n",
      "weighted avg       0.89      0.90      0.89      4957\n",
      "\n",
      "Logistic Regression, Accuracy Score: 0.9019568287270526\n"
     ]
    },
    {
     "name": "stderr",
     "output_type": "stream",
     "text": [
      "C:\\Users\\User\\anaconda3\\lib\\site-packages\\sklearn\\linear_model\\_logistic.py:444: ConvergenceWarning: lbfgs failed to converge (status=1):\n",
      "STOP: TOTAL NO. of ITERATIONS REACHED LIMIT.\n",
      "\n",
      "Increase the number of iterations (max_iter) or scale the data as shown in:\n",
      "    https://scikit-learn.org/stable/modules/preprocessing.html\n",
      "Please also refer to the documentation for alternative solver options:\n",
      "    https://scikit-learn.org/stable/modules/linear_model.html#logistic-regression\n",
      "  n_iter_i = _check_optimize_result(\n"
     ]
    }
   ],
   "source": [
    "# If you don't specify the random_state in the code, \n",
    "# then every time you run(execute) your code a new random value is generated \n",
    "# and the train and test datasets would have different values each time.\n",
    "X = tfidf\n",
    "y = hate_df['class'].astype(int)\n",
    "\n",
    "X_train_tfidf, X_test_tfidf, y_train, y_test = train_test_split(X, y, random_state=0, test_size=0.2)\n",
    "model_lr = LogisticRegression().fit(X_train_tfidf,y_train)\n",
    "y_preds = model_lr.predict(X_test_tfidf)\n",
    "\n",
    "report = classification_report( y_test, y_preds )\n",
    "print(report)\n",
    "acc1=accuracy_score(y_test,y_preds)\n",
    "print(\"Logistic Regression, Accuracy Score:\" , acc1)\n"
   ]
  },
  {
   "cell_type": "markdown",
   "id": "5ca876f4",
   "metadata": {},
   "source": [
    "## 2: Random Forest"
   ]
  },
  {
   "cell_type": "code",
   "execution_count": 28,
   "id": "f02d1f4c",
   "metadata": {},
   "outputs": [
    {
     "name": "stdout",
     "output_type": "stream",
     "text": [
      "              precision    recall  f1-score   support\n",
      "\n",
      "           0       0.49      0.14      0.22       279\n",
      "           1       0.93      0.96      0.94      3852\n",
      "           2       0.84      0.92      0.88       826\n",
      "\n",
      "    accuracy                           0.91      4957\n",
      "   macro avg       0.75      0.68      0.68      4957\n",
      "weighted avg       0.89      0.91      0.89      4957\n",
      "\n",
      "Random Forest, Accuracy Score: 0.9067984668146056\n"
     ]
    }
   ],
   "source": [
    "# X_train_tfidf, X_test_tfidf, y_train, y_test = train_test_split(X, y, random_state=42, test_size=0.2)\n",
    "model_rf = RandomForestClassifier().fit(X_train_tfidf,y_train)\n",
    "y_preds = model_rf.predict(X_test_tfidf)\n",
    "\n",
    "report = classification_report( y_test, y_preds )\n",
    "print(report)\n",
    "acc2=accuracy_score(y_test,y_preds)\n",
    "print(\"Random Forest, Accuracy Score:\" , acc2)"
   ]
  },
  {
   "cell_type": "markdown",
   "id": "bfbe1cb1",
   "metadata": {},
   "source": [
    "## 3: Linear SVC of SVM"
   ]
  },
  {
   "cell_type": "code",
   "execution_count": 29,
   "id": "a663ed47",
   "metadata": {},
   "outputs": [
    {
     "name": "stdout",
     "output_type": "stream",
     "text": [
      "              precision    recall  f1-score   support\n",
      "\n",
      "           0       0.50      0.24      0.33       279\n",
      "           1       0.93      0.96      0.94      3852\n",
      "           2       0.84      0.86      0.85       826\n",
      "\n",
      "    accuracy                           0.90      4957\n",
      "   macro avg       0.75      0.69      0.71      4957\n",
      "weighted avg       0.89      0.90      0.89      4957\n",
      "\n",
      "Linear SVC, Accuracy Score: 0.8995360096832762\n"
     ]
    }
   ],
   "source": [
    "model_lsvc = LinearSVC().fit(X_train_tfidf,y_train)\n",
    "y_preds = model_lsvc.predict(X_test_tfidf)\n",
    "\n",
    "report = classification_report( y_test, y_preds )\n",
    "print(report)\n",
    "acc3=accuracy_score(y_test,y_preds)\n",
    "print(\"Linear SVC, Accuracy Score:\" , acc3)"
   ]
  },
  {
   "cell_type": "markdown",
   "id": "3188ceac",
   "metadata": {},
   "source": [
    "## 4: K neighbors classifier"
   ]
  },
  {
   "cell_type": "code",
   "execution_count": 30,
   "id": "e234b04f",
   "metadata": {},
   "outputs": [
    {
     "name": "stdout",
     "output_type": "stream",
     "text": [
      "              precision    recall  f1-score   support\n",
      "\n",
      "           0       0.41      0.15      0.22       279\n",
      "           1       0.92      0.35      0.51      3852\n",
      "           2       0.22      0.92      0.36       826\n",
      "\n",
      "    accuracy                           0.44      4957\n",
      "   macro avg       0.52      0.47      0.36      4957\n",
      "weighted avg       0.78      0.44      0.47      4957\n",
      "\n",
      "K neighbours classifier, Accuracy Score: 0.4367561024813395\n"
     ]
    }
   ],
   "source": [
    "model_kn = KNeighborsClassifier().fit(X_train_tfidf,y_train)\n",
    "y_preds = model_kn.predict(X_test_tfidf)\n",
    "\n",
    "report = classification_report( y_test, y_preds )\n",
    "print(report)\n",
    "acc4=accuracy_score(y_test,y_preds)\n",
    "print(\"K neighbours classifier, Accuracy Score:\" , acc4)"
   ]
  },
  {
   "cell_type": "markdown",
   "id": "5473257a",
   "metadata": {},
   "source": [
    "## 5: Naive Bayes"
   ]
  },
  {
   "cell_type": "code",
   "execution_count": 31,
   "id": "08bbe79a",
   "metadata": {},
   "outputs": [
    {
     "name": "stdout",
     "output_type": "stream",
     "text": [
      "              precision    recall  f1-score   support\n",
      "\n",
      "           0       0.10      0.38      0.16       290\n",
      "           1       0.89      0.70      0.78      3832\n",
      "           2       0.56      0.60      0.58       835\n",
      "\n",
      "    accuracy                           0.66      4957\n",
      "   macro avg       0.52      0.56      0.51      4957\n",
      "weighted avg       0.79      0.66      0.71      4957\n",
      "\n",
      "Naive bayes, Accuracy Score: 0.6641113576760137\n"
     ]
    }
   ],
   "source": [
    "X_train_tfidf, X_test_tfidf, y_train, y_test = train_test_split(X.toarray(), y, random_state=42, test_size=0.2)\n",
    "model_nb = GaussianNB().fit(X_train_tfidf,y_train)\n",
    "y_preds = model_nb.predict(X_test_tfidf)\n",
    "\n",
    "report = classification_report( y_test, y_preds )\n",
    "print(report)\n",
    "acc5=accuracy_score(y_test,y_preds)\n",
    "print(\"Naive bayes, Accuracy Score:\" , acc5)"
   ]
  },
  {
   "cell_type": "markdown",
   "id": "37677691",
   "metadata": {},
   "source": [
    "## 6: Gradient descent"
   ]
  },
  {
   "cell_type": "code",
   "execution_count": 32,
   "id": "bad0e82e",
   "metadata": {},
   "outputs": [
    {
     "name": "stdout",
     "output_type": "stream",
     "text": [
      "              precision    recall  f1-score   support\n",
      "\n",
      "           0       0.60      0.17      0.27       290\n",
      "           1       0.93      0.96      0.94      3832\n",
      "           2       0.82      0.89      0.85       835\n",
      "\n",
      "    accuracy                           0.90      4957\n",
      "   macro avg       0.78      0.67      0.69      4957\n",
      "weighted avg       0.89      0.90      0.89      4957\n",
      "\n",
      "K neighbours classifier, Accuracy Score: 0.9009481541254791\n"
     ]
    }
   ],
   "source": [
    "X_train_tfidf, X_test_tfidf, y_train, y_test = train_test_split(X, y, random_state=42, test_size=0.2)\n",
    "model_sdgc = SGDClassifier().fit(X_train_tfidf,y_train)\n",
    "y_preds = model_sdgc.predict(X_test_tfidf)\n",
    "\n",
    "report = classification_report( y_test, y_preds )\n",
    "print(report)\n",
    "acc6=accuracy_score(y_test,y_preds)\n",
    "print(\"K neighbours classifier, Accuracy Score:\" , acc6)"
   ]
  },
  {
   "cell_type": "markdown",
   "id": "11858fc2",
   "metadata": {},
   "source": [
    "### Comparisson of the algorithm accuracies with tf-idf features"
   ]
  },
  {
   "cell_type": "code",
   "execution_count": 33,
   "id": "5ea970ca",
   "metadata": {},
   "outputs": [
    {
     "data": {
      "image/png": "[encoded data removed]",
      "text/plain": [
       "<Figure size 432x288 with 1 Axes>"
      ]
     },
     "metadata": {
      "needs_background": "light"
     },
     "output_type": "display_data"
    }
   ],
   "source": [
    "objects = ('Logistic regression', 'RandomForest', 'linear svc', 'Kneighbors', 'naive bayes', 'gradient descent')\n",
    "algorithm = np.arange(len(objects))\n",
    "performance = [acc1,acc2,acc3,acc4,acc5,acc6]\n",
    "barplot = plt.bar(algorithm, performance, align='center', alpha=0.8, color='green')\n",
    "plt.bar_label(barplot, labels=performance, label_type=\"center\", rotation=90)\n",
    "plt.xticks(algorithm, objects, rotation=60)\n",
    "plt.ylabel('Accuracy')\n",
    "plt.title('Algorithm Comparision for tf-idf')\n",
    "plt.show()"
   ]
  },
  {
   "cell_type": "markdown",
   "id": "02f1bc7b",
   "metadata": {},
   "source": [
    "***"
   ]
  },
  {
   "cell_type": "markdown",
   "id": "a6370dfa",
   "metadata": {},
   "source": [
    "## Compare algorithms with TF-IDF and Polarity scores combined"
   ]
  },
  {
   "cell_type": "code",
   "execution_count": 34,
   "id": "482b48e6",
   "metadata": {},
   "outputs": [
    {
     "data": {
      "text/plain": [
       "array([[ 0.    ,  0.    ,  0.    , ...,  0.12  ,  0.88  ,  0.4563],\n",
       "       [ 0.    ,  0.    ,  0.    , ...,  0.    ,  0.763 , -0.6876],\n",
       "       [ 0.    ,  0.    ,  0.    , ...,  0.    ,  0.462 , -0.955 ],\n",
       "       ...,\n",
       "       [ 0.    ,  0.    ,  0.    , ...,  0.219 ,  0.781 ,  0.4738],\n",
       "       [ 0.    ,  0.    ,  0.    , ...,  0.    ,  0.427 , -0.7717],\n",
       "       [ 0.    ,  0.    ,  0.    , ...,  0.218 ,  0.782 ,  0.5994]])"
      ]
     },
     "execution_count": 34,
     "metadata": {},
     "output_type": "execute_result"
    }
   ],
   "source": [
    "tfidf_senti = np.concatenate([tfidf_a,sentiment_features],axis=1)\n",
    "tfidf_senti"
   ]
  },
  {
   "cell_type": "markdown",
   "id": "3581d298",
   "metadata": {},
   "source": [
    "## 1: Logistic Regression"
   ]
  },
  {
   "cell_type": "code",
   "execution_count": 35,
   "id": "135b442e",
   "metadata": {},
   "outputs": [],
   "source": [
    "import warnings\n",
    "X = pd.DataFrame(tfidf_senti)\n",
    "y = hate_df['class'].astype(int)\n",
    "X_train_tfsenti, X_test_tfsenti, y_train, y_test = train_test_split(X, y, random_state=42, test_size=0.2)\n",
    "\n",
    "warnings.filterwarnings('ignore')"
   ]
  },
  {
   "cell_type": "code",
   "execution_count": 36,
   "id": "611fda4f",
   "metadata": {},
   "outputs": [
    {
     "name": "stdout",
     "output_type": "stream",
     "text": [
      "              precision    recall  f1-score   support\n",
      "\n",
      "           0       0.57      0.18      0.27       290\n",
      "           1       0.92      0.96      0.94      3832\n",
      "           2       0.85      0.85      0.85       835\n",
      "\n",
      "    accuracy                           0.90      4957\n",
      "   macro avg       0.78      0.66      0.69      4957\n",
      "weighted avg       0.88      0.90      0.89      4957\n",
      "\n",
      "Logistic Regression, Accuracy Score: 0.8985273350817027\n"
     ]
    }
   ],
   "source": [
    "model_lr1 = LogisticRegression().fit(X_train_tfsenti,y_train)\n",
    "y_preds = model_lr1.predict(X_test_tfsenti)\n",
    "\n",
    "report = classification_report( y_test, y_preds )\n",
    "print(report)\n",
    "acc1=accuracy_score(y_test,y_preds)\n",
    "print(\"Logistic Regression, Accuracy Score:\" , acc1)"
   ]
  },
  {
   "cell_type": "markdown",
   "id": "04287b9d",
   "metadata": {},
   "source": [
    "## 2: Random Forest"
   ]
  },
  {
   "cell_type": "code",
   "execution_count": 37,
   "id": "25d24392",
   "metadata": {},
   "outputs": [
    {
     "name": "stdout",
     "output_type": "stream",
     "text": [
      "              precision    recall  f1-score   support\n",
      "\n",
      "           0       0.50      0.13      0.20       290\n",
      "           1       0.91      0.97      0.94      3832\n",
      "           2       0.85      0.84      0.85       835\n",
      "\n",
      "    accuracy                           0.90      4957\n",
      "   macro avg       0.75      0.64      0.66      4957\n",
      "weighted avg       0.88      0.90      0.88      4957\n",
      "\n",
      "Random forest, Accuracy Score: 0.8950978414363526\n"
     ]
    }
   ],
   "source": [
    "model_rf1 = RandomForestClassifier().fit(X_train_tfsenti,y_train)\n",
    "y_preds = model_rf1.predict(X_test_tfsenti)\n",
    "\n",
    "report = classification_report( y_test, y_preds )\n",
    "print(report)\n",
    "acc2 = accuracy_score(y_test,y_preds)\n",
    "print(\"Random forest, Accuracy Score:\" , acc2)"
   ]
  },
  {
   "cell_type": "markdown",
   "id": "6537d159",
   "metadata": {},
   "source": [
    "## 3: Linear SVC "
   ]
  },
  {
   "cell_type": "code",
   "execution_count": 38,
   "id": "d7d3082e",
   "metadata": {},
   "outputs": [
    {
     "name": "stdout",
     "output_type": "stream",
     "text": [
      "              precision    recall  f1-score   support\n",
      "\n",
      "           0       0.46      0.26      0.33       290\n",
      "           1       0.92      0.95      0.94      3832\n",
      "           2       0.83      0.85      0.84       835\n",
      "\n",
      "    accuracy                           0.89      4957\n",
      "   macro avg       0.74      0.69      0.70      4957\n",
      "weighted avg       0.88      0.89      0.89      4957\n",
      "\n",
      "Linear SVC, Accuracy Score: 0.8926770223925762\n"
     ]
    }
   ],
   "source": [
    "model_lsvc1 = LinearSVC().fit(X_train_tfsenti,y_train)\n",
    "y_preds = model_lsvc1.predict(X_test_tfsenti)\n",
    "\n",
    "report = classification_report( y_test, y_preds )\n",
    "print(report)\n",
    "acc3 = accuracy_score(y_test,y_preds)\n",
    "print(\"Linear SVC, Accuracy Score:\" , acc3)"
   ]
  },
  {
   "cell_type": "markdown",
   "id": "e0565d93",
   "metadata": {},
   "source": [
    "## 4: K neighbors classifier"
   ]
  },
  {
   "cell_type": "code",
   "execution_count": 39,
   "id": "7843f371",
   "metadata": {},
   "outputs": [
    {
     "name": "stdout",
     "output_type": "stream",
     "text": [
      "              precision    recall  f1-score   support\n",
      "\n",
      "           0       0.51      0.19      0.28       290\n",
      "           1       0.92      0.71      0.80      3832\n",
      "           2       0.38      0.86      0.53       835\n",
      "\n",
      "    accuracy                           0.70      4957\n",
      "   macro avg       0.60      0.59      0.54      4957\n",
      "weighted avg       0.80      0.70      0.72      4957\n",
      "\n",
      "K neighbors, Accuracy Score: 0.7046600766592698\n"
     ]
    }
   ],
   "source": [
    "model_kn1 = KNeighborsClassifier().fit(X_train_tfsenti,y_train)\n",
    "y_preds = model_kn1.predict(X_test_tfsenti)\n",
    "\n",
    "report = classification_report( y_test, y_preds )\n",
    "print(report)\n",
    "acc4 = accuracy_score(y_test,y_preds)\n",
    "print(\"K neighbors, Accuracy Score:\" , acc4)"
   ]
  },
  {
   "cell_type": "markdown",
   "id": "758cce56",
   "metadata": {},
   "source": [
    "## 5: Naive Bayes"
   ]
  },
  {
   "cell_type": "code",
   "execution_count": 40,
   "id": "b701c20c",
   "metadata": {},
   "outputs": [
    {
     "name": "stdout",
     "output_type": "stream",
     "text": [
      "              precision    recall  f1-score   support\n",
      "\n",
      "           0       0.10      0.38      0.16       290\n",
      "           1       0.89      0.70      0.78      3832\n",
      "           2       0.56      0.60      0.58       835\n",
      "\n",
      "    accuracy                           0.66      4957\n",
      "   macro avg       0.52      0.56      0.51      4957\n",
      "weighted avg       0.79      0.66      0.71      4957\n",
      "\n",
      "Naive bayes, Accuracy Score: 0.6643130925963284\n"
     ]
    }
   ],
   "source": [
    "model_nb1 = GaussianNB().fit(X_train_tfsenti,y_train)\n",
    "y_preds = model_nb1.predict(X_test_tfsenti)\n",
    "\n",
    "report = classification_report( y_test, y_preds )\n",
    "print(report)\n",
    "acc5 = accuracy_score(y_test,y_preds)\n",
    "print(\"Naive bayes, Accuracy Score:\" , acc5)"
   ]
  },
  {
   "cell_type": "markdown",
   "id": "aa2b8482",
   "metadata": {},
   "source": [
    "## 6: Gradient Descent"
   ]
  },
  {
   "cell_type": "code",
   "execution_count": 41,
   "id": "1a866d1c",
   "metadata": {},
   "outputs": [
    {
     "name": "stdout",
     "output_type": "stream",
     "text": [
      "              precision    recall  f1-score   support\n",
      "\n",
      "           0       0.59      0.20      0.29       290\n",
      "           1       0.93      0.96      0.94      3832\n",
      "           2       0.83      0.90      0.87       835\n",
      "\n",
      "    accuracy                           0.91      4957\n",
      "   macro avg       0.78      0.69      0.70      4957\n",
      "weighted avg       0.89      0.91      0.89      4957\n",
      "\n",
      "the gradient descent, Accuracy Score: 0.9055880572927174\n"
     ]
    }
   ],
   "source": [
    "model_sgdc1 = SGDClassifier().fit(X_train_tfsenti,y_train)\n",
    "y_preds = model_sgdc1.predict(X_test_tfsenti)\n",
    "\n",
    "report = classification_report( y_test, y_preds )\n",
    "print(report)\n",
    "acc6 = accuracy_score(y_test,y_preds)\n",
    "print(\"the gradient descent, Accuracy Score:\" , acc6)"
   ]
  },
  {
   "cell_type": "markdown",
   "id": "7c79d213",
   "metadata": {},
   "source": [
    "### Comparisson of accuracies"
   ]
  },
  {
   "cell_type": "code",
   "execution_count": 42,
   "id": "2a17e3f8",
   "metadata": {},
   "outputs": [
    {
     "data": {
      "image/png": "[encoded data removed]",
      "text/plain": [
       "<Figure size 432x288 with 1 Axes>"
      ]
     },
     "metadata": {
      "needs_background": "light"
     },
     "output_type": "display_data"
    }
   ],
   "source": [
    "objects1 = ('Logistic regression', 'RandomForest', 'linear svc', 'Kneighbors', 'naive bayes', 'gradient descent')\n",
    "algorithm = np.arange(len(objects1))\n",
    "performance = [acc1,acc2,acc3,acc4,acc5,acc6]\n",
    "plt.bar(algorithm, performance, align='center', alpha=0.8, color='orange')\n",
    "plt.bar_label(barplot, labels=performance, label_type=\"center\", rotation=90)\n",
    "plt.xticks(algorithm, objects1, rotation=60)\n",
    "plt.ylabel('Accuracy')\n",
    "plt.title('Algorithm Comparision for tf-idf & sentiment features')\n",
    "plt.show()\n"
   ]
  },
  {
   "cell_type": "markdown",
   "id": "64a65b58",
   "metadata": {},
   "source": [
    "## Compare algorithms with all 3 feature sets"
   ]
  },
  {
   "cell_type": "code",
   "execution_count": 43,
   "id": "83bc0700",
   "metadata": {},
   "outputs": [
    {
     "data": {
      "text/plain": [
       "array([[ 0.,  0.,  0., ..., 53., 10., 10.],\n",
       "       [ 0.,  0.,  0., ..., 52., 12., 11.],\n",
       "       [ 0.,  0.,  0., ..., 48., 10.,  9.],\n",
       "       ...,\n",
       "       [ 0.,  0.,  0., ..., 51., 10., 10.],\n",
       "       [ 0.,  0.,  0., ..., 30.,  6.,  6.],\n",
       "       [ 0.,  0.,  0., ..., 77., 13., 13.]])"
      ]
     },
     "execution_count": 43,
     "metadata": {},
     "output_type": "execute_result"
    }
   ],
   "source": [
    "tfidf_senti_addi = np.concatenate([tfidf_a,sentiment_features,addifeatures],axis=1)\n",
    "tfidf_senti_addi"
   ]
  },
  {
   "cell_type": "code",
   "execution_count": 44,
   "id": "fd47771c",
   "metadata": {},
   "outputs": [],
   "source": [
    "X = pd.DataFrame(tfidf_senti_addi)\n",
    "y = hate_df['class'].astype(int)\n",
    "X_train_all, X_test_all, y_train, y_test = train_test_split(X, y, random_state=42, test_size=0.2)"
   ]
  },
  {
   "cell_type": "markdown",
   "id": "bfe870c4",
   "metadata": {},
   "source": [
    "## 1: Logistic Regression"
   ]
  },
  {
   "cell_type": "code",
   "execution_count": 45,
   "id": "26f8cbf3",
   "metadata": {},
   "outputs": [
    {
     "name": "stdout",
     "output_type": "stream",
     "text": [
      "              precision    recall  f1-score   support\n",
      "\n",
      "           0       0.00      0.00      0.00       290\n",
      "           1       0.83      0.96      0.89      3832\n",
      "           2       0.64      0.39      0.49       835\n",
      "\n",
      "    accuracy                           0.81      4957\n",
      "   macro avg       0.49      0.45      0.46      4957\n",
      "weighted avg       0.75      0.81      0.77      4957\n",
      "\n",
      "Logistic Regression, Accuracy Score: 0.8079483558603995\n"
     ]
    }
   ],
   "source": [
    "model_lr2 =  LogisticRegression().fit(X_train_all,y_train)\n",
    "y_preds = model_lr2.predict(X_test_all)\n",
    "\n",
    "report = classification_report( y_test, y_preds )\n",
    "print(report)\n",
    "acc1=accuracy_score(y_test,y_preds)\n",
    "print(\"Logistic Regression, Accuracy Score:\" , acc1)"
   ]
  },
  {
   "cell_type": "markdown",
   "id": "828a820c",
   "metadata": {},
   "source": [
    "## 2: Random Fores"
   ]
  },
  {
   "cell_type": "code",
   "execution_count": 46,
   "id": "a0e42f90",
   "metadata": {},
   "outputs": [
    {
     "name": "stdout",
     "output_type": "stream",
     "text": [
      "              precision    recall  f1-score   support\n",
      "\n",
      "           0       0.49      0.08      0.14       290\n",
      "           1       0.89      0.98      0.93      3832\n",
      "           2       0.87      0.76      0.81       835\n",
      "\n",
      "    accuracy                           0.89      4957\n",
      "   macro avg       0.75      0.60      0.63      4957\n",
      "weighted avg       0.87      0.89      0.87      4957\n",
      "\n",
      "Random Forest, Accuracy Score: 0.8864232398628202\n"
     ]
    }
   ],
   "source": [
    "model_rf2 = RandomForestClassifier().fit(X_train_all,y_train)\n",
    "y_preds = model_rf2.predict(X_test_all)\n",
    "\n",
    "report = classification_report( y_test, y_preds )\n",
    "print(report)\n",
    "acc2 = accuracy_score(y_test,y_preds)\n",
    "print(\"Random Forest, Accuracy Score:\" , acc2)"
   ]
  },
  {
   "cell_type": "markdown",
   "id": "3451ea1b",
   "metadata": {},
   "source": [
    "## 3: Linear SVC"
   ]
  },
  {
   "cell_type": "code",
   "execution_count": 47,
   "id": "f4c71d86",
   "metadata": {},
   "outputs": [
    {
     "name": "stdout",
     "output_type": "stream",
     "text": [
      "              precision    recall  f1-score   support\n",
      "\n",
      "           0       0.51      0.08      0.14       290\n",
      "           1       0.88      0.98      0.92      3832\n",
      "           2       0.86      0.65      0.74       835\n",
      "\n",
      "    accuracy                           0.87      4957\n",
      "   macro avg       0.75      0.57      0.60      4957\n",
      "weighted avg       0.85      0.87      0.85      4957\n",
      "\n",
      "Linear SVC, Accuracy Score: 0.8694775065563849\n"
     ]
    }
   ],
   "source": [
    "model_lsvc2 = LinearSVC().fit(X_train_all,y_train)\n",
    "y_preds = model_lsvc2.predict(X_test_all)\n",
    "\n",
    "report = classification_report( y_test, y_preds )\n",
    "print(report)\n",
    "acc3 = accuracy_score(y_test,y_preds)\n",
    "print(\"Linear SVC, Accuracy Score:\" , acc3)"
   ]
  },
  {
   "cell_type": "markdown",
   "id": "c9451e11",
   "metadata": {},
   "source": [
    "## 4: K neighbors classifier"
   ]
  },
  {
   "cell_type": "code",
   "execution_count": 48,
   "id": "748c558d",
   "metadata": {},
   "outputs": [
    {
     "name": "stdout",
     "output_type": "stream",
     "text": [
      "              precision    recall  f1-score   support\n",
      "\n",
      "           0       0.15      0.05      0.07       290\n",
      "           1       0.81      0.93      0.87      3832\n",
      "           2       0.49      0.26      0.34       835\n",
      "\n",
      "    accuracy                           0.77      4957\n",
      "   macro avg       0.48      0.41      0.43      4957\n",
      "weighted avg       0.72      0.77      0.73      4957\n",
      "\n",
      "K neighbours classifier, Accuracy Score: 0.7680048416380876\n"
     ]
    }
   ],
   "source": [
    "model_kn2 = KNeighborsClassifier().fit(X_train_all,y_train)\n",
    "y_preds = model_kn2.predict(X_test_all)\n",
    "\n",
    "report = classification_report( y_test, y_preds )\n",
    "print(report)\n",
    "acc4 = accuracy_score(y_test,y_preds)\n",
    "print(\"K neighbours classifier, Accuracy Score:\" , acc4)"
   ]
  },
  {
   "cell_type": "markdown",
   "id": "15576802",
   "metadata": {},
   "source": [
    "## 5: Naive Bayes"
   ]
  },
  {
   "cell_type": "code",
   "execution_count": 49,
   "id": "4a67f7ed",
   "metadata": {},
   "outputs": [
    {
     "name": "stdout",
     "output_type": "stream",
     "text": [
      "              precision    recall  f1-score   support\n",
      "\n",
      "           0       0.11      0.38      0.17       290\n",
      "           1       0.89      0.70      0.79      3832\n",
      "           2       0.56      0.61      0.58       835\n",
      "\n",
      "    accuracy                           0.67      4957\n",
      "   macro avg       0.52      0.56      0.51      4957\n",
      "weighted avg       0.79      0.67      0.71      4957\n",
      "\n",
      "Naive bayes, Accuracy Score: 0.6677425862416785\n"
     ]
    }
   ],
   "source": [
    "model_nb2 = GaussianNB().fit(X_train_all,y_train)\n",
    "y_preds = model_nb2.predict(X_test_all)\n",
    "\n",
    "report = classification_report( y_test, y_preds )\n",
    "print(report)\n",
    "acc5 = accuracy_score(y_test,y_preds)\n",
    "print(\"Naive bayes, Accuracy Score:\" , acc5)"
   ]
  },
  {
   "cell_type": "markdown",
   "id": "61bf60aa",
   "metadata": {},
   "source": [
    "## 6: Gradient Descent"
   ]
  },
  {
   "cell_type": "code",
   "execution_count": 50,
   "id": "0d2a0f78",
   "metadata": {},
   "outputs": [
    {
     "name": "stdout",
     "output_type": "stream",
     "text": [
      "              precision    recall  f1-score   support\n",
      "\n",
      "           0       0.27      0.01      0.03       290\n",
      "           1       0.88      0.94      0.91      3832\n",
      "           2       0.70      0.71      0.70       835\n",
      "\n",
      "    accuracy                           0.85      4957\n",
      "   macro avg       0.62      0.55      0.55      4957\n",
      "weighted avg       0.81      0.85      0.82      4957\n",
      "\n",
      "gradient descent, Accuracy Score: 0.8482953399233407\n"
     ]
    }
   ],
   "source": [
    "model_sgdc2 = SGDClassifier().fit(X_train_all,y_train)\n",
    "y_preds = model_sgdc2.predict(X_test_all)\n",
    "\n",
    "report = classification_report( y_test, y_preds )\n",
    "print(report)\n",
    "acc6 = accuracy_score(y_test,y_preds)\n",
    "print(\"gradient descent, Accuracy Score:\" , acc6)"
   ]
  },
  {
   "cell_type": "code",
   "execution_count": 51,
   "id": "7fbb634e",
   "metadata": {},
   "outputs": [
    {
     "data": {
      "image/png": "[encoded data removed]",
      "text/plain": [
       "<Figure size 432x288 with 1 Axes>"
      ]
     },
     "metadata": {
      "needs_background": "light"
     },
     "output_type": "display_data"
    }
   ],
   "source": [
    "fig, ax = plt.subplots()\n",
    "objects2 = ('Logistic regression', 'RandomForest', 'linear svc', 'Kneighbors', 'naive bayes', 'gradient descent')\n",
    "algorithm = np.arange(len(objects2))\n",
    "performance = [acc1,acc2,acc3,acc4,acc5,acc6]\n",
    "barplot = plt.bar(algorithm, performance, align='center', alpha=1, color='pink')\n",
    "plt.bar_label(barplot, labels=performance, label_type=\"center\", rotation=90)\n",
    "plt.xticks(algorithm, objects2, rotation=60)\n",
    "plt.ylabel('Accuracy')\n",
    "plt.title('Algorithm Comparision for tf-idf & sentiment features')\n",
    "plt.show()"
   ]
  },
  {
   "cell_type": "code",
   "execution_count": null,
   "id": "aae9111c",
   "metadata": {},
   "outputs": [],
   "source": []
  }
 ],
 "metadata": {
  "kernelspec": {
   "display_name": "Python 3 (ipykernel)",
   "language": "python",
   "name": "python3"
  },
  "language_info": {
   "codemirror_mode": {
    "name": "ipython",
    "version": 3
   },
   "file_extension": ".py",
   "mimetype": "text/x-python",
   "name": "python",
   "nbconvert_exporter": "python",
   "pygments_lexer": "ipython3",
   "version": "3.9.12"
  }
 },
 "nbformat": 4,
 "nbformat_minor": 5
}
